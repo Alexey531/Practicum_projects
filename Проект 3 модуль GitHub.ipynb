{
 "cells": [
   {
   "cell_type": "markdown",
   "id": "_E41Wr5fqnFT",
   "metadata": {
    "id": "_E41Wr5fqnFT"
   },
   "source": [
    "# Часть 1. Проверка гипотезы в Python и составление аналитической записки"
   ]
  },
  {
   "cell_type": "markdown",
   "id": "Z5_6nf-FrY7o",
   "metadata": {
    "id": "Z5_6nf-FrY7o"
   },
   "source": [
    "Данные пользователей из Москвы и Санкт-Петербурга c суммой часов их активности из файла yandex_knigi_data.csv.\n",
    "\n",
    "Проверить наличие дубликатов в идентификаторах пользователей. Сравните размеры групп, их статистики и распределение.\n",
    "\n",
    "Гипотеза: пользователи из Москвы проводят в среднем больше времени за чтением и прослушиванием книг в приложении, чем пользователи из Москвы. Статистически это доказать, используя одностороннюю проверку гипотезы с двумя выборками:\n",
    "\n",
    "Нулевая гипотеза $H_0: \\mu_{\\text{СПб}} \\leq \\mu_{\\text{Москва}}$ <br> Среднее время активности пользователей в Санкт-Петербурге не больше, чем в Москве.\n",
    "\n",
    "Альтернативная гипотеза $H_1: \\mu_{\\text{СПб}} > \\mu_{\\text{Москва}}$ <br> Среднее время активности пользователей в Санкт-Петербурге больше, и это различие статистически значимо.\n",
    "\n",
    "По результатам анализа данных подготовить аналитическую записку, в которой написать:\n",
    "\n",
    "Выбранный тип t-теста и уровень статистической значимости.\n",
    "\n",
    "Результат теста, или p-value.\n",
    "\n",
    "Вывод на основе полученного p-value, то есть интерпретацию результатов.\n",
    "\n",
    "Одну или две возможные причины, объясняющие полученные результаты."
   ]
  },
  {
   "cell_type": "markdown",
   "id": "e06910dd",
   "metadata": {
    "id": "e06910dd"
   },
   "source": [
    "## Напишите заголовок первой части проекта здесь\n",
    "\n",
    "- Автор: Дударев Алексей Андреевич\n",
    "- Дата: 01.05.2025"
   ]
  },
  {
   "cell_type": "markdown",
   "id": "4149134c",
   "metadata": {
    "id": "4149134c"
   },
   "source": [
    "## Цели и задачи проекта\n",
    "\n",
    "<font color='#777778'> \n",
    "    \n",
    "    Цель: Проверить гипотезу, что пользователи из Санкт-Петербурга проводят в среднем больше времени за чтением и прослушиванием книг в приложении, чем пользователи из Москвы. Составить аналитическую записку.  \n",
    "    Задачи:  \n",
    "    Неободимо проверить наличие дубликатов в идентификаторах пользователей. Сравните размеры групп и их статистики.   \n",
    "    Выбрать тип t-теста и уровень статистической значимости.  \n",
    "    Провести тест - вывести ввиде результатов теста, или p-value.  \n",
    "    Подготовить аналитическую записку с описанием почему выбран тот или иной тест, результаты теста.  \n",
    "    Вывод на основе полученного p-value, то есть интерпретацию результатов.  \n",
    "    Одну или две возможные причины, объясняющие полученные результаты.  \n",
    "    Основная метрика: Среднее время активности пользователей.   \n",
    "    Группа А - Москва.  \n",
    "    Группа Б - Санкт-Петербург.  \n",
    "    С целью сравнения двух выборок будем использовать Двухвыборочный t-тест.\n",
    "    \n",
    "    В этом блоке перечислите цель проекта и те задачи, которые вы решаете. Можно использовать описания проекта, но будет полезно, если вы сформулируете основную цель проекта самостоятельно.</font>"
   ]
  },
  {
   "cell_type": "markdown",
   "id": "728986ea",
   "metadata": {
    "id": "728986ea"
   },
   "source": [
    "## Описание данных\n",
    "\n",
    "<font color='#777778'>\n",
    "\n",
    "    `city` — город пользователя;\n",
    "    `puid` — идентификатор пользователя;\n",
    "    `hours` — общее количество часов активности\n",
    "\n",
    "</font>"
   ]
  },
  {
   "cell_type": "markdown",
   "id": "4fecaf95",
   "metadata": {
    "id": "4fecaf95"
   },
   "source": [
    "## Содержимое проекта\n",
    "\n",
    "<font color='#777778'>Перечислите основные шаги проекта или напишите оглавление. Используйте описание проекта, чтобы зафиксировать основные шаги.  \n",
    "</font>\n",
    "Для начала загрузим данные и проверим их на дубликаты.  \n",
    "Исследуем имеющиеся выборки на нормальное распределени.  \n",
    "Проверим данные на выбросы.  \n",
    "Высчитаем основные метрики.  \n",
    "Проверим выборки статистическим тестом на соответствие гипотезе.  \n",
    "\n",
    "---"
   ]
  },
  {
   "cell_type": "markdown",
   "id": "6f7d21d6",
   "metadata": {
    "id": "6f7d21d6"
   },
   "source": [
    "## 1. Загрузка данных и знакомство с ними\n",
    "\n",
    "Загрузите данные пользователей из Москвы и Санкт-Петербурга c их активностью (суммой часов чтения и прослушивания) из файла `/datasets/yandex_knigi_data.csv`."
   ]
  },
  {
   "cell_type": "code",
   "execution_count": 1,
   "id": "05faf34b",
   "metadata": {
    "id": "05faf34b"
   },
   "outputs": [],
   "source": [
    "# Пустые ячейки после каждого задания — примерное пространство для работы.\n",
    "# Вы можете свободно добавлять или удалять ячейки по своему усмотрению в зависимости от логики и объёма работы.\n",
    "import pandas as pd\n",
    "import matplotlib.pyplot as plt\n",
    "import numpy as np\n",
    "import os\n",
    "from scipy.stats import ttest_ind\n",
    "from scipy.stats import mannwhitneyu\n",
    "from statsmodels.stats.power import NormalIndPower\n",
    "from statsmodels.stats.proportion import proportions_ztest"
   ]
  },
  {
   "cell_type": "code",
   "execution_count": 2,
   "id": "945d6f61",
   "metadata": {},
   "outputs": [],
   "source": [
    "pth1 = '/datasets/yandex_knigi_data.csv'\n",
    "pth2 = 'yandex_knigi_data.csv'\n",
    "if os.path.exists(pth1):\n",
    "    yandex_knigi_data = pd.read_csv(pth1)\n",
    "elif os.path.exists(pth2):\n",
    "    yandex_knigi_data = pd.read_csv(pth2)\n",
    "else:\n",
    "    print('Something is wrong')"
   ]
  },
  {
   "cell_type": "code",
   "execution_count": 3,
   "id": "f68a7419",
   "metadata": {
    "id": "f68a7419"
   },
   "outputs": [
    {
     "data": {
      "text/html": [
       "<div>\n",
       "<style scoped>\n",
       "    .dataframe tbody tr th:only-of-type {\n",
       "        vertical-align: middle;\n",
       "    }\n",
       "\n",
       "    .dataframe tbody tr th {\n",
       "        vertical-align: top;\n",
       "    }\n",
       "\n",
       "    .dataframe thead th {\n",
       "        text-align: right;\n",
       "    }\n",
       "</style>\n",
       "<table border=\"1\" class=\"dataframe\">\n",
       "  <thead>\n",
       "    <tr style=\"text-align: right;\">\n",
       "      <th></th>\n",
       "      <th>Unnamed: 0</th>\n",
       "      <th>city</th>\n",
       "      <th>puid</th>\n",
       "      <th>hours</th>\n",
       "    </tr>\n",
       "  </thead>\n",
       "  <tbody>\n",
       "    <tr>\n",
       "      <th>0</th>\n",
       "      <td>0</td>\n",
       "      <td>Москва</td>\n",
       "      <td>9668</td>\n",
       "      <td>26.167776</td>\n",
       "    </tr>\n",
       "    <tr>\n",
       "      <th>1</th>\n",
       "      <td>1</td>\n",
       "      <td>Москва</td>\n",
       "      <td>16598</td>\n",
       "      <td>82.111217</td>\n",
       "    </tr>\n",
       "    <tr>\n",
       "      <th>2</th>\n",
       "      <td>2</td>\n",
       "      <td>Москва</td>\n",
       "      <td>80401</td>\n",
       "      <td>4.656906</td>\n",
       "    </tr>\n",
       "    <tr>\n",
       "      <th>3</th>\n",
       "      <td>3</td>\n",
       "      <td>Москва</td>\n",
       "      <td>140205</td>\n",
       "      <td>1.840556</td>\n",
       "    </tr>\n",
       "    <tr>\n",
       "      <th>4</th>\n",
       "      <td>4</td>\n",
       "      <td>Москва</td>\n",
       "      <td>248755</td>\n",
       "      <td>151.326434</td>\n",
       "    </tr>\n",
       "    <tr>\n",
       "      <th>...</th>\n",
       "      <td>...</td>\n",
       "      <td>...</td>\n",
       "      <td>...</td>\n",
       "      <td>...</td>\n",
       "    </tr>\n",
       "    <tr>\n",
       "      <th>8779</th>\n",
       "      <td>8779</td>\n",
       "      <td>Санкт-Петербург</td>\n",
       "      <td>1130000028554332</td>\n",
       "      <td>4.107774</td>\n",
       "    </tr>\n",
       "    <tr>\n",
       "      <th>8780</th>\n",
       "      <td>8780</td>\n",
       "      <td>Санкт-Петербург</td>\n",
       "      <td>1130000030307246</td>\n",
       "      <td>45.069222</td>\n",
       "    </tr>\n",
       "    <tr>\n",
       "      <th>8781</th>\n",
       "      <td>8781</td>\n",
       "      <td>Санкт-Петербург</td>\n",
       "      <td>1130000038726322</td>\n",
       "      <td>0.211944</td>\n",
       "    </tr>\n",
       "    <tr>\n",
       "      <th>8782</th>\n",
       "      <td>8782</td>\n",
       "      <td>Санкт-Петербург</td>\n",
       "      <td>1130000047892100</td>\n",
       "      <td>4.311841</td>\n",
       "    </tr>\n",
       "    <tr>\n",
       "      <th>8783</th>\n",
       "      <td>8783</td>\n",
       "      <td>Санкт-Петербург</td>\n",
       "      <td>1130000061443598</td>\n",
       "      <td>20.847222</td>\n",
       "    </tr>\n",
       "  </tbody>\n",
       "</table>\n",
       "<p>8784 rows × 4 columns</p>\n",
       "</div>"
      ],
      "text/plain": [
       "      Unnamed: 0             city              puid       hours\n",
       "0              0           Москва              9668   26.167776\n",
       "1              1           Москва             16598   82.111217\n",
       "2              2           Москва             80401    4.656906\n",
       "3              3           Москва            140205    1.840556\n",
       "4              4           Москва            248755  151.326434\n",
       "...          ...              ...               ...         ...\n",
       "8779        8779  Санкт-Петербург  1130000028554332    4.107774\n",
       "8780        8780  Санкт-Петербург  1130000030307246   45.069222\n",
       "8781        8781  Санкт-Петербург  1130000038726322    0.211944\n",
       "8782        8782  Санкт-Петербург  1130000047892100    4.311841\n",
       "8783        8783  Санкт-Петербург  1130000061443598   20.847222\n",
       "\n",
       "[8784 rows x 4 columns]"
      ]
     },
     "execution_count": 3,
     "metadata": {},
     "output_type": "execute_result"
    }
   ],
   "source": [
    "yandex_knigi_data"
   ]
  },
  {
   "cell_type": "code",
   "execution_count": 4,
   "id": "2d31984b",
   "metadata": {},
   "outputs": [
    {
     "name": "stdout",
     "output_type": "stream",
     "text": [
      "<class 'pandas.core.frame.DataFrame'>\n",
      "RangeIndex: 8784 entries, 0 to 8783\n",
      "Data columns (total 4 columns):\n",
      " #   Column      Non-Null Count  Dtype  \n",
      "---  ------      --------------  -----  \n",
      " 0   Unnamed: 0  8784 non-null   int64  \n",
      " 1   city        8784 non-null   object \n",
      " 2   puid        8784 non-null   int64  \n",
      " 3   hours       8784 non-null   float64\n",
      "dtypes: float64(1), int64(2), object(1)\n",
      "memory usage: 274.6+ KB\n"
     ]
    }
   ],
   "source": [
    "yandex_knigi_data.info()"
   ]
  },
  {
   "cell_type": "code",
   "execution_count": 5,
   "id": "a2fb47af",
   "metadata": {},
   "outputs": [],
   "source": [
    "yandex_knigi_data=yandex_knigi_data.drop('Unnamed: 0', axis=1)"
   ]
  },
  {
   "cell_type": "code",
   "execution_count": 6,
   "id": "63d83dfa",
   "metadata": {},
   "outputs": [
    {
     "data": {
      "text/plain": [
       "city     0\n",
       "puid     0\n",
       "hours    0\n",
       "dtype: int64"
      ]
     },
     "execution_count": 6,
     "metadata": {},
     "output_type": "execute_result"
    }
   ],
   "source": [
    "yandex_knigi_data.isna().sum()"
   ]
  },
  {
   "cell_type": "code",
   "execution_count": 7,
   "id": "a2385a55",
   "metadata": {},
   "outputs": [
    {
     "data": {
      "text/plain": [
       "0"
      ]
     },
     "execution_count": 7,
     "metadata": {},
     "output_type": "execute_result"
    }
   ],
   "source": [
    "yandex_knigi_data.duplicated().sum()"
   ]
  },
  {
   "cell_type": "code",
   "execution_count": 8,
   "id": "92b912a3",
   "metadata": {},
   "outputs": [
    {
     "data": {
      "text/html": [
       "<div>\n",
       "<style scoped>\n",
       "    .dataframe tbody tr th:only-of-type {\n",
       "        vertical-align: middle;\n",
       "    }\n",
       "\n",
       "    .dataframe tbody tr th {\n",
       "        vertical-align: top;\n",
       "    }\n",
       "\n",
       "    .dataframe thead th {\n",
       "        text-align: right;\n",
       "    }\n",
       "</style>\n",
       "<table border=\"1\" class=\"dataframe\">\n",
       "  <thead>\n",
       "    <tr style=\"text-align: right;\">\n",
       "      <th></th>\n",
       "      <th>city</th>\n",
       "      <th>puid</th>\n",
       "      <th>hours</th>\n",
       "    </tr>\n",
       "  </thead>\n",
       "  <tbody>\n",
       "    <tr>\n",
       "      <th>35</th>\n",
       "      <td>Москва</td>\n",
       "      <td>2637041</td>\n",
       "      <td>10.317371</td>\n",
       "    </tr>\n",
       "    <tr>\n",
       "      <th>6247</th>\n",
       "      <td>Санкт-Петербург</td>\n",
       "      <td>2637041</td>\n",
       "      <td>3.883926</td>\n",
       "    </tr>\n",
       "    <tr>\n",
       "      <th>134</th>\n",
       "      <td>Москва</td>\n",
       "      <td>9979490</td>\n",
       "      <td>32.415573</td>\n",
       "    </tr>\n",
       "    <tr>\n",
       "      <th>6274</th>\n",
       "      <td>Санкт-Петербург</td>\n",
       "      <td>9979490</td>\n",
       "      <td>1.302997</td>\n",
       "    </tr>\n",
       "    <tr>\n",
       "      <th>145</th>\n",
       "      <td>Москва</td>\n",
       "      <td>10597984</td>\n",
       "      <td>42.931506</td>\n",
       "    </tr>\n",
       "    <tr>\n",
       "      <th>...</th>\n",
       "      <td>...</td>\n",
       "      <td>...</td>\n",
       "      <td>...</td>\n",
       "    </tr>\n",
       "    <tr>\n",
       "      <th>6195</th>\n",
       "      <td>Москва</td>\n",
       "      <td>1130000020425037</td>\n",
       "      <td>0.310556</td>\n",
       "    </tr>\n",
       "    <tr>\n",
       "      <th>8775</th>\n",
       "      <td>Санкт-Петербург</td>\n",
       "      <td>1130000023864516</td>\n",
       "      <td>14.384722</td>\n",
       "    </tr>\n",
       "    <tr>\n",
       "      <th>6202</th>\n",
       "      <td>Москва</td>\n",
       "      <td>1130000023864516</td>\n",
       "      <td>142.830085</td>\n",
       "    </tr>\n",
       "    <tr>\n",
       "      <th>6210</th>\n",
       "      <td>Москва</td>\n",
       "      <td>1130000028554332</td>\n",
       "      <td>11.277554</td>\n",
       "    </tr>\n",
       "    <tr>\n",
       "      <th>8779</th>\n",
       "      <td>Санкт-Петербург</td>\n",
       "      <td>1130000028554332</td>\n",
       "      <td>4.107774</td>\n",
       "    </tr>\n",
       "  </tbody>\n",
       "</table>\n",
       "<p>488 rows × 3 columns</p>\n",
       "</div>"
      ],
      "text/plain": [
       "                 city              puid       hours\n",
       "35             Москва           2637041   10.317371\n",
       "6247  Санкт-Петербург           2637041    3.883926\n",
       "134            Москва           9979490   32.415573\n",
       "6274  Санкт-Петербург           9979490    1.302997\n",
       "145            Москва          10597984   42.931506\n",
       "...               ...               ...         ...\n",
       "6195           Москва  1130000020425037    0.310556\n",
       "8775  Санкт-Петербург  1130000023864516   14.384722\n",
       "6202           Москва  1130000023864516  142.830085\n",
       "6210           Москва  1130000028554332   11.277554\n",
       "8779  Санкт-Петербург  1130000028554332    4.107774\n",
       "\n",
       "[488 rows x 3 columns]"
      ]
     },
     "execution_count": 8,
     "metadata": {},
     "output_type": "execute_result"
    }
   ],
   "source": [
    "# Выведем на экран все дубликаты\n",
    "duplicate_id = yandex_knigi_data[yandex_knigi_data.duplicated(subset='puid', keep=False)].sort_values('puid')\n",
    "duplicate_id"
   ]
  },
  {
   "cell_type": "code",
   "execution_count": 9,
   "id": "2968597f",
   "metadata": {},
   "outputs": [
    {
     "data": {
      "text/plain": [
       "5.555555555555555"
      ]
     },
     "execution_count": 9,
     "metadata": {},
     "output_type": "execute_result"
    }
   ],
   "source": [
    "# Вычислим процент данных\n",
    "100 * duplicate_id.shape[0] / (yandex_knigi_data['puid'].count())"
   ]
  },
  {
   "cell_type": "code",
   "execution_count": 10,
   "id": "427b52a7",
   "metadata": {},
   "outputs": [
    {
     "data": {
      "text/plain": [
       "2.857142857142857"
      ]
     },
     "execution_count": 10,
     "metadata": {},
     "output_type": "execute_result"
    }
   ],
   "source": [
    "# Сохраним id дублирующихся пользователей и посчитаем долю удаляемых id от всех пользователей пользователей\n",
    "puid_id=yandex_knigi_data[yandex_knigi_data.duplicated(subset='puid')]['puid'].to_list()\n",
    "100 * len(puid_id) / yandex_knigi_data['puid'].nunique()"
   ]
  },
  {
   "cell_type": "markdown",
   "id": "d92f0ee8",
   "metadata": {},
   "source": [
    "Мы выявили 488 дубликатов, около 6% от всех данных. Это 244 пользователя которые зарегистрированы и в Москве и в Санкт-Петербурге, что составляет около 3% от всех пользователей.\n",
    "Повторяющиеся значения могут быть как присвоение id каждому пользователю по городам, так и возможно, что пользователи при прослушивании находились то в Москве, то в Санкт-Петербурге. Так как для сравнения двух выборок одним из условий проверки нормального распределения среднего, является независимость выборки. Считаю необходимым избавиться от дубликатов."
   ]
  },
  {
   "cell_type": "code",
   "execution_count": 11,
   "id": "9fd14ec3",
   "metadata": {},
   "outputs": [],
   "source": [
    "# Удалим повторяющиеся id\n",
    "yandex_knigi_data = yandex_knigi_data.drop_duplicates(subset=['puid'], keep=False, ignore_index=True) "
   ]
  },
  {
   "cell_type": "code",
   "execution_count": 12,
   "id": "6fdde647",
   "metadata": {},
   "outputs": [
    {
     "data": {
      "text/plain": [
       "(5990, 2306)"
      ]
     },
     "execution_count": 12,
     "metadata": {},
     "output_type": "execute_result"
    }
   ],
   "source": [
    "# Количество уникальных пользователей в каждой из экспериментальных групп для одного дня наблюдения\n",
    "yandex_knigi_data[yandex_knigi_data['city'] == 'Москва']['puid'].nunique(), yandex_knigi_data[yandex_knigi_data['city'] == 'Санкт-Петербург']['puid'].nunique()"
   ]
  },
  {
   "cell_type": "code",
   "execution_count": 13,
   "id": "130dc762",
   "metadata": {},
   "outputs": [
    {
     "data": {
      "text/plain": [
       "61.502504173622704"
      ]
     },
     "execution_count": 13,
     "metadata": {},
     "output_type": "execute_result"
    }
   ],
   "source": [
    "# Процентная разница в количестве пользователей в группах A и B\n",
    "percent_difference_test_group= 100 * abs(yandex_knigi_data[yandex_knigi_data['city'] == 'Москва']['puid'].nunique(\n",
    "        ) - yandex_knigi_data[yandex_knigi_data['city'] == 'Санкт-Петербург']['puid'].nunique(\n",
    "        )) / yandex_knigi_data[yandex_knigi_data['city'] == 'Москва']['puid'].nunique()\n",
    "percent_difference_test_group"
   ]
  },
  {
   "cell_type": "code",
   "execution_count": 14,
   "id": "044bb96d",
   "metadata": {},
   "outputs": [
    {
     "data": {
      "text/plain": [
       "(72.20347155255544, 27.79652844744455)"
      ]
     },
     "execution_count": 14,
     "metadata": {},
     "output_type": "execute_result"
    }
   ],
   "source": [
    "# Процентное распределение\n",
    "100 * yandex_knigi_data[yandex_knigi_data['city'] == 'Москва']['puid'].nunique(\n",
    "        ) / yandex_knigi_data['puid'].nunique(\n",
    "        ), 100 * yandex_knigi_data[yandex_knigi_data['city'] == 'Санкт-Петербург']['puid'].nunique(\n",
    "        ) / yandex_knigi_data['puid'].nunique()"
   ]
  },
  {
   "cell_type": "code",
   "execution_count": 15,
   "id": "d717c699",
   "metadata": {},
   "outputs": [
    {
     "data": {
      "text/html": [
       "<div>\n",
       "<style scoped>\n",
       "    .dataframe tbody tr th:only-of-type {\n",
       "        vertical-align: middle;\n",
       "    }\n",
       "\n",
       "    .dataframe tbody tr th {\n",
       "        vertical-align: top;\n",
       "    }\n",
       "\n",
       "    .dataframe thead th {\n",
       "        text-align: right;\n",
       "    }\n",
       "</style>\n",
       "<table border=\"1\" class=\"dataframe\">\n",
       "  <thead>\n",
       "    <tr style=\"text-align: right;\">\n",
       "      <th>city</th>\n",
       "      <th>Москва</th>\n",
       "      <th>Санкт-Петербург</th>\n",
       "    </tr>\n",
       "  </thead>\n",
       "  <tbody>\n",
       "    <tr>\n",
       "      <th>hours</th>\n",
       "      <td>10.848192</td>\n",
       "      <td>11.264433</td>\n",
       "    </tr>\n",
       "  </tbody>\n",
       "</table>\n",
       "</div>"
      ],
      "text/plain": [
       "city      Москва  Санкт-Петербург\n",
       "hours  10.848192        11.264433"
      ]
     },
     "execution_count": 15,
     "metadata": {},
     "output_type": "execute_result"
    }
   ],
   "source": [
    "metrics = yandex_knigi_data.set_index('city').groupby('city').agg({'hours': np.mean}).T\n",
    "metrics"
   ]
  },
  {
   "cell_type": "code",
   "execution_count": 16,
   "id": "26068e89",
   "metadata": {},
   "outputs": [
    {
     "data": {
      "image/png": "[encoded data removed]",
      "text/plain": [
       "<Figure size 504x216 with 1 Axes>"
      ]
     },
     "metadata": {
      "needs_background": "light"
     },
     "output_type": "display_data"
    }
   ],
   "source": [
    "# Проверим данные на аномалии и выбросы\n",
    "plt.figure(figsize=(7, 3))\n",
    "\n",
    "# Строим гистограмму с помощью pandas через plot(kind='hist')\n",
    "yandex_knigi_data['hours'].plot(\n",
    "                kind='hist', # Тип графика — гистограмма\n",
    "                bins=50, # Устанавливаем количество корзин\n",
    "                alpha=0.75,\n",
    "                edgecolor='black',\n",
    ")\n",
    "\n",
    "# Настраиваем оформление графика\n",
    "plt.title('Распределение количества часов на пользователя')\n",
    "plt.xlabel('Количество часов')\n",
    "plt.ylabel('Пользователи')\n",
    "\n",
    "# Добавляем сетку графика\n",
    "plt.grid()\n",
    "\n",
    "# Выводим график\n",
    "plt.show() "
   ]
  },
  {
   "cell_type": "code",
   "execution_count": 17,
   "id": "b7c5ea11",
   "metadata": {},
   "outputs": [
    {
     "data": {
      "image/png": "[encoded data removed]",
      "text/plain": [
       "<Figure size 1224x144 with 1 Axes>"
      ]
     },
     "metadata": {
      "needs_background": "light"
     },
     "output_type": "display_data"
    }
   ],
   "source": [
    "# Создаём контейнер графика matplotlib и задаём его размер\n",
    "plt.figure(figsize=(17, 2))\n",
    "\n",
    "# Строим диаграмму размаха значений в столбце balance\n",
    "yandex_knigi_data.boxplot(column='hours', vert=False)\n",
    "\n",
    "# Добавляем заголовок и метки оси\n",
    "plt.title('Распределение количества часов на пользователя')\n",
    "plt.xlabel('Количество часов')\n",
    "\n",
    "# Выводим график\n",
    "plt.show()"
   ]
  },
  {
   "cell_type": "code",
   "execution_count": 18,
   "id": "e326068e",
   "metadata": {},
   "outputs": [
    {
     "data": {
      "text/plain": [
       "count    8296.000000\n",
       "mean       10.963892\n",
       "std        37.753906\n",
       "min         0.000022\n",
       "25%         0.057493\n",
       "50%         0.884214\n",
       "75%         5.944675\n",
       "max       978.764775\n",
       "Name: hours, dtype: float64"
      ]
     },
     "execution_count": 18,
     "metadata": {},
     "output_type": "execute_result"
    }
   ],
   "source": [
    "yandex_knigi_data['hours'].describe()"
   ]
  },
  {
   "cell_type": "code",
   "execution_count": 30,
   "id": "c8cf506b",
   "metadata": {},
   "outputs": [
    {
     "data": {
      "image/png": "[encoded data removed]",
      "text/plain": [
       "<Figure size 720x288 with 1 Axes>"
      ]
     },
     "metadata": {
      "needs_background": "light"
     },
     "output_type": "display_data"
    }
   ],
   "source": [
    "# Строим гистограмму распределения значений возраста\n",
    "# Создаём фигуру графика\n",
    "plt.figure(figsize=(10, 4))\n",
    "\n",
    "# Строим гистограммы для каждого города\n",
    "for i in yandex_knigi_data['city'].unique():\n",
    "    # Фильтруем данные по городу\n",
    "    yandex_knigi_data.loc[yandex_knigi_data['city'] == i, 'hours'].plot(\n",
    "        kind='hist',\n",
    "        density=True,\n",
    "        bins=37,\n",
    "        alpha=0.5,\n",
    "        label=f'{i}',\n",
    "        legend=True\n",
    "    )\n",
    "\n",
    "# Настраиваем внешний вид графика и выводим его на экран\n",
    "plt.title(f'Сравнение распределение количаства часов от города')\n",
    "plt.xlabel('Количество часов прослушивания')\n",
    "plt.ylabel('Плотность вероятности')\n",
    "plt.legend(title='Город')\n",
    "plt.show()"
   ]
  },
  {
   "cell_type": "markdown",
   "id": "d1a152b0",
   "metadata": {},
   "source": [
    "В теории прослушивание или чтение книг 0,000022 часа крайне мало для нормального распределения. С учетом того что первый квартиль = 0,06 часа (около 4 минут) это может значить о крайне малом использовании платформы. Что может говорить о выбросах в тестируемых группах (не о постоянных клиентах платформы). В правой части гистограммы также имеются выбросы, правосторонний хвост в нашем случае не является явным выбросом, однако с такими данными расчеты среднего могут сместиться в сторону больших значений.  В таком случае ограничим наши данные 1 и 3 квартилем и продолжим анализ данных для дальнейшей оценки гипотезы с помощью t-теста (Т-тест или тест Уэлча)? Как альтернативное решение предлагаю выполнить тест Манна - Уитни."
   ]
  },
  {
   "cell_type": "code",
   "execution_count": 19,
   "id": "402b86be",
   "metadata": {},
   "outputs": [],
   "source": [
    "cleaned_knigi_data=yandex_knigi_data[(yandex_knigi_data[\n",
    "    'hours'] <= yandex_knigi_data['hours'].quantile(0.75)) & (yandex_knigi_data[\n",
    "    'hours'] >= yandex_knigi_data['hours'].quantile(0.25))]"
   ]
  },
  {
   "cell_type": "code",
   "execution_count": 20,
   "id": "e1698d21",
   "metadata": {},
   "outputs": [
    {
     "data": {
      "image/png": "[encoded data removed]",
      "text/plain": [
       "<Figure size 504x216 with 1 Axes>"
      ]
     },
     "metadata": {
      "needs_background": "light"
     },
     "output_type": "display_data"
    }
   ],
   "source": [
    "plt.figure(figsize=(7, 3))\n",
    "\n",
    "# Строим гистограмму с помощью pandas через plot(kind='hist')\n",
    "cleaned_knigi_data['hours'].plot(\n",
    "                kind='hist', # Тип графика - гистограмма\n",
    "                bins=30\n",
    "    , # Устанавливаем количество корзин\n",
    "                alpha=0.75,\n",
    "                edgecolor='black',\n",
    ")\n",
    "\n",
    "# Настраиваем оформление графика\n",
    "plt.title('Распределение количества часов на пользователя')\n",
    "plt.xlabel('Количество часов')\n",
    "plt.ylabel('пользователи')\n",
    "\n",
    "# Добавляем сетку графика\n",
    "plt.grid()\n",
    "\n",
    "# Выводим график\n",
    "plt.show() \n"
   ]
  },
  {
   "cell_type": "code",
   "execution_count": 21,
   "id": "29a57a55",
   "metadata": {},
   "outputs": [
    {
     "data": {
      "text/plain": [
       "count    4148.000000\n",
       "mean        1.499866\n",
       "std         1.538307\n",
       "min         0.057500\n",
       "25%         0.292670\n",
       "50%         0.884214\n",
       "75%         2.332459\n",
       "max         5.940298\n",
       "Name: hours, dtype: float64"
      ]
     },
     "execution_count": 21,
     "metadata": {},
     "output_type": "execute_result"
    }
   ],
   "source": [
    "cleaned_knigi_data['hours'].describe()"
   ]
  },
  {
   "cell_type": "code",
   "execution_count": 29,
   "id": "24d84aeb",
   "metadata": {},
   "outputs": [
    {
     "data": {
      "image/png": "[encoded data removed]",
      "text/plain": [
       "<Figure size 720x288 with 1 Axes>"
      ]
     },
     "metadata": {
      "needs_background": "light"
     },
     "output_type": "display_data"
    }
   ],
   "source": [
    "# Строим гистограмму распределения значений возраста\n",
    "# Создаём фигуру графика\n",
    "plt.figure(figsize=(10, 4))\n",
    "\n",
    "# Строим гистограммы для каждого города\n",
    "for i in cleaned_knigi_data['city'].unique():\n",
    "    # Фильтруем данные по городу\n",
    "    cleaned_knigi_data.loc[cleaned_knigi_data['city'] == i, 'hours'].plot(\n",
    "        kind='hist',\n",
    "        density=True,\n",
    "        bins=37,\n",
    "        alpha=0.5,\n",
    "        label=f'{i}',\n",
    "        legend=True\n",
    "    )\n",
    "\n",
    "# Настраиваем внешний вид графика и выводим его на экран\n",
    "plt.title(f'Сравнение распределение количаства часов от города')\n",
    "plt.xlabel('Количество часов прослушивания')\n",
    "plt.ylabel('Плотность вероятности')\n",
    "plt.legend(title='Город')\n",
    "plt.show()"
   ]
  },
  {
   "cell_type": "code",
   "execution_count": 22,
   "id": "31919056",
   "metadata": {},
   "outputs": [
    {
     "data": {
      "text/plain": [
       "(2994, 1154)"
      ]
     },
     "execution_count": 22,
     "metadata": {},
     "output_type": "execute_result"
    }
   ],
   "source": [
    "# Количество уникальных пользователей в каждой из экспериментальных групп для одного дня наблюдения\n",
    "cleaned_knigi_data[cleaned_knigi_data['city'] == 'Москва']['puid'].nunique(\n",
    "        ), cleaned_knigi_data[cleaned_knigi_data['city'] == 'Санкт-Петербург']['puid'].nunique()"
   ]
  },
  {
   "cell_type": "code",
   "execution_count": 23,
   "id": "562519c7",
   "metadata": {},
   "outputs": [
    {
     "data": {
      "text/plain": [
       "61.4562458249833"
      ]
     },
     "execution_count": 23,
     "metadata": {},
     "output_type": "execute_result"
    }
   ],
   "source": [
    "# Процентная разница в количестве пользователей в группах A и B\n",
    "percent_difference_test_group= 100 * abs(cleaned_knigi_data[cleaned_knigi_data['city'] == 'Москва']['puid'].nunique(\n",
    "        ) - cleaned_knigi_data[cleaned_knigi_data['city'] == 'Санкт-Петербург']['puid'].nunique(\n",
    "        )) / cleaned_knigi_data[cleaned_knigi_data['city'] == 'Москва']['puid'].nunique()\n",
    "percent_difference_test_group"
   ]
  },
  {
   "cell_type": "code",
   "execution_count": 24,
   "id": "859b8da6",
   "metadata": {},
   "outputs": [
    {
     "data": {
      "text/plain": [
       "(72.17936354869816, 27.820636451301834)"
      ]
     },
     "execution_count": 24,
     "metadata": {},
     "output_type": "execute_result"
    }
   ],
   "source": [
    "# Процентное распределение\n",
    "100 * cleaned_knigi_data[cleaned_knigi_data['city'] == 'Москва']['puid'].nunique(\n",
    "        ) / cleaned_knigi_data['puid'].nunique(\n",
    "        ), 100 * cleaned_knigi_data[cleaned_knigi_data['city'] == 'Санкт-Петербург']['puid'].nunique(\n",
    "        ) / cleaned_knigi_data['puid'].nunique()"
   ]
  },
  {
   "cell_type": "code",
   "execution_count": 25,
   "id": "8851509c",
   "metadata": {},
   "outputs": [
    {
     "data": {
      "text/html": [
       "<div>\n",
       "<style scoped>\n",
       "    .dataframe tbody tr th:only-of-type {\n",
       "        vertical-align: middle;\n",
       "    }\n",
       "\n",
       "    .dataframe tbody tr th {\n",
       "        vertical-align: top;\n",
       "    }\n",
       "\n",
       "    .dataframe thead th {\n",
       "        text-align: right;\n",
       "    }\n",
       "</style>\n",
       "<table border=\"1\" class=\"dataframe\">\n",
       "  <thead>\n",
       "    <tr style=\"text-align: right;\">\n",
       "      <th>city</th>\n",
       "      <th>Москва</th>\n",
       "      <th>Санкт-Петербург</th>\n",
       "    </tr>\n",
       "  </thead>\n",
       "  <tbody>\n",
       "    <tr>\n",
       "      <th>hours</th>\n",
       "      <td>1.512976</td>\n",
       "      <td>1.465851</td>\n",
       "    </tr>\n",
       "  </tbody>\n",
       "</table>\n",
       "</div>"
      ],
      "text/plain": [
       "city     Москва  Санкт-Петербург\n",
       "hours  1.512976         1.465851"
      ]
     },
     "execution_count": 25,
     "metadata": {},
     "output_type": "execute_result"
    }
   ],
   "source": [
    "metrics_cleaned = cleaned_knigi_data.set_index('city').groupby('city').agg({'hours': np.mean}).T\n",
    "metrics_cleaned "
   ]
  },
  {
   "cell_type": "markdown",
   "id": "acc8af56",
   "metadata": {},
   "source": [
    "Средние значения говорят о том что альтернативная гипотеза не подтверждается на нормальном распределении. Но для уверенности необходимо это проверить Т-тестом.  Так как разница в выборке около 60% используем тест Уэлча.  \n",
    "В связи с тем что до отчистки от выбросов средние значения метрики (среднее время за чтением и прослушиванием книг в приложении) в Москве было меньше, а после стало наоборот.  Чтобы избежать ошибок, проверим гипотезу двумя способами: очищенной от выбросов выборок тестом Уэлча и изначальной выборки с помощью теста Манна — Уитни.\n"
   ]
  },
  {
   "cell_type": "markdown",
   "id": "956e82e2",
   "metadata": {
    "id": "956e82e2"
   },
   "source": [
    "## 2. Проверка гипотезы в Python\n",
    "\n",
    "Гипотеза звучит так: пользователи из Санкт-Петербурга проводят в среднем больше времени за чтением и прослушиванием книг в приложении, чем пользователи из Москвы. Попробуйте статистически это доказать, используя одностороннюю проверку гипотезы с двумя выборками:\n",
    "\n",
    "- Нулевая гипотеза H₀: Средняя активность пользователей в часах в двух группах (Москва и Санкт-Петербург) не различается.\n",
    "\n",
    "- Альтернативная гипотеза H₁: Средняя активность пользователей в Санкт-Петербурге больше, и это различие статистически значимо."
   ]
  },
  {
   "cell_type": "markdown",
   "id": "5a530a13",
   "metadata": {},
   "source": [
    "Выберем уровень значимости 0,05 оптимальный для продуктовых и маркетинговых гипотез"
   ]
  },
  {
   "cell_type": "code",
   "execution_count": 26,
   "id": "afa771ef",
   "metadata": {},
   "outputs": [
    {
     "name": "stdout",
     "output_type": "stream",
     "text": [
      "p-value теста Уэлча =0.81\n",
      "Не получилось отвергнуть нулевую гипотезу! Выборочные средние в группах A и B равны.\n",
      "Интерпретация: пользователи из Санкт-Петербурга проводят столько же времени за чтением и прослушиванием книг в приложении, как и пользователи из Москвы\n"
     ]
    }
   ],
   "source": [
    "# Выборка часов проведенного в приложения жителями Москвы\n",
    "sample_a = cleaned_knigi_data[cleaned_knigi_data['city']=='Москва']['hours']\n",
    "# Выборка часов проведенного в приложения жителями Санкт-Петербурга\n",
    "sample_b = cleaned_knigi_data[cleaned_knigi_data['city']=='Санкт-Петербург']['hours']\n",
    "\n",
    "stat_welch_ttest, p_value_welch_ttest = ttest_ind(\n",
    "    sample_a,\n",
    "    sample_b,\n",
    "    equal_var=False,\n",
    "    alternative='less' # Альтернативная гипотеза, которую проверяем: mu_a < mu_b\n",
    ")\n",
    "# Фиксируем уровень значимости\n",
    "alpha = 0.05\n",
    "\n",
    "if p_value_welch_ttest>alpha:\n",
    "    print(f'p-value теста Уэлча ={round(p_value_welch_ttest, 2)}')\n",
    "    print('Не получилось отвергнуть нулевую гипотезу! Выборочные средние в группах A и B равны.')\n",
    "    print('Интерпретация: пользователи из Санкт-Петербурга проводят столько же времени за чтением и прослушиванием книг в приложении, как и пользователи из Москвы')\n",
    "else:\n",
    "    print(f'p-value теста Уэлча ={round(p_value_welch_ttest, 2)}')\n",
    "    print('Отвергаем нулевую гипотезу! Выборочные средние в группах A и B не равны, и в группе B больше.')\n",
    "    print('Интерпретация: пользователи из Санкт-Петербурга проводят в среднем больше времени за чтением и прослушиванием книг в приложении, чем пользователи из Москвы')"
   ]
  },
  {
   "cell_type": "code",
   "execution_count": 27,
   "id": "3e925083",
   "metadata": {},
   "outputs": [
    {
     "name": "stdout",
     "output_type": "stream",
     "text": [
      "pvalue=0.4532273739367588 > 0.05\n",
      "Нулевая гипотеза находит подтверждение! Распределения метрики в группах A и B равны\n"
     ]
    }
   ],
   "source": [
    "# Проверим изначальную выборку с помощью теста Манна — Уитни\n",
    "\n",
    "a = yandex_knigi_data[yandex_knigi_data['city']=='Москва']['hours']\n",
    "b = yandex_knigi_data[yandex_knigi_data['city']=='Санкт-Петербург']['hours']\n",
    "# Фиксируем уровень значимости\n",
    "alpha = 0.05\n",
    "mw_test = mannwhitneyu(\n",
    "    a, # Выборка значений метрики для группы из Москвы\n",
    "    b, # Выборка значений метрики для группы из Санкт-Петербурга\n",
    "    alternative='less' # Выбираем двустороннюю гипотезу \n",
    "                            # alternative='less' соответствует альтернативной гипотезе: Dist(a)<Dist(b)\n",
    "                            # alternative='greater' соответствует альтернативной гипотезе: Dist(a)>Dist(b)\n",
    ")\n",
    "if mw_test.pvalue > alpha:\n",
    "    print(f'pvalue={mw_test.pvalue} > {alpha}')\n",
    "    print('Нулевая гипотеза находит подтверждение! Распределения метрики в группах A и B равны')\n",
    "else:\n",
    "    print(f'pvalue={mw_test.pvalue} < {alpha}')\n",
    "    print('Нулевая гипотеза не находит подтверждения! Распределения метрики в группах A и B различаются')"
   ]
  },
  {
   "cell_type": "markdown",
   "id": "6953e84c",
   "metadata": {
    "id": "6953e84c"
   },
   "source": [
    "## 3. Аналитическая записка\n",
    "По результатам анализа данных подготовьте аналитическую записку, в которой опишете:\n",
    "\n",
    "- Выбранный тип t-теста и уровень статистической значимости.\n",
    "\n",
    "- Результат теста, или p-value.\n",
    "\n",
    "- Вывод на основе полученного p-value, то есть интерпретацию результатов.\n",
    "\n",
    "- Одну или две возможные причины, объясняющие полученные результаты.\n",
    "\n"
   ]
  },
  {
   "cell_type": "markdown",
   "id": "d0f763ed",
   "metadata": {},
   "source": [
    "С целью проверить гипотезы, что пользователи из Санкт-Петербурга проводят в среднем больше времени за чтением и прослушиванием книг в приложении, чем пользователи из Москвы. Была проведена проверка данных. Для приведения независимости выборок было удалено 6% данных или 488 строк данных (неявных дубликатов), т.к. 244 пользователя находились как в Москве так и в Санкт-Петербурге.   \n",
    "Ключевая метрика – среднее время использования приложения в часах для целевых выборок.  \n",
    "Выборки имеют перекос, в группе использующей приложения из Москвы на 60% данных больше чем в группе из Санкт-Петербурга.  \n",
    "Средние значения выборки имеют подтверждение альтернативной гипотезы, 10,85 для Москвы и 11,26 для Санкт-Петербурга. Но данные имеют большое количество выбросов как в виде очень короткого использования платформы, так и долгого использования платформы, что очень сильно влияет на ключевую метрику.   \n",
    "Выборка приведена к нормальному распределению ограничением основной выборки 1 и 3 квартилем. Без выбросов метрики не подтверждают альтернативную гипотезу, средние значения 1,51 для Москвы и 1,47 для Санкт-Петербурга.  \n",
    "Чтобы избежать ошибок, решено проверить гипотезы двумя способами, для чистых данных освобождённых от выбросов выбран t-тест. Так как выборки имеют перекос в 60 % выбран t-тест Уэлча. А для изначальная выборка со всеми выбросами проверена с помощью теста Манна — Уитни.  \n",
    "Уровень значимости выбран 5%, оптимальный для продуктовых и маркетинговых гипотез.   \n",
    "p-value теста Уэлча =0.81, p-value > уровня значимости, что говорит о том что не получилось отвергнуть нулевую гипотезу! Выборочные средние в группах A и B равны. Соответственно пользователи из Санкт-Петербурга проводят столько же времени за чтением и прослушиванием книг в приложении, как и пользователи из Москвы.  \n",
    "Проверка вторым методом показала, что p-value теста Манна — Уитни =0.4532273739367588, что > 0.05, соответственно нулевая гипотеза находит подтверждение! Распределения метрики в группах A и B равны.  \n",
    "Предположительно, за счет того, что Москва больше чем Санкт-Петербург, то и распределение пользователей разделилось таким же способом. Но проверка тестами доказывает, что **люди пользуются приложением и проводят время за прослушиванием и чтением книг - одинаково как в Москве так и в Санкт-Петербурге**.\n"
   ]
  },
  {
   "cell_type": "markdown",
   "id": "hc1d6jVISegz",
   "metadata": {
    "id": "hc1d6jVISegz"
   },
   "source": [
    "----"
   ]
  },
  {
   "cell_type": "markdown",
   "id": "NqOUIYhbrIfC",
   "metadata": {
    "id": "NqOUIYhbrIfC"
   },
   "source": [
    "# Часть 2. Анализ результатов A/B-тестирования"
   ]
  },
  {
   "cell_type": "markdown",
   "id": "tDwMKFNGsClr",
   "metadata": {
    "id": "tDwMKFNGsClr"
   },
   "source": [
    "Теперь вам нужно проанализировать другие данные. Представьте, что к вам обратились представители интернет-магазина BitMotion Kit, в котором продаются геймифицированные товары для тех, кто ведёт здоровый образ жизни. У него есть своя целевая аудитория, даже появились хиты продаж: эспандер со счётчиком и напоминанием, так и подстольный велотренажёр с Bluetooth.\n",
    "\n",
    "В будущем компания хочет расширить ассортимент товаров. Но перед этим нужно решить одну проблему. Интерфейс онлайн-магазина слишком сложен для пользователей — об этом говорят отзывы.\n",
    "\n",
    "Чтобы привлечь новых клиентов и увеличить число продаж, владельцы магазина разработали новую версию сайта и протестировали его на части пользователей. По задумке, это решение доказуемо повысит количество пользователей, которые совершат покупку.\n",
    "\n",
    "Ваша задача — провести оценку результатов A/B-теста. В вашем распоряжении:\n",
    "\n",
    "* данные о действиях пользователей и распределении их на группы,\n",
    "\n",
    "* техническое задание.\n",
    "\n",
    "Оцените корректность проведения теста и проанализируйте его результаты."
   ]
  },
  {
   "cell_type": "markdown",
   "id": "UNXAAyF5r9Rk",
   "metadata": {
    "id": "UNXAAyF5r9Rk"
   },
   "source": [
    "## 1. Опишите цели исследования.\n",
    "\n"
   ]
  },
  {
   "cell_type": "markdown",
   "id": "kHx-51yES8bd",
   "metadata": {
    "id": "kHx-51yES8bd"
   },
   "source": [
    "Целью исследования является проверка гипотезы.  \n",
    "Гипотеза заключается в следующем: упрощение интерфейса приведёт к тому, что в течение семи дней после регистрации в системе конверсия зарегистрированных пользователей в покупателей увеличится как минимум на три процентных пункта.  \n",
    "Для этого необходимо:  \n",
    "•\tзагрузить данные теста;  \n",
    "•\tпроверить корректность его проведения;  \n",
    "•\tпроанализировать полученные результаты;  \n",
    "•\tсделать вывод.   \n",
    "Целевое действие - `purchase` в столбце `details`.   \n",
    "Ключевая метрика: Конверсия в течении 7 дней, или пользователи которые с момента регистрации в течении 7 дней сделали кокупку (`purchase`).   \n",
    "Конверсия = Количество уникальных пользователей совершивших целевое действие деленное на количество всех уникальных пользователей.  \n",
    "Для проверки нам нужен статистический тест, который позволит определить, существует ли значимая разница между пользователями с целевым действием по отношению ко всем пользователям в двух независимых выборках - это Z-тест пропорций.  "
   ]
  },
  {
   "cell_type": "markdown",
   "id": "_CZryx2OsH-s",
   "metadata": {
    "id": "_CZryx2OsH-s"
   },
   "source": [
    "## 2. Загрузите данные, оцените их целостность.\n"
   ]
  },
  {
   "cell_type": "code",
   "execution_count": 31,
   "id": "DjFcJbeGsTIg",
   "metadata": {
    "id": "DjFcJbeGsTIg"
   },
   "outputs": [],
   "source": [
    "participants = pd.read_csv('https://code.s3.yandex.net/datasets/ab_test_participants.csv')\n",
    "events = pd.read_csv('https://code.s3.yandex.net/datasets/ab_test_events.zip',\n",
    "                     parse_dates=['event_dt'], low_memory=False)"
   ]
  },
  {
   "cell_type": "markdown",
   "id": "CnzA-efasUrk",
   "metadata": {
    "id": "CnzA-efasUrk"
   },
   "source": [
    "## 3. По таблице `ab_test_participants` оцените корректность проведения теста:\n",
    "\n",
    "   3\\.1 Выделите пользователей, участвующих в тесте, и проверьте:\n",
    "\n",
    "   - соответствие требованиям технического задания,\n",
    "\n",
    "   - равномерность распределения пользователей по группам теста,\n",
    "\n",
    "   - отсутствие пересечений с конкурирующим тестом (нет пользователей, участвующих одновременно в двух тестовых группах)."
   ]
  },
  {
   "cell_type": "code",
   "execution_count": 32,
   "id": "aNa3zHrKslEN",
   "metadata": {
    "id": "aNa3zHrKslEN"
   },
   "outputs": [
    {
     "data": {
      "text/html": [
       "<div>\n",
       "<style scoped>\n",
       "    .dataframe tbody tr th:only-of-type {\n",
       "        vertical-align: middle;\n",
       "    }\n",
       "\n",
       "    .dataframe tbody tr th {\n",
       "        vertical-align: top;\n",
       "    }\n",
       "\n",
       "    .dataframe thead th {\n",
       "        text-align: right;\n",
       "    }\n",
       "</style>\n",
       "<table border=\"1\" class=\"dataframe\">\n",
       "  <thead>\n",
       "    <tr style=\"text-align: right;\">\n",
       "      <th></th>\n",
       "      <th>user_id</th>\n",
       "      <th>group</th>\n",
       "      <th>ab_test</th>\n",
       "      <th>device</th>\n",
       "    </tr>\n",
       "  </thead>\n",
       "  <tbody>\n",
       "    <tr>\n",
       "      <th>0</th>\n",
       "      <td>0002CE61FF2C4011</td>\n",
       "      <td>B</td>\n",
       "      <td>interface_eu_test</td>\n",
       "      <td>Mac</td>\n",
       "    </tr>\n",
       "    <tr>\n",
       "      <th>1</th>\n",
       "      <td>001064FEAAB631A1</td>\n",
       "      <td>B</td>\n",
       "      <td>recommender_system_test</td>\n",
       "      <td>Android</td>\n",
       "    </tr>\n",
       "    <tr>\n",
       "      <th>2</th>\n",
       "      <td>001064FEAAB631A1</td>\n",
       "      <td>A</td>\n",
       "      <td>interface_eu_test</td>\n",
       "      <td>Android</td>\n",
       "    </tr>\n",
       "    <tr>\n",
       "      <th>3</th>\n",
       "      <td>0010A1C096941592</td>\n",
       "      <td>A</td>\n",
       "      <td>recommender_system_test</td>\n",
       "      <td>Android</td>\n",
       "    </tr>\n",
       "    <tr>\n",
       "      <th>4</th>\n",
       "      <td>001E72F50D1C48FA</td>\n",
       "      <td>A</td>\n",
       "      <td>interface_eu_test</td>\n",
       "      <td>Mac</td>\n",
       "    </tr>\n",
       "    <tr>\n",
       "      <th>...</th>\n",
       "      <td>...</td>\n",
       "      <td>...</td>\n",
       "      <td>...</td>\n",
       "      <td>...</td>\n",
       "    </tr>\n",
       "    <tr>\n",
       "      <th>14520</th>\n",
       "      <td>FFE7FC140521F5F6</td>\n",
       "      <td>A</td>\n",
       "      <td>interface_eu_test</td>\n",
       "      <td>PC</td>\n",
       "    </tr>\n",
       "    <tr>\n",
       "      <th>14521</th>\n",
       "      <td>FFEFC0E55C1CCD4F</td>\n",
       "      <td>A</td>\n",
       "      <td>interface_eu_test</td>\n",
       "      <td>PC</td>\n",
       "    </tr>\n",
       "    <tr>\n",
       "      <th>14522</th>\n",
       "      <td>FFF28D02B1EACBE1</td>\n",
       "      <td>B</td>\n",
       "      <td>recommender_system_test</td>\n",
       "      <td>PC</td>\n",
       "    </tr>\n",
       "    <tr>\n",
       "      <th>14523</th>\n",
       "      <td>FFF28D02B1EACBE1</td>\n",
       "      <td>B</td>\n",
       "      <td>interface_eu_test</td>\n",
       "      <td>PC</td>\n",
       "    </tr>\n",
       "    <tr>\n",
       "      <th>14524</th>\n",
       "      <td>FFF58BC33966EB51</td>\n",
       "      <td>A</td>\n",
       "      <td>interface_eu_test</td>\n",
       "      <td>Android</td>\n",
       "    </tr>\n",
       "  </tbody>\n",
       "</table>\n",
       "<p>14525 rows × 4 columns</p>\n",
       "</div>"
      ],
      "text/plain": [
       "                user_id group                  ab_test   device\n",
       "0      0002CE61FF2C4011     B        interface_eu_test      Mac\n",
       "1      001064FEAAB631A1     B  recommender_system_test  Android\n",
       "2      001064FEAAB631A1     A        interface_eu_test  Android\n",
       "3      0010A1C096941592     A  recommender_system_test  Android\n",
       "4      001E72F50D1C48FA     A        interface_eu_test      Mac\n",
       "...                 ...   ...                      ...      ...\n",
       "14520  FFE7FC140521F5F6     A        interface_eu_test       PC\n",
       "14521  FFEFC0E55C1CCD4F     A        interface_eu_test       PC\n",
       "14522  FFF28D02B1EACBE1     B  recommender_system_test       PC\n",
       "14523  FFF28D02B1EACBE1     B        interface_eu_test       PC\n",
       "14524  FFF58BC33966EB51     A        interface_eu_test  Android\n",
       "\n",
       "[14525 rows x 4 columns]"
      ]
     },
     "execution_count": 32,
     "metadata": {},
     "output_type": "execute_result"
    }
   ],
   "source": [
    "participants"
   ]
  },
  {
   "cell_type": "code",
   "execution_count": 33,
   "id": "357bdfea",
   "metadata": {},
   "outputs": [
    {
     "name": "stdout",
     "output_type": "stream",
     "text": [
      "<class 'pandas.core.frame.DataFrame'>\n",
      "RangeIndex: 14525 entries, 0 to 14524\n",
      "Data columns (total 4 columns):\n",
      " #   Column   Non-Null Count  Dtype \n",
      "---  ------   --------------  ----- \n",
      " 0   user_id  14525 non-null  object\n",
      " 1   group    14525 non-null  object\n",
      " 2   ab_test  14525 non-null  object\n",
      " 3   device   14525 non-null  object\n",
      "dtypes: object(4)\n",
      "memory usage: 454.0+ KB\n"
     ]
    }
   ],
   "source": [
    "participants.info()"
   ]
  },
  {
   "cell_type": "code",
   "execution_count": 34,
   "id": "16e12dcd",
   "metadata": {},
   "outputs": [
    {
     "name": "stdout",
     "output_type": "stream",
     "text": [
      "Уникальные значения в столбце group:\n",
      "['A' 'B']\n",
      "\n",
      "Уникальные значения в столбце ab_test:\n",
      "['interface_eu_test' 'recommender_system_test']\n",
      "\n",
      "Уникальные значения в столбце device:\n",
      "['Android' 'Mac' 'PC' 'iPhone']\n",
      "\n"
     ]
    }
   ],
   "source": [
    "# Проверяем уникальные значения в столбцах\n",
    "for column in ['group', 'ab_test', 'device']:\n",
    "    print(f'Уникальные значения в столбце {column}:')\n",
    "    print(participants[column].sort_values().unique())\n",
    "    print()"
   ]
  },
  {
   "cell_type": "code",
   "execution_count": 35,
   "id": "f960474f",
   "metadata": {},
   "outputs": [
    {
     "data": {
      "text/plain": [
       "0"
      ]
     },
     "execution_count": 35,
     "metadata": {},
     "output_type": "execute_result"
    }
   ],
   "source": [
    "participants.duplicated().sum()"
   ]
  },
  {
   "cell_type": "code",
   "execution_count": 36,
   "id": "6ef49a8e",
   "metadata": {},
   "outputs": [
    {
     "data": {
      "text/plain": [
       "0"
      ]
     },
     "execution_count": 36,
     "metadata": {},
     "output_type": "execute_result"
    }
   ],
   "source": [
    "participants.duplicated(['user_id', 'ab_test']).sum()"
   ]
  },
  {
   "cell_type": "code",
   "execution_count": 37,
   "id": "4040eb82",
   "metadata": {
    "scrolled": true
   },
   "outputs": [
    {
     "data": {
      "text/plain": [
       "441"
      ]
     },
     "execution_count": 37,
     "metadata": {},
     "output_type": "execute_result"
    }
   ],
   "source": [
    "participants.duplicated(['user_id', 'group']).sum()"
   ]
  },
  {
   "cell_type": "code",
   "execution_count": 38,
   "id": "6b027ab6",
   "metadata": {},
   "outputs": [
    {
     "data": {
      "text/html": [
       "<div>\n",
       "<style scoped>\n",
       "    .dataframe tbody tr th:only-of-type {\n",
       "        vertical-align: middle;\n",
       "    }\n",
       "\n",
       "    .dataframe tbody tr th {\n",
       "        vertical-align: top;\n",
       "    }\n",
       "\n",
       "    .dataframe thead th {\n",
       "        text-align: right;\n",
       "    }\n",
       "</style>\n",
       "<table border=\"1\" class=\"dataframe\">\n",
       "  <thead>\n",
       "    <tr style=\"text-align: right;\">\n",
       "      <th></th>\n",
       "      <th>user_id</th>\n",
       "      <th>group</th>\n",
       "      <th>ab_test</th>\n",
       "      <th>device</th>\n",
       "    </tr>\n",
       "  </thead>\n",
       "  <tbody>\n",
       "    <tr>\n",
       "      <th>25</th>\n",
       "      <td>0082295A41A867B5</td>\n",
       "      <td>A</td>\n",
       "      <td>interface_eu_test</td>\n",
       "      <td>iPhone</td>\n",
       "    </tr>\n",
       "    <tr>\n",
       "      <th>26</th>\n",
       "      <td>0082295A41A867B5</td>\n",
       "      <td>A</td>\n",
       "      <td>recommender_system_test</td>\n",
       "      <td>iPhone</td>\n",
       "    </tr>\n",
       "    <tr>\n",
       "      <th>41</th>\n",
       "      <td>00E68F103C66C1F7</td>\n",
       "      <td>A</td>\n",
       "      <td>recommender_system_test</td>\n",
       "      <td>PC</td>\n",
       "    </tr>\n",
       "    <tr>\n",
       "      <th>42</th>\n",
       "      <td>00E68F103C66C1F7</td>\n",
       "      <td>A</td>\n",
       "      <td>interface_eu_test</td>\n",
       "      <td>PC</td>\n",
       "    </tr>\n",
       "    <tr>\n",
       "      <th>116</th>\n",
       "      <td>02313B9E82255F47</td>\n",
       "      <td>A</td>\n",
       "      <td>recommender_system_test</td>\n",
       "      <td>Mac</td>\n",
       "    </tr>\n",
       "    <tr>\n",
       "      <th>...</th>\n",
       "      <td>...</td>\n",
       "      <td>...</td>\n",
       "      <td>...</td>\n",
       "      <td>...</td>\n",
       "    </tr>\n",
       "    <tr>\n",
       "      <th>14459</th>\n",
       "      <td>FEA0C585A53E7027</td>\n",
       "      <td>B</td>\n",
       "      <td>recommender_system_test</td>\n",
       "      <td>Android</td>\n",
       "    </tr>\n",
       "    <tr>\n",
       "      <th>14465</th>\n",
       "      <td>FEC0BCA6C323872F</td>\n",
       "      <td>A</td>\n",
       "      <td>recommender_system_test</td>\n",
       "      <td>PC</td>\n",
       "    </tr>\n",
       "    <tr>\n",
       "      <th>14466</th>\n",
       "      <td>FEC0BCA6C323872F</td>\n",
       "      <td>A</td>\n",
       "      <td>interface_eu_test</td>\n",
       "      <td>PC</td>\n",
       "    </tr>\n",
       "    <tr>\n",
       "      <th>14522</th>\n",
       "      <td>FFF28D02B1EACBE1</td>\n",
       "      <td>B</td>\n",
       "      <td>recommender_system_test</td>\n",
       "      <td>PC</td>\n",
       "    </tr>\n",
       "    <tr>\n",
       "      <th>14523</th>\n",
       "      <td>FFF28D02B1EACBE1</td>\n",
       "      <td>B</td>\n",
       "      <td>interface_eu_test</td>\n",
       "      <td>PC</td>\n",
       "    </tr>\n",
       "  </tbody>\n",
       "</table>\n",
       "<p>882 rows × 4 columns</p>\n",
       "</div>"
      ],
      "text/plain": [
       "                user_id group                  ab_test   device\n",
       "25     0082295A41A867B5     A        interface_eu_test   iPhone\n",
       "26     0082295A41A867B5     A  recommender_system_test   iPhone\n",
       "41     00E68F103C66C1F7     A  recommender_system_test       PC\n",
       "42     00E68F103C66C1F7     A        interface_eu_test       PC\n",
       "116    02313B9E82255F47     A  recommender_system_test      Mac\n",
       "...                 ...   ...                      ...      ...\n",
       "14459  FEA0C585A53E7027     B  recommender_system_test  Android\n",
       "14465  FEC0BCA6C323872F     A  recommender_system_test       PC\n",
       "14466  FEC0BCA6C323872F     A        interface_eu_test       PC\n",
       "14522  FFF28D02B1EACBE1     B  recommender_system_test       PC\n",
       "14523  FFF28D02B1EACBE1     B        interface_eu_test       PC\n",
       "\n",
       "[882 rows x 4 columns]"
      ]
     },
     "execution_count": 38,
     "metadata": {},
     "output_type": "execute_result"
    }
   ],
   "source": [
    "participants[participants.duplicated(['user_id', 'group'], keep=False)]\n"
   ]
  },
  {
   "cell_type": "code",
   "execution_count": 39,
   "id": "80dba5e7",
   "metadata": {},
   "outputs": [
    {
     "data": {
      "text/html": [
       "<div>\n",
       "<style scoped>\n",
       "    .dataframe tbody tr th:only-of-type {\n",
       "        vertical-align: middle;\n",
       "    }\n",
       "\n",
       "    .dataframe tbody tr th {\n",
       "        vertical-align: top;\n",
       "    }\n",
       "\n",
       "    .dataframe thead th {\n",
       "        text-align: right;\n",
       "    }\n",
       "</style>\n",
       "<table border=\"1\" class=\"dataframe\">\n",
       "  <thead>\n",
       "    <tr style=\"text-align: right;\">\n",
       "      <th></th>\n",
       "      <th>user_id</th>\n",
       "      <th>group</th>\n",
       "      <th>ab_test</th>\n",
       "      <th>device</th>\n",
       "    </tr>\n",
       "  </thead>\n",
       "  <tbody>\n",
       "    <tr>\n",
       "      <th>1</th>\n",
       "      <td>001064FEAAB631A1</td>\n",
       "      <td>B</td>\n",
       "      <td>recommender_system_test</td>\n",
       "      <td>Android</td>\n",
       "    </tr>\n",
       "    <tr>\n",
       "      <th>2</th>\n",
       "      <td>001064FEAAB631A1</td>\n",
       "      <td>A</td>\n",
       "      <td>interface_eu_test</td>\n",
       "      <td>Android</td>\n",
       "    </tr>\n",
       "    <tr>\n",
       "      <th>9</th>\n",
       "      <td>00341D8401F0F665</td>\n",
       "      <td>A</td>\n",
       "      <td>recommender_system_test</td>\n",
       "      <td>iPhone</td>\n",
       "    </tr>\n",
       "    <tr>\n",
       "      <th>10</th>\n",
       "      <td>00341D8401F0F665</td>\n",
       "      <td>B</td>\n",
       "      <td>interface_eu_test</td>\n",
       "      <td>iPhone</td>\n",
       "    </tr>\n",
       "    <tr>\n",
       "      <th>25</th>\n",
       "      <td>0082295A41A867B5</td>\n",
       "      <td>A</td>\n",
       "      <td>interface_eu_test</td>\n",
       "      <td>iPhone</td>\n",
       "    </tr>\n",
       "    <tr>\n",
       "      <th>...</th>\n",
       "      <td>...</td>\n",
       "      <td>...</td>\n",
       "      <td>...</td>\n",
       "      <td>...</td>\n",
       "    </tr>\n",
       "    <tr>\n",
       "      <th>14490</th>\n",
       "      <td>FF2174A1AA0EAD20</td>\n",
       "      <td>A</td>\n",
       "      <td>recommender_system_test</td>\n",
       "      <td>Android</td>\n",
       "    </tr>\n",
       "    <tr>\n",
       "      <th>14495</th>\n",
       "      <td>FF44696E39039D29</td>\n",
       "      <td>B</td>\n",
       "      <td>interface_eu_test</td>\n",
       "      <td>Mac</td>\n",
       "    </tr>\n",
       "    <tr>\n",
       "      <th>14496</th>\n",
       "      <td>FF44696E39039D29</td>\n",
       "      <td>A</td>\n",
       "      <td>recommender_system_test</td>\n",
       "      <td>Mac</td>\n",
       "    </tr>\n",
       "    <tr>\n",
       "      <th>14522</th>\n",
       "      <td>FFF28D02B1EACBE1</td>\n",
       "      <td>B</td>\n",
       "      <td>recommender_system_test</td>\n",
       "      <td>PC</td>\n",
       "    </tr>\n",
       "    <tr>\n",
       "      <th>14523</th>\n",
       "      <td>FFF28D02B1EACBE1</td>\n",
       "      <td>B</td>\n",
       "      <td>interface_eu_test</td>\n",
       "      <td>PC</td>\n",
       "    </tr>\n",
       "  </tbody>\n",
       "</table>\n",
       "<p>1774 rows × 4 columns</p>\n",
       "</div>"
      ],
      "text/plain": [
       "                user_id group                  ab_test   device\n",
       "1      001064FEAAB631A1     B  recommender_system_test  Android\n",
       "2      001064FEAAB631A1     A        interface_eu_test  Android\n",
       "9      00341D8401F0F665     A  recommender_system_test   iPhone\n",
       "10     00341D8401F0F665     B        interface_eu_test   iPhone\n",
       "25     0082295A41A867B5     A        interface_eu_test   iPhone\n",
       "...                 ...   ...                      ...      ...\n",
       "14490  FF2174A1AA0EAD20     A  recommender_system_test  Android\n",
       "14495  FF44696E39039D29     B        interface_eu_test      Mac\n",
       "14496  FF44696E39039D29     A  recommender_system_test      Mac\n",
       "14522  FFF28D02B1EACBE1     B  recommender_system_test       PC\n",
       "14523  FFF28D02B1EACBE1     B        interface_eu_test       PC\n",
       "\n",
       "[1774 rows x 4 columns]"
      ]
     },
     "execution_count": 39,
     "metadata": {},
     "output_type": "execute_result"
    }
   ],
   "source": [
    "# 441 пользователь участвует в двух тестах, уточним это\n",
    "users_eu_tests = participants[participants['ab_test']=='interface_eu_test']['user_id']\n",
    "users_2_tests = users_eu_tests[users_eu_tests.isin(participants[participants['ab_test']=='recommender_system_test']['user_id'])]\n",
    "participants[participants['user_id'].isin(users_2_tests)]"
   ]
  },
  {
   "cell_type": "code",
   "execution_count": 40,
   "id": "e0bf43dd",
   "metadata": {},
   "outputs": [
    {
     "data": {
      "text/plain": [
       "14525"
      ]
     },
     "execution_count": 40,
     "metadata": {},
     "output_type": "execute_result"
    }
   ],
   "source": [
    "# Посчитаем и зафиксируем количество строк в Датафрейме\n",
    "count_str_begin = participants.shape[0]\n",
    "count_str_begin"
   ]
  },
  {
   "cell_type": "code",
   "execution_count": 41,
   "id": "c398ec5e",
   "metadata": {},
   "outputs": [
    {
     "data": {
      "text/html": [
       "<div>\n",
       "<style scoped>\n",
       "    .dataframe tbody tr th:only-of-type {\n",
       "        vertical-align: middle;\n",
       "    }\n",
       "\n",
       "    .dataframe tbody tr th {\n",
       "        vertical-align: top;\n",
       "    }\n",
       "\n",
       "    .dataframe thead th {\n",
       "        text-align: right;\n",
       "    }\n",
       "</style>\n",
       "<table border=\"1\" class=\"dataframe\">\n",
       "  <thead>\n",
       "    <tr style=\"text-align: right;\">\n",
       "      <th></th>\n",
       "      <th>user_id</th>\n",
       "      <th>group</th>\n",
       "      <th>ab_test</th>\n",
       "      <th>device</th>\n",
       "    </tr>\n",
       "  </thead>\n",
       "  <tbody>\n",
       "    <tr>\n",
       "      <th>0</th>\n",
       "      <td>0002CE61FF2C4011</td>\n",
       "      <td>B</td>\n",
       "      <td>interface_eu_test</td>\n",
       "      <td>Mac</td>\n",
       "    </tr>\n",
       "    <tr>\n",
       "      <th>3</th>\n",
       "      <td>0010A1C096941592</td>\n",
       "      <td>A</td>\n",
       "      <td>recommender_system_test</td>\n",
       "      <td>Android</td>\n",
       "    </tr>\n",
       "    <tr>\n",
       "      <th>4</th>\n",
       "      <td>001E72F50D1C48FA</td>\n",
       "      <td>A</td>\n",
       "      <td>interface_eu_test</td>\n",
       "      <td>Mac</td>\n",
       "    </tr>\n",
       "    <tr>\n",
       "      <th>5</th>\n",
       "      <td>002412F1EB3F6E38</td>\n",
       "      <td>B</td>\n",
       "      <td>interface_eu_test</td>\n",
       "      <td>Mac</td>\n",
       "    </tr>\n",
       "    <tr>\n",
       "      <th>6</th>\n",
       "      <td>002540BE89C930FB</td>\n",
       "      <td>B</td>\n",
       "      <td>interface_eu_test</td>\n",
       "      <td>Android</td>\n",
       "    </tr>\n",
       "    <tr>\n",
       "      <th>...</th>\n",
       "      <td>...</td>\n",
       "      <td>...</td>\n",
       "      <td>...</td>\n",
       "      <td>...</td>\n",
       "    </tr>\n",
       "    <tr>\n",
       "      <th>14518</th>\n",
       "      <td>FFE5B14BD55C1C5C</td>\n",
       "      <td>A</td>\n",
       "      <td>interface_eu_test</td>\n",
       "      <td>PC</td>\n",
       "    </tr>\n",
       "    <tr>\n",
       "      <th>14519</th>\n",
       "      <td>FFE600EEC4BA7685</td>\n",
       "      <td>B</td>\n",
       "      <td>interface_eu_test</td>\n",
       "      <td>Android</td>\n",
       "    </tr>\n",
       "    <tr>\n",
       "      <th>14520</th>\n",
       "      <td>FFE7FC140521F5F6</td>\n",
       "      <td>A</td>\n",
       "      <td>interface_eu_test</td>\n",
       "      <td>PC</td>\n",
       "    </tr>\n",
       "    <tr>\n",
       "      <th>14521</th>\n",
       "      <td>FFEFC0E55C1CCD4F</td>\n",
       "      <td>A</td>\n",
       "      <td>interface_eu_test</td>\n",
       "      <td>PC</td>\n",
       "    </tr>\n",
       "    <tr>\n",
       "      <th>14524</th>\n",
       "      <td>FFF58BC33966EB51</td>\n",
       "      <td>A</td>\n",
       "      <td>interface_eu_test</td>\n",
       "      <td>Android</td>\n",
       "    </tr>\n",
       "  </tbody>\n",
       "</table>\n",
       "<p>12751 rows × 4 columns</p>\n",
       "</div>"
      ],
      "text/plain": [
       "                user_id group                  ab_test   device\n",
       "0      0002CE61FF2C4011     B        interface_eu_test      Mac\n",
       "3      0010A1C096941592     A  recommender_system_test  Android\n",
       "4      001E72F50D1C48FA     A        interface_eu_test      Mac\n",
       "5      002412F1EB3F6E38     B        interface_eu_test      Mac\n",
       "6      002540BE89C930FB     B        interface_eu_test  Android\n",
       "...                 ...   ...                      ...      ...\n",
       "14518  FFE5B14BD55C1C5C     A        interface_eu_test       PC\n",
       "14519  FFE600EEC4BA7685     B        interface_eu_test  Android\n",
       "14520  FFE7FC140521F5F6     A        interface_eu_test       PC\n",
       "14521  FFEFC0E55C1CCD4F     A        interface_eu_test       PC\n",
       "14524  FFF58BC33966EB51     A        interface_eu_test  Android\n",
       "\n",
       "[12751 rows x 4 columns]"
      ]
     },
     "execution_count": 41,
     "metadata": {},
     "output_type": "execute_result"
    }
   ],
   "source": [
    "# 1774 записи пользователей учавствующих в двух конкурирующих тестах\n",
    "# По условиям задачи это не допустимо, удалим их из Датафрейма\n",
    "participants=participants[~participants['user_id'].isin(users_2_tests)]\n",
    "participants"
   ]
  },
  {
   "cell_type": "code",
   "execution_count": 42,
   "id": "62da03e6",
   "metadata": {},
   "outputs": [
    {
     "data": {
      "text/html": [
       "<div>\n",
       "<style scoped>\n",
       "    .dataframe tbody tr th:only-of-type {\n",
       "        vertical-align: middle;\n",
       "    }\n",
       "\n",
       "    .dataframe tbody tr th {\n",
       "        vertical-align: top;\n",
       "    }\n",
       "\n",
       "    .dataframe thead th {\n",
       "        text-align: right;\n",
       "    }\n",
       "</style>\n",
       "<table border=\"1\" class=\"dataframe\">\n",
       "  <thead>\n",
       "    <tr style=\"text-align: right;\">\n",
       "      <th></th>\n",
       "      <th>user_id</th>\n",
       "      <th>group</th>\n",
       "      <th>ab_test</th>\n",
       "      <th>device</th>\n",
       "    </tr>\n",
       "  </thead>\n",
       "  <tbody>\n",
       "    <tr>\n",
       "      <th>0</th>\n",
       "      <td>0002CE61FF2C4011</td>\n",
       "      <td>B</td>\n",
       "      <td>interface_eu_test</td>\n",
       "      <td>Mac</td>\n",
       "    </tr>\n",
       "    <tr>\n",
       "      <th>4</th>\n",
       "      <td>001E72F50D1C48FA</td>\n",
       "      <td>A</td>\n",
       "      <td>interface_eu_test</td>\n",
       "      <td>Mac</td>\n",
       "    </tr>\n",
       "    <tr>\n",
       "      <th>5</th>\n",
       "      <td>002412F1EB3F6E38</td>\n",
       "      <td>B</td>\n",
       "      <td>interface_eu_test</td>\n",
       "      <td>Mac</td>\n",
       "    </tr>\n",
       "    <tr>\n",
       "      <th>6</th>\n",
       "      <td>002540BE89C930FB</td>\n",
       "      <td>B</td>\n",
       "      <td>interface_eu_test</td>\n",
       "      <td>Android</td>\n",
       "    </tr>\n",
       "    <tr>\n",
       "      <th>7</th>\n",
       "      <td>0031F1B5E9FBF708</td>\n",
       "      <td>A</td>\n",
       "      <td>interface_eu_test</td>\n",
       "      <td>Android</td>\n",
       "    </tr>\n",
       "    <tr>\n",
       "      <th>...</th>\n",
       "      <td>...</td>\n",
       "      <td>...</td>\n",
       "      <td>...</td>\n",
       "      <td>...</td>\n",
       "    </tr>\n",
       "    <tr>\n",
       "      <th>14518</th>\n",
       "      <td>FFE5B14BD55C1C5C</td>\n",
       "      <td>A</td>\n",
       "      <td>interface_eu_test</td>\n",
       "      <td>PC</td>\n",
       "    </tr>\n",
       "    <tr>\n",
       "      <th>14519</th>\n",
       "      <td>FFE600EEC4BA7685</td>\n",
       "      <td>B</td>\n",
       "      <td>interface_eu_test</td>\n",
       "      <td>Android</td>\n",
       "    </tr>\n",
       "    <tr>\n",
       "      <th>14520</th>\n",
       "      <td>FFE7FC140521F5F6</td>\n",
       "      <td>A</td>\n",
       "      <td>interface_eu_test</td>\n",
       "      <td>PC</td>\n",
       "    </tr>\n",
       "    <tr>\n",
       "      <th>14521</th>\n",
       "      <td>FFEFC0E55C1CCD4F</td>\n",
       "      <td>A</td>\n",
       "      <td>interface_eu_test</td>\n",
       "      <td>PC</td>\n",
       "    </tr>\n",
       "    <tr>\n",
       "      <th>14524</th>\n",
       "      <td>FFF58BC33966EB51</td>\n",
       "      <td>A</td>\n",
       "      <td>interface_eu_test</td>\n",
       "      <td>Android</td>\n",
       "    </tr>\n",
       "  </tbody>\n",
       "</table>\n",
       "<p>9963 rows × 4 columns</p>\n",
       "</div>"
      ],
      "text/plain": [
       "                user_id group            ab_test   device\n",
       "0      0002CE61FF2C4011     B  interface_eu_test      Mac\n",
       "4      001E72F50D1C48FA     A  interface_eu_test      Mac\n",
       "5      002412F1EB3F6E38     B  interface_eu_test      Mac\n",
       "6      002540BE89C930FB     B  interface_eu_test  Android\n",
       "7      0031F1B5E9FBF708     A  interface_eu_test  Android\n",
       "...                 ...   ...                ...      ...\n",
       "14518  FFE5B14BD55C1C5C     A  interface_eu_test       PC\n",
       "14519  FFE600EEC4BA7685     B  interface_eu_test  Android\n",
       "14520  FFE7FC140521F5F6     A  interface_eu_test       PC\n",
       "14521  FFEFC0E55C1CCD4F     A  interface_eu_test       PC\n",
       "14524  FFF58BC33966EB51     A  interface_eu_test  Android\n",
       "\n",
       "[9963 rows x 4 columns]"
      ]
     },
     "execution_count": 42,
     "metadata": {},
     "output_type": "execute_result"
    }
   ],
   "source": [
    "# Так как результаты recommender_system_test нам больше не нужны, для дальнейшего удобства удалим их из Датафрейма\n",
    "participants=participants[~(participants['ab_test']=='recommender_system_test')]\n",
    "participants"
   ]
  },
  {
   "cell_type": "code",
   "execution_count": 43,
   "id": "eb3d1179",
   "metadata": {},
   "outputs": [
    {
     "name": "stdout",
     "output_type": "stream",
     "text": [
      "Всего в DataFrame найдено дубликатов и удалено 4562 или 31.41% от всего количества строк\n"
     ]
    }
   ],
   "source": [
    "# Посчитаем и зафиксируем количество строк оставшихся в Датафрейме и долю удаленнх\n",
    "count_str_end = participants.shape[0]\n",
    "count_str_begin\n",
    "count_str_del = count_str_begin-count_str_end\n",
    "share_str_del = round(count_str_del/count_str_begin*100,2)\n",
    "print(f\"Всего в DataFrame найдено дубликатов и удалено {count_str_del} или {share_str_del}% от всего количества строк\")"
   ]
  },
  {
   "cell_type": "code",
   "execution_count": 44,
   "id": "92d43db2",
   "metadata": {},
   "outputs": [
    {
     "data": {
      "text/plain": [
       "<Figure size 504x216 with 0 Axes>"
      ]
     },
     "metadata": {},
     "output_type": "display_data"
    },
    {
     "data": {
      "image/png": "[encoded data removed]",
      "text/plain": [
       "<Figure size 432x288 with 1 Axes>"
      ]
     },
     "metadata": {
      "needs_background": "light"
     },
     "output_type": "display_data"
    }
   ],
   "source": [
    "# Выведем распределение пользователей в группах А и В\n",
    "test_uniq_users=pd.pivot_table(participants, index='group', values='user_id', aggfunc='nunique')\n",
    "test_uniq_users.value_counts(normalize=True)\n",
    "\n",
    "# Создаём контейнер графика matplotlib и задаём его размер\n",
    "plt.figure(figsize=(7, 3))\n",
    "\n",
    "# Строим столбчатую диаграмму с помощью pandas через plot(kind='bar')\n",
    "test_uniq_users.plot(\n",
    "               kind='bar', # Тип графика — столбчатая диаграмма\n",
    "               rot=0, # Градус вращения подписи по оси Х\n",
    "               legend=False, # Выключаем легенду\n",
    "               title=f'Количество пользователей в группах A и B.'\n",
    ")\n",
    "# Добавляем обозначения на график\n",
    "for i, v in enumerate(test_uniq_users.values):\n",
    "    plt.text(i, v, str(v), ha='center', va='bottom')\n",
    "\n",
    "# Настраиваем оформление графика\n",
    "plt.xlabel('Группа')\n",
    "plt.ylabel('Количество пользователей')\n",
    "# Добавляем сетку графика\n",
    "plt.grid()\n",
    "\n",
    "# Выводим график\n",
    "plt.show()"
   ]
  },
  {
   "cell_type": "code",
   "execution_count": 45,
   "id": "785a89bb",
   "metadata": {},
   "outputs": [
    {
     "data": {
      "image/png": "[encoded data removed]",
      "text/plain": [
       "<Figure size 504x216 with 1 Axes>"
      ]
     },
     "metadata": {
      "needs_background": "light"
     },
     "output_type": "display_data"
    }
   ],
   "source": [
    "group_A_devices = round(participants[participants['group'] == 'A'].drop_duplicates(\n",
    "    'user_id')['device'].value_counts(normalize=True),4)\n",
    "# Создаём контейнер графика matplotlib и задаём его размер\n",
    "plt.figure(figsize=(7, 3))\n",
    "\n",
    "# Строим столбчатую диаграмму с помощью pandas через plot(kind='bar')\n",
    "group_A_devices.plot(\n",
    "               kind='bar', # Тип графика — столбчатая диаграмма\n",
    "               rot=0, # Градус вращения подписи по оси Х\n",
    "               legend=False, # Выключаем легенду\n",
    "               title=f'Доля устройств в группе A'\n",
    ")\n",
    "\n",
    "# Настраиваем оформление графика\n",
    "plt.xlabel('Вид устройства')\n",
    "plt.ylabel('Доля пользователей')\n",
    "# Добавляем сетку графика\n",
    "plt.grid()\n",
    "# Подписываем каждое значение сверху каждого столбика\n",
    "for i, v in enumerate(group_A_devices.values):\n",
    "    plt.text(i, v, str(v*100), ha='center', va='bottom')\n",
    "\n",
    "# Выводим график\n",
    "plt.show()"
   ]
  },
  {
   "cell_type": "code",
   "execution_count": 46,
   "id": "9ee18915",
   "metadata": {},
   "outputs": [
    {
     "data": {
      "image/png": "[encoded data removed]",
      "text/plain": [
       "<Figure size 504x216 with 1 Axes>"
      ]
     },
     "metadata": {
      "needs_background": "light"
     },
     "output_type": "display_data"
    }
   ],
   "source": [
    "# Создаём контейнер графика matplotlib и задаём его размер\n",
    "plt.figure(figsize=(7, 3))\n",
    "\n",
    "# Строим столбчатую диаграмму с помощью pandas через plot(kind='bar')\n",
    "group_B_devices=participants[participants['group'] == 'B'].drop_duplicates(\n",
    "    'user_id')['device'].value_counts(normalize=True).plot(\n",
    "               kind='bar', # Тип графика — столбчатая диаграмма\n",
    "               rot=0, # Градус вращения подписи по оси Х\n",
    "               legend=False, # Выключаем легенду\n",
    "               title=f'Доля устройств в группе B'\n",
    ")\n",
    "\n",
    "# Настраиваем оформление графика\n",
    "plt.xlabel('Вид устройства')\n",
    "plt.ylabel('Доля пользователей')\n",
    "# Добавляем сетку графика\n",
    "plt.grid()\n",
    "# Подписываем каждое значение сверху каждого столбика\n",
    "for p in group_B_devices.patches:\n",
    "    height = p.get_height()\n",
    "    group_B_devices.annotate(f'{height:.2%}', xy=(p.get_x() + p.get_width() / 2., height),\n",
    "                 xytext=(0, 5), textcoords='offset points', ha='center', va='bottom')\n",
    "# Выводим график\n",
    "plt.show()"
   ]
  },
  {
   "cell_type": "markdown",
   "id": "29d67067",
   "metadata": {},
   "source": [
    "Мы провели анализ предоставленных данных. Пересечение пользователей из тестовой и контрольной групп удалены. Также удалена группа из другого А/В теста. Всего в DataFrame найдено дубликатов и удалено 4562 или 31.41% от всего количества строк.\n",
    "Количество пользователей в группах A и B почти одинаково (4952 и 5011). Разница между группами минимальна.   \n",
    "Обе группы независимы, друг от друга.  Обе группы равномерно распределены по категориям, по типам устройств отличия минимальны не более пару процентов между категориями."
   ]
  },
  {
   "cell_type": "markdown",
   "id": "2267bece",
   "metadata": {},
   "source": []
  },
  {
   "cell_type": "markdown",
   "id": "GjulgSrlsqUU",
   "metadata": {
    "id": "GjulgSrlsqUU"
   },
   "source": [
    "3\\.2 Проанализируйте данные о пользовательской активности по таблице `ab_test_events`:\n",
    "\n",
    "- оставьте только события, связанные с участвующими в изучаемом тесте пользователями;"
   ]
  },
  {
   "cell_type": "code",
   "execution_count": 47,
   "id": "86ec34cf",
   "metadata": {},
   "outputs": [
    {
     "data": {
      "text/html": [
       "<div>\n",
       "<style scoped>\n",
       "    .dataframe tbody tr th:only-of-type {\n",
       "        vertical-align: middle;\n",
       "    }\n",
       "\n",
       "    .dataframe tbody tr th {\n",
       "        vertical-align: top;\n",
       "    }\n",
       "\n",
       "    .dataframe thead th {\n",
       "        text-align: right;\n",
       "    }\n",
       "</style>\n",
       "<table border=\"1\" class=\"dataframe\">\n",
       "  <thead>\n",
       "    <tr style=\"text-align: right;\">\n",
       "      <th></th>\n",
       "      <th>user_id</th>\n",
       "      <th>event_dt</th>\n",
       "      <th>event_name</th>\n",
       "      <th>details</th>\n",
       "    </tr>\n",
       "  </thead>\n",
       "  <tbody>\n",
       "    <tr>\n",
       "      <th>0</th>\n",
       "      <td>GLOBAL</td>\n",
       "      <td>2020-12-01 00:00:00</td>\n",
       "      <td>End of Black Friday Ads Campaign</td>\n",
       "      <td>ZONE_CODE15</td>\n",
       "    </tr>\n",
       "    <tr>\n",
       "      <th>1</th>\n",
       "      <td>CCBE9E7E99F94A08</td>\n",
       "      <td>2020-12-01 00:00:11</td>\n",
       "      <td>registration</td>\n",
       "      <td>0.0</td>\n",
       "    </tr>\n",
       "    <tr>\n",
       "      <th>2</th>\n",
       "      <td>GLOBAL</td>\n",
       "      <td>2020-12-01 00:00:25</td>\n",
       "      <td>product_page</td>\n",
       "      <td>NaN</td>\n",
       "    </tr>\n",
       "    <tr>\n",
       "      <th>3</th>\n",
       "      <td>CCBE9E7E99F94A08</td>\n",
       "      <td>2020-12-01 00:00:33</td>\n",
       "      <td>login</td>\n",
       "      <td>NaN</td>\n",
       "    </tr>\n",
       "    <tr>\n",
       "      <th>4</th>\n",
       "      <td>CCBE9E7E99F94A08</td>\n",
       "      <td>2020-12-01 00:00:52</td>\n",
       "      <td>product_page</td>\n",
       "      <td>NaN</td>\n",
       "    </tr>\n",
       "    <tr>\n",
       "      <th>...</th>\n",
       "      <td>...</td>\n",
       "      <td>...</td>\n",
       "      <td>...</td>\n",
       "      <td>...</td>\n",
       "    </tr>\n",
       "    <tr>\n",
       "      <th>787281</th>\n",
       "      <td>1A655C280B064708</td>\n",
       "      <td>2020-12-31 23:57:44</td>\n",
       "      <td>product_page</td>\n",
       "      <td>NaN</td>\n",
       "    </tr>\n",
       "    <tr>\n",
       "      <th>787282</th>\n",
       "      <td>B77B2F4BCA134618</td>\n",
       "      <td>2020-12-31 23:58:23</td>\n",
       "      <td>registration</td>\n",
       "      <td>0.0</td>\n",
       "    </tr>\n",
       "    <tr>\n",
       "      <th>787283</th>\n",
       "      <td>GLOBAL</td>\n",
       "      <td>2020-12-31 23:58:30</td>\n",
       "      <td>product_cart</td>\n",
       "      <td>NaN</td>\n",
       "    </tr>\n",
       "    <tr>\n",
       "      <th>787284</th>\n",
       "      <td>B12AD1623E494FAD</td>\n",
       "      <td>2020-12-31 23:58:34</td>\n",
       "      <td>registration</td>\n",
       "      <td>-6.52</td>\n",
       "    </tr>\n",
       "    <tr>\n",
       "      <th>787285</th>\n",
       "      <td>5456977474344433</td>\n",
       "      <td>2020-12-31 23:59:48</td>\n",
       "      <td>registration</td>\n",
       "      <td>-3.67</td>\n",
       "    </tr>\n",
       "  </tbody>\n",
       "</table>\n",
       "<p>787286 rows × 4 columns</p>\n",
       "</div>"
      ],
      "text/plain": [
       "                 user_id            event_dt  \\\n",
       "0                 GLOBAL 2020-12-01 00:00:00   \n",
       "1       CCBE9E7E99F94A08 2020-12-01 00:00:11   \n",
       "2                 GLOBAL 2020-12-01 00:00:25   \n",
       "3       CCBE9E7E99F94A08 2020-12-01 00:00:33   \n",
       "4       CCBE9E7E99F94A08 2020-12-01 00:00:52   \n",
       "...                  ...                 ...   \n",
       "787281  1A655C280B064708 2020-12-31 23:57:44   \n",
       "787282  B77B2F4BCA134618 2020-12-31 23:58:23   \n",
       "787283            GLOBAL 2020-12-31 23:58:30   \n",
       "787284  B12AD1623E494FAD 2020-12-31 23:58:34   \n",
       "787285  5456977474344433 2020-12-31 23:59:48   \n",
       "\n",
       "                              event_name      details  \n",
       "0       End of Black Friday Ads Campaign  ZONE_CODE15  \n",
       "1                           registration          0.0  \n",
       "2                           product_page          NaN  \n",
       "3                                  login          NaN  \n",
       "4                           product_page          NaN  \n",
       "...                                  ...          ...  \n",
       "787281                      product_page          NaN  \n",
       "787282                      registration          0.0  \n",
       "787283                      product_cart          NaN  \n",
       "787284                      registration        -6.52  \n",
       "787285                      registration        -3.67  \n",
       "\n",
       "[787286 rows x 4 columns]"
      ]
     },
     "execution_count": 47,
     "metadata": {},
     "output_type": "execute_result"
    }
   ],
   "source": [
    "events"
   ]
  },
  {
   "cell_type": "code",
   "execution_count": 48,
   "id": "aff83bf3",
   "metadata": {},
   "outputs": [
    {
     "name": "stdout",
     "output_type": "stream",
     "text": [
      "<class 'pandas.core.frame.DataFrame'>\n",
      "RangeIndex: 787286 entries, 0 to 787285\n",
      "Data columns (total 4 columns):\n",
      " #   Column      Non-Null Count   Dtype         \n",
      "---  ------      --------------   -----         \n",
      " 0   user_id     787286 non-null  object        \n",
      " 1   event_dt    787286 non-null  datetime64[ns]\n",
      " 2   event_name  787286 non-null  object        \n",
      " 3   details     249022 non-null  object        \n",
      "dtypes: datetime64[ns](1), object(3)\n",
      "memory usage: 24.0+ MB\n"
     ]
    }
   ],
   "source": [
    "events.info()"
   ]
  },
  {
   "cell_type": "code",
   "execution_count": 49,
   "id": "8a3c5c81",
   "metadata": {},
   "outputs": [
    {
     "name": "stdout",
     "output_type": "stream",
     "text": [
      "Уникальные значения в столбце event_name:\n",
      "['End of Black Friday Ads Campaign' 'Start of CIS New Year Gift Lottery'\n",
      " 'Start of Christmas&New Year Promo' 'login' 'product_cart' 'product_page'\n",
      " 'purchase' 'registration']\n",
      "\n",
      "Уникальные значения в столбце details:\n",
      "['-0.4' '-0.41' '-0.43' '-0.45' '-0.48' '-0.5' '-0.81' '-0.86' '-0.88'\n",
      " '-0.9' '-0.95' '-1.0' '-1.22' '-1.26' '-1.29' '-1.35' '-1.42' '-1.5'\n",
      " '-1.63' '-1.69' '-1.71' '-1.8' '-1.9' '-2.0' '-2.04' '-2.14' '-2.26'\n",
      " '-2.3' '-2.38' '-2.44' '-2.5' '-2.57' '-2.71' '-2.85' '-3.0' '-3.16'\n",
      " '-3.26' '-3.32' '-3.43' '-3.5' '-3.61' '-3.67' '-3.8' '-3.83' '-3.86'\n",
      " '-3.93' '-4.0' '-4.06' '-4.07' '-4.2' '-4.26' '-4.27' '-4.29' '-4.46'\n",
      " '-4.48' '-4.5' '-4.51' '-4.69' '-4.72' '-4.75' '-4.89' '-4.96' '-5.0'\n",
      " '-5.14' '-5.22' '-5.29' '-5.41' '-5.5' '-5.57' '-5.7' '-5.87' '-6.0'\n",
      " '-6.11' '-6.18' '-6.32' '-6.43' '-6.5' '-6.52' '-6.65' '-6.77' '-6.86'\n",
      " '-6.92' '-7.0' '-7.12' '-7.22' '-7.29' '-7.33' '-7.5' '-7.6' '-7.67'\n",
      " '-7.72' '-7.74' '-8.0' '-8.07' '-8.12' '-8.15' '-8.5' '-8.55' '-8.57'\n",
      " '-9.0' '-9.02' '-9.5' '0.0' '3.39' '3.49' '3.5900000000000003'\n",
      " '3.6900000000000004' '3.79' '3.89' '3.99' '4.09' '4.19' '4.29'\n",
      " '4.390000000000001' '4.49' '4.59' '4.79' '4.890000000000001' '4.99'\n",
      " '449.39' '449.49' '449.59000000000003' '449.79' '449.89' '449.99'\n",
      " '498.89' '499.39' '499.49' '499.59' '499.59000000000003' '499.79'\n",
      " '499.89' '499.99' '7.99' '8.09' '8.39' '8.49' '8.59' '8.790000000000001'\n",
      " '8.89' '8.99' '89.39' '89.49' '89.58999999999999' '89.78999999999999'\n",
      " '89.89' '89.99' '9.39' '9.49' '9.59' '9.69' '9.79' '9.790000000000001'\n",
      " '9.89' '9.99' '98.99' '99.09' '99.29' '99.39' '99.49' '99.58999999999999'\n",
      " '99.59' '99.69' '99.79' '99.89' '99.99' 'ZONE_CODE02' 'ZONE_CODE09'\n",
      " 'ZONE_CODE15' nan]\n",
      "\n"
     ]
    }
   ],
   "source": [
    "# Проверяем уникальные значения в столбцах\n",
    "for column in ['event_name', 'details']:\n",
    "    print(f'Уникальные значения в столбце {column}:')\n",
    "    print(events[column].sort_values().unique())\n",
    "    print()"
   ]
  },
  {
   "cell_type": "code",
   "execution_count": 50,
   "id": "QMt0Ybo_swDK",
   "metadata": {
    "id": "QMt0Ybo_swDK"
   },
   "outputs": [
    {
     "data": {
      "text/plain": [
       "(Timestamp('2020-12-01 00:00:00'), Timestamp('2020-12-31 23:59:48'))"
      ]
     },
     "execution_count": 50,
     "metadata": {},
     "output_type": "execute_result"
    }
   ],
   "source": [
    "# Даты проведедения эксперимента\n",
    "events['event_dt'].min(), events['event_dt'].max()"
   ]
  },
  {
   "cell_type": "code",
   "execution_count": 51,
   "id": "8ed4906f",
   "metadata": {},
   "outputs": [
    {
     "data": {
      "text/html": [
       "<div>\n",
       "<style scoped>\n",
       "    .dataframe tbody tr th:only-of-type {\n",
       "        vertical-align: middle;\n",
       "    }\n",
       "\n",
       "    .dataframe tbody tr th {\n",
       "        vertical-align: top;\n",
       "    }\n",
       "\n",
       "    .dataframe thead th {\n",
       "        text-align: right;\n",
       "    }\n",
       "</style>\n",
       "<table border=\"1\" class=\"dataframe\">\n",
       "  <thead>\n",
       "    <tr style=\"text-align: right;\">\n",
       "      <th></th>\n",
       "      <th>user_id</th>\n",
       "      <th>event_dt</th>\n",
       "      <th>event_name</th>\n",
       "      <th>details</th>\n",
       "    </tr>\n",
       "  </thead>\n",
       "  <tbody>\n",
       "    <tr>\n",
       "      <th>346517</th>\n",
       "      <td>000199F1887AE5E6</td>\n",
       "      <td>2020-12-15 07:28:44</td>\n",
       "      <td>product_page</td>\n",
       "      <td>NaN</td>\n",
       "    </tr>\n",
       "    <tr>\n",
       "      <th>309140</th>\n",
       "      <td>000199F1887AE5E6</td>\n",
       "      <td>2020-12-14 09:57:42</td>\n",
       "      <td>login</td>\n",
       "      <td>NaN</td>\n",
       "    </tr>\n",
       "    <tr>\n",
       "      <th>346519</th>\n",
       "      <td>000199F1887AE5E6</td>\n",
       "      <td>2020-12-15 07:28:44</td>\n",
       "      <td>product_page</td>\n",
       "      <td>NaN</td>\n",
       "    </tr>\n",
       "    <tr>\n",
       "      <th>346520</th>\n",
       "      <td>000199F1887AE5E6</td>\n",
       "      <td>2020-12-15 07:28:44</td>\n",
       "      <td>product_page</td>\n",
       "      <td>NaN</td>\n",
       "    </tr>\n",
       "    <tr>\n",
       "      <th>589491</th>\n",
       "      <td>0002499E372175C7</td>\n",
       "      <td>2020-12-22 03:51:20</td>\n",
       "      <td>login</td>\n",
       "      <td>NaN</td>\n",
       "    </tr>\n",
       "    <tr>\n",
       "      <th>...</th>\n",
       "      <td>...</td>\n",
       "      <td>...</td>\n",
       "      <td>...</td>\n",
       "      <td>...</td>\n",
       "    </tr>\n",
       "    <tr>\n",
       "      <th>330908</th>\n",
       "      <td>GLOBAL</td>\n",
       "      <td>2020-12-14 22:06:02</td>\n",
       "      <td>product_page</td>\n",
       "      <td>NaN</td>\n",
       "    </tr>\n",
       "    <tr>\n",
       "      <th>660387</th>\n",
       "      <td>GLOBAL</td>\n",
       "      <td>2020-12-24 04:56:08</td>\n",
       "      <td>product_cart</td>\n",
       "      <td>NaN</td>\n",
       "    </tr>\n",
       "    <tr>\n",
       "      <th>331441</th>\n",
       "      <td>GLOBAL</td>\n",
       "      <td>2020-12-14 22:22:14</td>\n",
       "      <td>product_page</td>\n",
       "      <td>NaN</td>\n",
       "    </tr>\n",
       "    <tr>\n",
       "      <th>750055</th>\n",
       "      <td>GLOBAL</td>\n",
       "      <td>2020-12-28 23:33:19</td>\n",
       "      <td>purchase</td>\n",
       "      <td>4.49</td>\n",
       "    </tr>\n",
       "    <tr>\n",
       "      <th>787263</th>\n",
       "      <td>GLOBAL</td>\n",
       "      <td>2020-12-31 23:53:42</td>\n",
       "      <td>purchase</td>\n",
       "      <td>4.49</td>\n",
       "    </tr>\n",
       "  </tbody>\n",
       "</table>\n",
       "<p>36318 rows × 4 columns</p>\n",
       "</div>"
      ],
      "text/plain": [
       "                 user_id            event_dt    event_name details\n",
       "346517  000199F1887AE5E6 2020-12-15 07:28:44  product_page     NaN\n",
       "309140  000199F1887AE5E6 2020-12-14 09:57:42         login     NaN\n",
       "346519  000199F1887AE5E6 2020-12-15 07:28:44  product_page     NaN\n",
       "346520  000199F1887AE5E6 2020-12-15 07:28:44  product_page     NaN\n",
       "589491  0002499E372175C7 2020-12-22 03:51:20         login     NaN\n",
       "...                  ...                 ...           ...     ...\n",
       "330908            GLOBAL 2020-12-14 22:06:02  product_page     NaN\n",
       "660387            GLOBAL 2020-12-24 04:56:08  product_cart     NaN\n",
       "331441            GLOBAL 2020-12-14 22:22:14  product_page     NaN\n",
       "750055            GLOBAL 2020-12-28 23:33:19      purchase    4.49\n",
       "787263            GLOBAL 2020-12-31 23:53:42      purchase    4.49\n",
       "\n",
       "[36318 rows x 4 columns]"
      ]
     },
     "execution_count": 51,
     "metadata": {},
     "output_type": "execute_result"
    }
   ],
   "source": [
    "events[events.duplicated()].sort_values('user_id')"
   ]
  },
  {
   "cell_type": "code",
   "execution_count": 52,
   "id": "6f841846",
   "metadata": {},
   "outputs": [
    {
     "data": {
      "text/html": [
       "<div>\n",
       "<style scoped>\n",
       "    .dataframe tbody tr th:only-of-type {\n",
       "        vertical-align: middle;\n",
       "    }\n",
       "\n",
       "    .dataframe tbody tr th {\n",
       "        vertical-align: top;\n",
       "    }\n",
       "\n",
       "    .dataframe thead th {\n",
       "        text-align: right;\n",
       "    }\n",
       "</style>\n",
       "<table border=\"1\" class=\"dataframe\">\n",
       "  <thead>\n",
       "    <tr style=\"text-align: right;\">\n",
       "      <th></th>\n",
       "      <th>user_id</th>\n",
       "      <th>group</th>\n",
       "      <th>ab_test</th>\n",
       "      <th>device</th>\n",
       "    </tr>\n",
       "  </thead>\n",
       "  <tbody>\n",
       "  </tbody>\n",
       "</table>\n",
       "</div>"
      ],
      "text/plain": [
       "Empty DataFrame\n",
       "Columns: [user_id, group, ab_test, device]\n",
       "Index: []"
      ]
     },
     "execution_count": 52,
     "metadata": {},
     "output_type": "execute_result"
    }
   ],
   "source": [
    "# Проверяем, есть ли в таблице participants пользователи которых нет в events\n",
    "participants[~participants['user_id'].isin(events['user_id'])]"
   ]
  },
  {
   "cell_type": "code",
   "execution_count": 53,
   "id": "bab6259a",
   "metadata": {},
   "outputs": [
    {
     "data": {
      "text/html": [
       "<div>\n",
       "<style scoped>\n",
       "    .dataframe tbody tr th:only-of-type {\n",
       "        vertical-align: middle;\n",
       "    }\n",
       "\n",
       "    .dataframe tbody tr th {\n",
       "        vertical-align: top;\n",
       "    }\n",
       "\n",
       "    .dataframe thead th {\n",
       "        text-align: right;\n",
       "    }\n",
       "</style>\n",
       "<table border=\"1\" class=\"dataframe\">\n",
       "  <thead>\n",
       "    <tr style=\"text-align: right;\">\n",
       "      <th></th>\n",
       "      <th>user_id</th>\n",
       "      <th>group</th>\n",
       "      <th>ab_test</th>\n",
       "      <th>device</th>\n",
       "      <th>event_dt</th>\n",
       "      <th>event_name</th>\n",
       "      <th>details</th>\n",
       "    </tr>\n",
       "  </thead>\n",
       "  <tbody>\n",
       "    <tr>\n",
       "      <th>0</th>\n",
       "      <td>0002CE61FF2C4011</td>\n",
       "      <td>B</td>\n",
       "      <td>interface_eu_test</td>\n",
       "      <td>Mac</td>\n",
       "      <td>2020-12-07 04:37:31</td>\n",
       "      <td>registration</td>\n",
       "      <td>-2.38</td>\n",
       "    </tr>\n",
       "    <tr>\n",
       "      <th>1</th>\n",
       "      <td>0002CE61FF2C4011</td>\n",
       "      <td>B</td>\n",
       "      <td>interface_eu_test</td>\n",
       "      <td>Mac</td>\n",
       "      <td>2020-12-07 04:37:49</td>\n",
       "      <td>login</td>\n",
       "      <td>NaN</td>\n",
       "    </tr>\n",
       "    <tr>\n",
       "      <th>2</th>\n",
       "      <td>0002CE61FF2C4011</td>\n",
       "      <td>B</td>\n",
       "      <td>interface_eu_test</td>\n",
       "      <td>Mac</td>\n",
       "      <td>2020-12-07 04:37:57</td>\n",
       "      <td>login</td>\n",
       "      <td>NaN</td>\n",
       "    </tr>\n",
       "    <tr>\n",
       "      <th>3</th>\n",
       "      <td>0002CE61FF2C4011</td>\n",
       "      <td>B</td>\n",
       "      <td>interface_eu_test</td>\n",
       "      <td>Mac</td>\n",
       "      <td>2020-12-07 04:38:54</td>\n",
       "      <td>login</td>\n",
       "      <td>NaN</td>\n",
       "    </tr>\n",
       "    <tr>\n",
       "      <th>4</th>\n",
       "      <td>0002CE61FF2C4011</td>\n",
       "      <td>B</td>\n",
       "      <td>interface_eu_test</td>\n",
       "      <td>Mac</td>\n",
       "      <td>2020-12-08 22:15:35</td>\n",
       "      <td>login</td>\n",
       "      <td>NaN</td>\n",
       "    </tr>\n",
       "    <tr>\n",
       "      <th>...</th>\n",
       "      <td>...</td>\n",
       "      <td>...</td>\n",
       "      <td>...</td>\n",
       "      <td>...</td>\n",
       "      <td>...</td>\n",
       "      <td>...</td>\n",
       "      <td>...</td>\n",
       "    </tr>\n",
       "    <tr>\n",
       "      <th>73810</th>\n",
       "      <td>FFEFC0E55C1CCD4F</td>\n",
       "      <td>A</td>\n",
       "      <td>interface_eu_test</td>\n",
       "      <td>PC</td>\n",
       "      <td>2020-12-13 23:52:22</td>\n",
       "      <td>login</td>\n",
       "      <td>NaN</td>\n",
       "    </tr>\n",
       "    <tr>\n",
       "      <th>73811</th>\n",
       "      <td>FFEFC0E55C1CCD4F</td>\n",
       "      <td>A</td>\n",
       "      <td>interface_eu_test</td>\n",
       "      <td>PC</td>\n",
       "      <td>2020-12-28 00:29:10</td>\n",
       "      <td>login</td>\n",
       "      <td>NaN</td>\n",
       "    </tr>\n",
       "    <tr>\n",
       "      <th>73812</th>\n",
       "      <td>FFF58BC33966EB51</td>\n",
       "      <td>A</td>\n",
       "      <td>interface_eu_test</td>\n",
       "      <td>Android</td>\n",
       "      <td>2020-12-13 17:37:34</td>\n",
       "      <td>registration</td>\n",
       "      <td>-0.45</td>\n",
       "    </tr>\n",
       "    <tr>\n",
       "      <th>73813</th>\n",
       "      <td>FFF58BC33966EB51</td>\n",
       "      <td>A</td>\n",
       "      <td>interface_eu_test</td>\n",
       "      <td>Android</td>\n",
       "      <td>2020-12-13 17:56:02</td>\n",
       "      <td>login</td>\n",
       "      <td>NaN</td>\n",
       "    </tr>\n",
       "    <tr>\n",
       "      <th>73814</th>\n",
       "      <td>FFF58BC33966EB51</td>\n",
       "      <td>A</td>\n",
       "      <td>interface_eu_test</td>\n",
       "      <td>Android</td>\n",
       "      <td>2020-12-17 03:21:02</td>\n",
       "      <td>login</td>\n",
       "      <td>NaN</td>\n",
       "    </tr>\n",
       "  </tbody>\n",
       "</table>\n",
       "<p>73815 rows × 7 columns</p>\n",
       "</div>"
      ],
      "text/plain": [
       "                user_id group            ab_test   device            event_dt  \\\n",
       "0      0002CE61FF2C4011     B  interface_eu_test      Mac 2020-12-07 04:37:31   \n",
       "1      0002CE61FF2C4011     B  interface_eu_test      Mac 2020-12-07 04:37:49   \n",
       "2      0002CE61FF2C4011     B  interface_eu_test      Mac 2020-12-07 04:37:57   \n",
       "3      0002CE61FF2C4011     B  interface_eu_test      Mac 2020-12-07 04:38:54   \n",
       "4      0002CE61FF2C4011     B  interface_eu_test      Mac 2020-12-08 22:15:35   \n",
       "...                 ...   ...                ...      ...                 ...   \n",
       "73810  FFEFC0E55C1CCD4F     A  interface_eu_test       PC 2020-12-13 23:52:22   \n",
       "73811  FFEFC0E55C1CCD4F     A  interface_eu_test       PC 2020-12-28 00:29:10   \n",
       "73812  FFF58BC33966EB51     A  interface_eu_test  Android 2020-12-13 17:37:34   \n",
       "73813  FFF58BC33966EB51     A  interface_eu_test  Android 2020-12-13 17:56:02   \n",
       "73814  FFF58BC33966EB51     A  interface_eu_test  Android 2020-12-17 03:21:02   \n",
       "\n",
       "         event_name details  \n",
       "0      registration   -2.38  \n",
       "1             login     NaN  \n",
       "2             login     NaN  \n",
       "3             login     NaN  \n",
       "4             login     NaN  \n",
       "...             ...     ...  \n",
       "73810         login     NaN  \n",
       "73811         login     NaN  \n",
       "73812  registration   -0.45  \n",
       "73813         login     NaN  \n",
       "73814         login     NaN  \n",
       "\n",
       "[73815 rows x 7 columns]"
      ]
     },
     "execution_count": 53,
     "metadata": {},
     "output_type": "execute_result"
    }
   ],
   "source": [
    "# Объединим таблицы в новый Дф, так чтобы действия из таблицы events были доступны для всех пользователей таблицы participants\n",
    "df=participants.merge(events, on='user_id', how='left')\n",
    "df"
   ]
  },
  {
   "cell_type": "code",
   "execution_count": 54,
   "id": "fed76f72",
   "metadata": {},
   "outputs": [
    {
     "name": "stdout",
     "output_type": "stream",
     "text": [
      "<class 'pandas.core.frame.DataFrame'>\n",
      "Int64Index: 73815 entries, 0 to 73814\n",
      "Data columns (total 7 columns):\n",
      " #   Column      Non-Null Count  Dtype         \n",
      "---  ------      --------------  -----         \n",
      " 0   user_id     73815 non-null  object        \n",
      " 1   group       73815 non-null  object        \n",
      " 2   ab_test     73815 non-null  object        \n",
      " 3   device      73815 non-null  object        \n",
      " 4   event_dt    73815 non-null  datetime64[ns]\n",
      " 5   event_name  73815 non-null  object        \n",
      " 6   details     19450 non-null  object        \n",
      "dtypes: datetime64[ns](1), object(6)\n",
      "memory usage: 4.5+ MB\n"
     ]
    }
   ],
   "source": [
    "df.info()"
   ]
  },
  {
   "cell_type": "markdown",
   "id": "fBZ4DC2xswZJ",
   "metadata": {
    "id": "fBZ4DC2xswZJ"
   },
   "source": [
    "- определите горизонт анализа: рассчитайте время (лайфтайм) совершения события пользователем после регистрации и оставьте только те события, которые были выполнены в течение первых семи дней с момента регистрации;"
   ]
  },
  {
   "cell_type": "code",
   "execution_count": 55,
   "id": "6a48b709",
   "metadata": {},
   "outputs": [
    {
     "data": {
      "text/html": [
       "<div>\n",
       "<style scoped>\n",
       "    .dataframe tbody tr th:only-of-type {\n",
       "        vertical-align: middle;\n",
       "    }\n",
       "\n",
       "    .dataframe tbody tr th {\n",
       "        vertical-align: top;\n",
       "    }\n",
       "\n",
       "    .dataframe thead th {\n",
       "        text-align: right;\n",
       "    }\n",
       "</style>\n",
       "<table border=\"1\" class=\"dataframe\">\n",
       "  <thead>\n",
       "    <tr style=\"text-align: right;\">\n",
       "      <th></th>\n",
       "      <th>user_id</th>\n",
       "      <th>group</th>\n",
       "      <th>ab_test</th>\n",
       "      <th>device</th>\n",
       "      <th>event_dt</th>\n",
       "      <th>event_name</th>\n",
       "      <th>details</th>\n",
       "    </tr>\n",
       "  </thead>\n",
       "  <tbody>\n",
       "    <tr>\n",
       "      <th>0</th>\n",
       "      <td>0002CE61FF2C4011</td>\n",
       "      <td>B</td>\n",
       "      <td>interface_eu_test</td>\n",
       "      <td>Mac</td>\n",
       "      <td>2020-12-07 04:37:31</td>\n",
       "      <td>registration</td>\n",
       "      <td>-2.38</td>\n",
       "    </tr>\n",
       "    <tr>\n",
       "      <th>11</th>\n",
       "      <td>001E72F50D1C48FA</td>\n",
       "      <td>A</td>\n",
       "      <td>interface_eu_test</td>\n",
       "      <td>Mac</td>\n",
       "      <td>2020-12-17 15:44:05</td>\n",
       "      <td>registration</td>\n",
       "      <td>-3.61</td>\n",
       "    </tr>\n",
       "    <tr>\n",
       "      <th>18</th>\n",
       "      <td>002412F1EB3F6E38</td>\n",
       "      <td>B</td>\n",
       "      <td>interface_eu_test</td>\n",
       "      <td>Mac</td>\n",
       "      <td>2020-12-09 09:36:50</td>\n",
       "      <td>registration</td>\n",
       "      <td>-0.48</td>\n",
       "    </tr>\n",
       "    <tr>\n",
       "      <th>26</th>\n",
       "      <td>002540BE89C930FB</td>\n",
       "      <td>B</td>\n",
       "      <td>interface_eu_test</td>\n",
       "      <td>Android</td>\n",
       "      <td>2020-12-08 18:06:07</td>\n",
       "      <td>registration</td>\n",
       "      <td>-2.38</td>\n",
       "    </tr>\n",
       "    <tr>\n",
       "      <th>35</th>\n",
       "      <td>0031F1B5E9FBF708</td>\n",
       "      <td>A</td>\n",
       "      <td>interface_eu_test</td>\n",
       "      <td>Android</td>\n",
       "      <td>2020-12-14 00:47:10</td>\n",
       "      <td>registration</td>\n",
       "      <td>-2.26</td>\n",
       "    </tr>\n",
       "    <tr>\n",
       "      <th>...</th>\n",
       "      <td>...</td>\n",
       "      <td>...</td>\n",
       "      <td>...</td>\n",
       "      <td>...</td>\n",
       "      <td>...</td>\n",
       "      <td>...</td>\n",
       "      <td>...</td>\n",
       "    </tr>\n",
       "    <tr>\n",
       "      <th>73784</th>\n",
       "      <td>FFE5B14BD55C1C5C</td>\n",
       "      <td>A</td>\n",
       "      <td>interface_eu_test</td>\n",
       "      <td>PC</td>\n",
       "      <td>2020-12-19 06:27:24</td>\n",
       "      <td>registration</td>\n",
       "      <td>-0.45</td>\n",
       "    </tr>\n",
       "    <tr>\n",
       "      <th>73787</th>\n",
       "      <td>FFE600EEC4BA7685</td>\n",
       "      <td>B</td>\n",
       "      <td>interface_eu_test</td>\n",
       "      <td>Android</td>\n",
       "      <td>2020-12-13 21:43:31</td>\n",
       "      <td>registration</td>\n",
       "      <td>-2.26</td>\n",
       "    </tr>\n",
       "    <tr>\n",
       "      <th>73794</th>\n",
       "      <td>FFE7FC140521F5F6</td>\n",
       "      <td>A</td>\n",
       "      <td>interface_eu_test</td>\n",
       "      <td>PC</td>\n",
       "      <td>2020-12-23 09:10:16</td>\n",
       "      <td>registration</td>\n",
       "      <td>-3.43</td>\n",
       "    </tr>\n",
       "    <tr>\n",
       "      <th>73809</th>\n",
       "      <td>FFEFC0E55C1CCD4F</td>\n",
       "      <td>A</td>\n",
       "      <td>interface_eu_test</td>\n",
       "      <td>PC</td>\n",
       "      <td>2020-12-13 23:52:15</td>\n",
       "      <td>registration</td>\n",
       "      <td>0.0</td>\n",
       "    </tr>\n",
       "    <tr>\n",
       "      <th>73812</th>\n",
       "      <td>FFF58BC33966EB51</td>\n",
       "      <td>A</td>\n",
       "      <td>interface_eu_test</td>\n",
       "      <td>Android</td>\n",
       "      <td>2020-12-13 17:37:34</td>\n",
       "      <td>registration</td>\n",
       "      <td>-0.45</td>\n",
       "    </tr>\n",
       "  </tbody>\n",
       "</table>\n",
       "<p>9963 rows × 7 columns</p>\n",
       "</div>"
      ],
      "text/plain": [
       "                user_id group            ab_test   device            event_dt  \\\n",
       "0      0002CE61FF2C4011     B  interface_eu_test      Mac 2020-12-07 04:37:31   \n",
       "11     001E72F50D1C48FA     A  interface_eu_test      Mac 2020-12-17 15:44:05   \n",
       "18     002412F1EB3F6E38     B  interface_eu_test      Mac 2020-12-09 09:36:50   \n",
       "26     002540BE89C930FB     B  interface_eu_test  Android 2020-12-08 18:06:07   \n",
       "35     0031F1B5E9FBF708     A  interface_eu_test  Android 2020-12-14 00:47:10   \n",
       "...                 ...   ...                ...      ...                 ...   \n",
       "73784  FFE5B14BD55C1C5C     A  interface_eu_test       PC 2020-12-19 06:27:24   \n",
       "73787  FFE600EEC4BA7685     B  interface_eu_test  Android 2020-12-13 21:43:31   \n",
       "73794  FFE7FC140521F5F6     A  interface_eu_test       PC 2020-12-23 09:10:16   \n",
       "73809  FFEFC0E55C1CCD4F     A  interface_eu_test       PC 2020-12-13 23:52:15   \n",
       "73812  FFF58BC33966EB51     A  interface_eu_test  Android 2020-12-13 17:37:34   \n",
       "\n",
       "         event_name details  \n",
       "0      registration   -2.38  \n",
       "11     registration   -3.61  \n",
       "18     registration   -0.48  \n",
       "26     registration   -2.38  \n",
       "35     registration   -2.26  \n",
       "...             ...     ...  \n",
       "73784  registration   -0.45  \n",
       "73787  registration   -2.26  \n",
       "73794  registration   -3.43  \n",
       "73809  registration     0.0  \n",
       "73812  registration   -0.45  \n",
       "\n",
       "[9963 rows x 7 columns]"
      ]
     },
     "execution_count": 55,
     "metadata": {},
     "output_type": "execute_result"
    }
   ],
   "source": [
    "# Выведем в отдельный Датафрейм зарегистрировавшихся пользователей\n",
    "df_registration = df[df['event_name']=='registration']\n",
    "df_registration "
   ]
  },
  {
   "cell_type": "code",
   "execution_count": 56,
   "id": "68a429a6",
   "metadata": {},
   "outputs": [
    {
     "data": {
      "text/html": [
       "<div>\n",
       "<style scoped>\n",
       "    .dataframe tbody tr th:only-of-type {\n",
       "        vertical-align: middle;\n",
       "    }\n",
       "\n",
       "    .dataframe tbody tr th {\n",
       "        vertical-align: top;\n",
       "    }\n",
       "\n",
       "    .dataframe thead th {\n",
       "        text-align: right;\n",
       "    }\n",
       "</style>\n",
       "<table border=\"1\" class=\"dataframe\">\n",
       "  <thead>\n",
       "    <tr style=\"text-align: right;\">\n",
       "      <th></th>\n",
       "      <th>user_id</th>\n",
       "      <th>event_dt</th>\n",
       "    </tr>\n",
       "  </thead>\n",
       "  <tbody>\n",
       "    <tr>\n",
       "      <th>0</th>\n",
       "      <td>0031F1B5E9FBF708</td>\n",
       "      <td>2020-12-15 18:54:51</td>\n",
       "    </tr>\n",
       "    <tr>\n",
       "      <th>1</th>\n",
       "      <td>004C58ADE7CA8C4A</td>\n",
       "      <td>2020-12-20 01:13:34</td>\n",
       "    </tr>\n",
       "    <tr>\n",
       "      <th>2</th>\n",
       "      <td>0050F43F34C955F4</td>\n",
       "      <td>2020-12-13 19:44:29</td>\n",
       "    </tr>\n",
       "    <tr>\n",
       "      <th>3</th>\n",
       "      <td>0053DD654C9513D6</td>\n",
       "      <td>2020-12-15 08:46:21</td>\n",
       "    </tr>\n",
       "    <tr>\n",
       "      <th>4</th>\n",
       "      <td>0082A350AF0647FA</td>\n",
       "      <td>2020-12-26 18:22:56</td>\n",
       "    </tr>\n",
       "    <tr>\n",
       "      <th>...</th>\n",
       "      <td>...</td>\n",
       "      <td>...</td>\n",
       "    </tr>\n",
       "    <tr>\n",
       "      <th>3415</th>\n",
       "      <td>FF827554725859E2</td>\n",
       "      <td>2020-12-28 18:57:32</td>\n",
       "    </tr>\n",
       "    <tr>\n",
       "      <th>3416</th>\n",
       "      <td>FFA72985E689ABBB</td>\n",
       "      <td>2020-12-18 19:16:48</td>\n",
       "    </tr>\n",
       "    <tr>\n",
       "      <th>3417</th>\n",
       "      <td>FFD58017F5FA2DAC</td>\n",
       "      <td>2020-12-16 22:57:35</td>\n",
       "    </tr>\n",
       "    <tr>\n",
       "      <th>3418</th>\n",
       "      <td>FFE40BDB7364E966</td>\n",
       "      <td>2020-12-24 18:57:56</td>\n",
       "    </tr>\n",
       "    <tr>\n",
       "      <th>3419</th>\n",
       "      <td>FFE7FC140521F5F6</td>\n",
       "      <td>2020-12-26 14:37:21</td>\n",
       "    </tr>\n",
       "  </tbody>\n",
       "</table>\n",
       "<p>3420 rows × 2 columns</p>\n",
       "</div>"
      ],
      "text/plain": [
       "               user_id            event_dt\n",
       "0     0031F1B5E9FBF708 2020-12-15 18:54:51\n",
       "1     004C58ADE7CA8C4A 2020-12-20 01:13:34\n",
       "2     0050F43F34C955F4 2020-12-13 19:44:29\n",
       "3     0053DD654C9513D6 2020-12-15 08:46:21\n",
       "4     0082A350AF0647FA 2020-12-26 18:22:56\n",
       "...                ...                 ...\n",
       "3415  FF827554725859E2 2020-12-28 18:57:32\n",
       "3416  FFA72985E689ABBB 2020-12-18 19:16:48\n",
       "3417  FFD58017F5FA2DAC 2020-12-16 22:57:35\n",
       "3418  FFE40BDB7364E966 2020-12-24 18:57:56\n",
       "3419  FFE7FC140521F5F6 2020-12-26 14:37:21\n",
       "\n",
       "[3420 rows x 2 columns]"
      ]
     },
     "execution_count": 56,
     "metadata": {},
     "output_type": "execute_result"
    }
   ],
   "source": [
    "# Выведем на экран Датафрейм с пользователями которые совершили покупку\n",
    "df_purchase = df[(df['event_name']=='purchase')]\n",
    "df_purchase = df_purchase.groupby('user_id')['event_dt'].min().reset_index()\n",
    "df_purchase"
   ]
  },
  {
   "cell_type": "code",
   "execution_count": 57,
   "id": "1fe890cf",
   "metadata": {},
   "outputs": [
    {
     "data": {
      "text/html": [
       "<div>\n",
       "<style scoped>\n",
       "    .dataframe tbody tr th:only-of-type {\n",
       "        vertical-align: middle;\n",
       "    }\n",
       "\n",
       "    .dataframe tbody tr th {\n",
       "        vertical-align: top;\n",
       "    }\n",
       "\n",
       "    .dataframe thead th {\n",
       "        text-align: right;\n",
       "    }\n",
       "</style>\n",
       "<table border=\"1\" class=\"dataframe\">\n",
       "  <thead>\n",
       "    <tr style=\"text-align: right;\">\n",
       "      <th></th>\n",
       "      <th>user_id</th>\n",
       "      <th>group</th>\n",
       "      <th>ab_test</th>\n",
       "      <th>device</th>\n",
       "      <th>event_dt_x</th>\n",
       "      <th>event_name</th>\n",
       "      <th>details</th>\n",
       "      <th>event_dt_y</th>\n",
       "    </tr>\n",
       "  </thead>\n",
       "  <tbody>\n",
       "    <tr>\n",
       "      <th>0</th>\n",
       "      <td>0031F1B5E9FBF708</td>\n",
       "      <td>A</td>\n",
       "      <td>interface_eu_test</td>\n",
       "      <td>Android</td>\n",
       "      <td>2020-12-14 00:47:10</td>\n",
       "      <td>registration</td>\n",
       "      <td>-2.26</td>\n",
       "      <td>2020-12-15 18:54:51</td>\n",
       "    </tr>\n",
       "    <tr>\n",
       "      <th>1</th>\n",
       "      <td>004C58ADE7CA8C4A</td>\n",
       "      <td>B</td>\n",
       "      <td>interface_eu_test</td>\n",
       "      <td>Android</td>\n",
       "      <td>2020-12-18 15:14:53</td>\n",
       "      <td>registration</td>\n",
       "      <td>-0.45</td>\n",
       "      <td>2020-12-20 01:13:34</td>\n",
       "    </tr>\n",
       "    <tr>\n",
       "      <th>2</th>\n",
       "      <td>0050F43F34C955F4</td>\n",
       "      <td>A</td>\n",
       "      <td>interface_eu_test</td>\n",
       "      <td>PC</td>\n",
       "      <td>2020-12-13 19:41:56</td>\n",
       "      <td>registration</td>\n",
       "      <td>0.0</td>\n",
       "      <td>2020-12-13 19:44:29</td>\n",
       "    </tr>\n",
       "    <tr>\n",
       "      <th>3</th>\n",
       "      <td>0053DD654C9513D6</td>\n",
       "      <td>B</td>\n",
       "      <td>interface_eu_test</td>\n",
       "      <td>PC</td>\n",
       "      <td>2020-12-12 04:35:20</td>\n",
       "      <td>registration</td>\n",
       "      <td>-6.65</td>\n",
       "      <td>2020-12-15 08:46:21</td>\n",
       "    </tr>\n",
       "    <tr>\n",
       "      <th>4</th>\n",
       "      <td>0082A350AF0647FA</td>\n",
       "      <td>A</td>\n",
       "      <td>interface_eu_test</td>\n",
       "      <td>PC</td>\n",
       "      <td>2020-12-22 21:34:49</td>\n",
       "      <td>registration</td>\n",
       "      <td>0.0</td>\n",
       "      <td>2020-12-26 18:22:56</td>\n",
       "    </tr>\n",
       "    <tr>\n",
       "      <th>...</th>\n",
       "      <td>...</td>\n",
       "      <td>...</td>\n",
       "      <td>...</td>\n",
       "      <td>...</td>\n",
       "      <td>...</td>\n",
       "      <td>...</td>\n",
       "      <td>...</td>\n",
       "      <td>...</td>\n",
       "    </tr>\n",
       "    <tr>\n",
       "      <th>3415</th>\n",
       "      <td>FF827554725859E2</td>\n",
       "      <td>A</td>\n",
       "      <td>interface_eu_test</td>\n",
       "      <td>Mac</td>\n",
       "      <td>2020-12-23 03:50:20</td>\n",
       "      <td>registration</td>\n",
       "      <td>-2.14</td>\n",
       "      <td>2020-12-28 18:57:32</td>\n",
       "    </tr>\n",
       "    <tr>\n",
       "      <th>3416</th>\n",
       "      <td>FFA72985E689ABBB</td>\n",
       "      <td>A</td>\n",
       "      <td>interface_eu_test</td>\n",
       "      <td>PC</td>\n",
       "      <td>2020-12-15 20:18:10</td>\n",
       "      <td>registration</td>\n",
       "      <td>-4.51</td>\n",
       "      <td>2020-12-18 19:16:48</td>\n",
       "    </tr>\n",
       "    <tr>\n",
       "      <th>3417</th>\n",
       "      <td>FFD58017F5FA2DAC</td>\n",
       "      <td>A</td>\n",
       "      <td>interface_eu_test</td>\n",
       "      <td>Android</td>\n",
       "      <td>2020-12-13 00:55:02</td>\n",
       "      <td>registration</td>\n",
       "      <td>-2.26</td>\n",
       "      <td>2020-12-16 22:57:35</td>\n",
       "    </tr>\n",
       "    <tr>\n",
       "      <th>3418</th>\n",
       "      <td>FFE40BDB7364E966</td>\n",
       "      <td>A</td>\n",
       "      <td>interface_eu_test</td>\n",
       "      <td>Android</td>\n",
       "      <td>2020-12-22 04:07:47</td>\n",
       "      <td>registration</td>\n",
       "      <td>0.0</td>\n",
       "      <td>2020-12-24 18:57:56</td>\n",
       "    </tr>\n",
       "    <tr>\n",
       "      <th>3419</th>\n",
       "      <td>FFE7FC140521F5F6</td>\n",
       "      <td>A</td>\n",
       "      <td>interface_eu_test</td>\n",
       "      <td>PC</td>\n",
       "      <td>2020-12-23 09:10:16</td>\n",
       "      <td>registration</td>\n",
       "      <td>-3.43</td>\n",
       "      <td>2020-12-26 14:37:21</td>\n",
       "    </tr>\n",
       "  </tbody>\n",
       "</table>\n",
       "<p>3420 rows × 8 columns</p>\n",
       "</div>"
      ],
      "text/plain": [
       "               user_id group            ab_test   device          event_dt_x  \\\n",
       "0     0031F1B5E9FBF708     A  interface_eu_test  Android 2020-12-14 00:47:10   \n",
       "1     004C58ADE7CA8C4A     B  interface_eu_test  Android 2020-12-18 15:14:53   \n",
       "2     0050F43F34C955F4     A  interface_eu_test       PC 2020-12-13 19:41:56   \n",
       "3     0053DD654C9513D6     B  interface_eu_test       PC 2020-12-12 04:35:20   \n",
       "4     0082A350AF0647FA     A  interface_eu_test       PC 2020-12-22 21:34:49   \n",
       "...                ...   ...                ...      ...                 ...   \n",
       "3415  FF827554725859E2     A  interface_eu_test      Mac 2020-12-23 03:50:20   \n",
       "3416  FFA72985E689ABBB     A  interface_eu_test       PC 2020-12-15 20:18:10   \n",
       "3417  FFD58017F5FA2DAC     A  interface_eu_test  Android 2020-12-13 00:55:02   \n",
       "3418  FFE40BDB7364E966     A  interface_eu_test  Android 2020-12-22 04:07:47   \n",
       "3419  FFE7FC140521F5F6     A  interface_eu_test       PC 2020-12-23 09:10:16   \n",
       "\n",
       "        event_name details          event_dt_y  \n",
       "0     registration   -2.26 2020-12-15 18:54:51  \n",
       "1     registration   -0.45 2020-12-20 01:13:34  \n",
       "2     registration     0.0 2020-12-13 19:44:29  \n",
       "3     registration   -6.65 2020-12-15 08:46:21  \n",
       "4     registration     0.0 2020-12-26 18:22:56  \n",
       "...            ...     ...                 ...  \n",
       "3415  registration   -2.14 2020-12-28 18:57:32  \n",
       "3416  registration   -4.51 2020-12-18 19:16:48  \n",
       "3417  registration   -2.26 2020-12-16 22:57:35  \n",
       "3418  registration     0.0 2020-12-24 18:57:56  \n",
       "3419  registration   -3.43 2020-12-26 14:37:21  \n",
       "\n",
       "[3420 rows x 8 columns]"
      ]
     },
     "execution_count": 57,
     "metadata": {},
     "output_type": "execute_result"
    }
   ],
   "source": [
    "# Объединим в один датафрей купивших пользователей\n",
    "df_metric = df_registration.merge(df_purchase, on='user_id', how='right')\n",
    "df_metric"
   ]
  },
  {
   "cell_type": "code",
   "execution_count": 58,
   "id": "b8e9f43d",
   "metadata": {},
   "outputs": [
    {
     "data": {
      "text/html": [
       "<div>\n",
       "<style scoped>\n",
       "    .dataframe tbody tr th:only-of-type {\n",
       "        vertical-align: middle;\n",
       "    }\n",
       "\n",
       "    .dataframe tbody tr th {\n",
       "        vertical-align: top;\n",
       "    }\n",
       "\n",
       "    .dataframe thead th {\n",
       "        text-align: right;\n",
       "    }\n",
       "</style>\n",
       "<table border=\"1\" class=\"dataframe\">\n",
       "  <thead>\n",
       "    <tr style=\"text-align: right;\">\n",
       "      <th></th>\n",
       "      <th>user_id</th>\n",
       "      <th>group</th>\n",
       "      <th>ab_test</th>\n",
       "      <th>device</th>\n",
       "      <th>event_dt_x</th>\n",
       "      <th>event_name</th>\n",
       "      <th>details</th>\n",
       "      <th>event_dt_y</th>\n",
       "      <th>7days_purchase</th>\n",
       "    </tr>\n",
       "  </thead>\n",
       "  <tbody>\n",
       "    <tr>\n",
       "      <th>0</th>\n",
       "      <td>0031F1B5E9FBF708</td>\n",
       "      <td>A</td>\n",
       "      <td>interface_eu_test</td>\n",
       "      <td>Android</td>\n",
       "      <td>2020-12-14 00:47:10</td>\n",
       "      <td>registration</td>\n",
       "      <td>-2.26</td>\n",
       "      <td>2020-12-15 18:54:51</td>\n",
       "      <td>True</td>\n",
       "    </tr>\n",
       "    <tr>\n",
       "      <th>1</th>\n",
       "      <td>004C58ADE7CA8C4A</td>\n",
       "      <td>B</td>\n",
       "      <td>interface_eu_test</td>\n",
       "      <td>Android</td>\n",
       "      <td>2020-12-18 15:14:53</td>\n",
       "      <td>registration</td>\n",
       "      <td>-0.45</td>\n",
       "      <td>2020-12-20 01:13:34</td>\n",
       "      <td>True</td>\n",
       "    </tr>\n",
       "    <tr>\n",
       "      <th>2</th>\n",
       "      <td>0050F43F34C955F4</td>\n",
       "      <td>A</td>\n",
       "      <td>interface_eu_test</td>\n",
       "      <td>PC</td>\n",
       "      <td>2020-12-13 19:41:56</td>\n",
       "      <td>registration</td>\n",
       "      <td>0.0</td>\n",
       "      <td>2020-12-13 19:44:29</td>\n",
       "      <td>True</td>\n",
       "    </tr>\n",
       "    <tr>\n",
       "      <th>3</th>\n",
       "      <td>0053DD654C9513D6</td>\n",
       "      <td>B</td>\n",
       "      <td>interface_eu_test</td>\n",
       "      <td>PC</td>\n",
       "      <td>2020-12-12 04:35:20</td>\n",
       "      <td>registration</td>\n",
       "      <td>-6.65</td>\n",
       "      <td>2020-12-15 08:46:21</td>\n",
       "      <td>True</td>\n",
       "    </tr>\n",
       "    <tr>\n",
       "      <th>4</th>\n",
       "      <td>0082A350AF0647FA</td>\n",
       "      <td>A</td>\n",
       "      <td>interface_eu_test</td>\n",
       "      <td>PC</td>\n",
       "      <td>2020-12-22 21:34:49</td>\n",
       "      <td>registration</td>\n",
       "      <td>0.0</td>\n",
       "      <td>2020-12-26 18:22:56</td>\n",
       "      <td>True</td>\n",
       "    </tr>\n",
       "    <tr>\n",
       "      <th>...</th>\n",
       "      <td>...</td>\n",
       "      <td>...</td>\n",
       "      <td>...</td>\n",
       "      <td>...</td>\n",
       "      <td>...</td>\n",
       "      <td>...</td>\n",
       "      <td>...</td>\n",
       "      <td>...</td>\n",
       "      <td>...</td>\n",
       "    </tr>\n",
       "    <tr>\n",
       "      <th>3415</th>\n",
       "      <td>FF827554725859E2</td>\n",
       "      <td>A</td>\n",
       "      <td>interface_eu_test</td>\n",
       "      <td>Mac</td>\n",
       "      <td>2020-12-23 03:50:20</td>\n",
       "      <td>registration</td>\n",
       "      <td>-2.14</td>\n",
       "      <td>2020-12-28 18:57:32</td>\n",
       "      <td>True</td>\n",
       "    </tr>\n",
       "    <tr>\n",
       "      <th>3416</th>\n",
       "      <td>FFA72985E689ABBB</td>\n",
       "      <td>A</td>\n",
       "      <td>interface_eu_test</td>\n",
       "      <td>PC</td>\n",
       "      <td>2020-12-15 20:18:10</td>\n",
       "      <td>registration</td>\n",
       "      <td>-4.51</td>\n",
       "      <td>2020-12-18 19:16:48</td>\n",
       "      <td>True</td>\n",
       "    </tr>\n",
       "    <tr>\n",
       "      <th>3417</th>\n",
       "      <td>FFD58017F5FA2DAC</td>\n",
       "      <td>A</td>\n",
       "      <td>interface_eu_test</td>\n",
       "      <td>Android</td>\n",
       "      <td>2020-12-13 00:55:02</td>\n",
       "      <td>registration</td>\n",
       "      <td>-2.26</td>\n",
       "      <td>2020-12-16 22:57:35</td>\n",
       "      <td>True</td>\n",
       "    </tr>\n",
       "    <tr>\n",
       "      <th>3418</th>\n",
       "      <td>FFE40BDB7364E966</td>\n",
       "      <td>A</td>\n",
       "      <td>interface_eu_test</td>\n",
       "      <td>Android</td>\n",
       "      <td>2020-12-22 04:07:47</td>\n",
       "      <td>registration</td>\n",
       "      <td>0.0</td>\n",
       "      <td>2020-12-24 18:57:56</td>\n",
       "      <td>True</td>\n",
       "    </tr>\n",
       "    <tr>\n",
       "      <th>3419</th>\n",
       "      <td>FFE7FC140521F5F6</td>\n",
       "      <td>A</td>\n",
       "      <td>interface_eu_test</td>\n",
       "      <td>PC</td>\n",
       "      <td>2020-12-23 09:10:16</td>\n",
       "      <td>registration</td>\n",
       "      <td>-3.43</td>\n",
       "      <td>2020-12-26 14:37:21</td>\n",
       "      <td>True</td>\n",
       "    </tr>\n",
       "  </tbody>\n",
       "</table>\n",
       "<p>3420 rows × 9 columns</p>\n",
       "</div>"
      ],
      "text/plain": [
       "               user_id group            ab_test   device          event_dt_x  \\\n",
       "0     0031F1B5E9FBF708     A  interface_eu_test  Android 2020-12-14 00:47:10   \n",
       "1     004C58ADE7CA8C4A     B  interface_eu_test  Android 2020-12-18 15:14:53   \n",
       "2     0050F43F34C955F4     A  interface_eu_test       PC 2020-12-13 19:41:56   \n",
       "3     0053DD654C9513D6     B  interface_eu_test       PC 2020-12-12 04:35:20   \n",
       "4     0082A350AF0647FA     A  interface_eu_test       PC 2020-12-22 21:34:49   \n",
       "...                ...   ...                ...      ...                 ...   \n",
       "3415  FF827554725859E2     A  interface_eu_test      Mac 2020-12-23 03:50:20   \n",
       "3416  FFA72985E689ABBB     A  interface_eu_test       PC 2020-12-15 20:18:10   \n",
       "3417  FFD58017F5FA2DAC     A  interface_eu_test  Android 2020-12-13 00:55:02   \n",
       "3418  FFE40BDB7364E966     A  interface_eu_test  Android 2020-12-22 04:07:47   \n",
       "3419  FFE7FC140521F5F6     A  interface_eu_test       PC 2020-12-23 09:10:16   \n",
       "\n",
       "        event_name details          event_dt_y  7days_purchase  \n",
       "0     registration   -2.26 2020-12-15 18:54:51            True  \n",
       "1     registration   -0.45 2020-12-20 01:13:34            True  \n",
       "2     registration     0.0 2020-12-13 19:44:29            True  \n",
       "3     registration   -6.65 2020-12-15 08:46:21            True  \n",
       "4     registration     0.0 2020-12-26 18:22:56            True  \n",
       "...            ...     ...                 ...             ...  \n",
       "3415  registration   -2.14 2020-12-28 18:57:32            True  \n",
       "3416  registration   -4.51 2020-12-18 19:16:48            True  \n",
       "3417  registration   -2.26 2020-12-16 22:57:35            True  \n",
       "3418  registration     0.0 2020-12-24 18:57:56            True  \n",
       "3419  registration   -3.43 2020-12-26 14:37:21            True  \n",
       "\n",
       "[3420 rows x 9 columns]"
      ]
     },
     "execution_count": 58,
     "metadata": {},
     "output_type": "execute_result"
    }
   ],
   "source": [
    "# Выделим в отдельный столбец пользователей, совершивших покупки в первые семь дней с момента регистрации\n",
    "df_metric['7days_purchase'] = (df_metric['event_dt_y'].dt.date >= df_metric['event_dt_x']) & \\\n",
    "                       (df_metric['event_dt_y'].dt.date <= df_metric['event_dt_x'] + pd.to_timedelta('7 D'))\n",
    "\n",
    "# Выводим данные на экран\n",
    "df_metric"
   ]
  },
  {
   "cell_type": "code",
   "execution_count": 59,
   "id": "12762164",
   "metadata": {},
   "outputs": [
    {
     "data": {
      "text/html": [
       "<div>\n",
       "<style scoped>\n",
       "    .dataframe tbody tr th:only-of-type {\n",
       "        vertical-align: middle;\n",
       "    }\n",
       "\n",
       "    .dataframe tbody tr th {\n",
       "        vertical-align: top;\n",
       "    }\n",
       "\n",
       "    .dataframe thead th {\n",
       "        text-align: right;\n",
       "    }\n",
       "</style>\n",
       "<table border=\"1\" class=\"dataframe\">\n",
       "  <thead>\n",
       "    <tr style=\"text-align: right;\">\n",
       "      <th></th>\n",
       "      <th>user_id</th>\n",
       "      <th>group</th>\n",
       "      <th>ab_test</th>\n",
       "      <th>device</th>\n",
       "      <th>event_dt_x</th>\n",
       "      <th>event_name</th>\n",
       "      <th>details</th>\n",
       "      <th>event_dt_y</th>\n",
       "      <th>7days_purchase</th>\n",
       "    </tr>\n",
       "  </thead>\n",
       "  <tbody>\n",
       "    <tr>\n",
       "      <th>0</th>\n",
       "      <td>0031F1B5E9FBF708</td>\n",
       "      <td>A</td>\n",
       "      <td>interface_eu_test</td>\n",
       "      <td>Android</td>\n",
       "      <td>2020-12-14 00:47:10</td>\n",
       "      <td>registration</td>\n",
       "      <td>-2.26</td>\n",
       "      <td>2020-12-15 18:54:51</td>\n",
       "      <td>True</td>\n",
       "    </tr>\n",
       "    <tr>\n",
       "      <th>1</th>\n",
       "      <td>004C58ADE7CA8C4A</td>\n",
       "      <td>B</td>\n",
       "      <td>interface_eu_test</td>\n",
       "      <td>Android</td>\n",
       "      <td>2020-12-18 15:14:53</td>\n",
       "      <td>registration</td>\n",
       "      <td>-0.45</td>\n",
       "      <td>2020-12-20 01:13:34</td>\n",
       "      <td>True</td>\n",
       "    </tr>\n",
       "    <tr>\n",
       "      <th>2</th>\n",
       "      <td>0050F43F34C955F4</td>\n",
       "      <td>A</td>\n",
       "      <td>interface_eu_test</td>\n",
       "      <td>PC</td>\n",
       "      <td>2020-12-13 19:41:56</td>\n",
       "      <td>registration</td>\n",
       "      <td>0.0</td>\n",
       "      <td>2020-12-13 19:44:29</td>\n",
       "      <td>True</td>\n",
       "    </tr>\n",
       "    <tr>\n",
       "      <th>3</th>\n",
       "      <td>0053DD654C9513D6</td>\n",
       "      <td>B</td>\n",
       "      <td>interface_eu_test</td>\n",
       "      <td>PC</td>\n",
       "      <td>2020-12-12 04:35:20</td>\n",
       "      <td>registration</td>\n",
       "      <td>-6.65</td>\n",
       "      <td>2020-12-15 08:46:21</td>\n",
       "      <td>True</td>\n",
       "    </tr>\n",
       "    <tr>\n",
       "      <th>4</th>\n",
       "      <td>0082A350AF0647FA</td>\n",
       "      <td>A</td>\n",
       "      <td>interface_eu_test</td>\n",
       "      <td>PC</td>\n",
       "      <td>2020-12-22 21:34:49</td>\n",
       "      <td>registration</td>\n",
       "      <td>0.0</td>\n",
       "      <td>2020-12-26 18:22:56</td>\n",
       "      <td>True</td>\n",
       "    </tr>\n",
       "    <tr>\n",
       "      <th>...</th>\n",
       "      <td>...</td>\n",
       "      <td>...</td>\n",
       "      <td>...</td>\n",
       "      <td>...</td>\n",
       "      <td>...</td>\n",
       "      <td>...</td>\n",
       "      <td>...</td>\n",
       "      <td>...</td>\n",
       "      <td>...</td>\n",
       "    </tr>\n",
       "    <tr>\n",
       "      <th>3415</th>\n",
       "      <td>FF827554725859E2</td>\n",
       "      <td>A</td>\n",
       "      <td>interface_eu_test</td>\n",
       "      <td>Mac</td>\n",
       "      <td>2020-12-23 03:50:20</td>\n",
       "      <td>registration</td>\n",
       "      <td>-2.14</td>\n",
       "      <td>2020-12-28 18:57:32</td>\n",
       "      <td>True</td>\n",
       "    </tr>\n",
       "    <tr>\n",
       "      <th>3416</th>\n",
       "      <td>FFA72985E689ABBB</td>\n",
       "      <td>A</td>\n",
       "      <td>interface_eu_test</td>\n",
       "      <td>PC</td>\n",
       "      <td>2020-12-15 20:18:10</td>\n",
       "      <td>registration</td>\n",
       "      <td>-4.51</td>\n",
       "      <td>2020-12-18 19:16:48</td>\n",
       "      <td>True</td>\n",
       "    </tr>\n",
       "    <tr>\n",
       "      <th>3417</th>\n",
       "      <td>FFD58017F5FA2DAC</td>\n",
       "      <td>A</td>\n",
       "      <td>interface_eu_test</td>\n",
       "      <td>Android</td>\n",
       "      <td>2020-12-13 00:55:02</td>\n",
       "      <td>registration</td>\n",
       "      <td>-2.26</td>\n",
       "      <td>2020-12-16 22:57:35</td>\n",
       "      <td>True</td>\n",
       "    </tr>\n",
       "    <tr>\n",
       "      <th>3418</th>\n",
       "      <td>FFE40BDB7364E966</td>\n",
       "      <td>A</td>\n",
       "      <td>interface_eu_test</td>\n",
       "      <td>Android</td>\n",
       "      <td>2020-12-22 04:07:47</td>\n",
       "      <td>registration</td>\n",
       "      <td>0.0</td>\n",
       "      <td>2020-12-24 18:57:56</td>\n",
       "      <td>True</td>\n",
       "    </tr>\n",
       "    <tr>\n",
       "      <th>3419</th>\n",
       "      <td>FFE7FC140521F5F6</td>\n",
       "      <td>A</td>\n",
       "      <td>interface_eu_test</td>\n",
       "      <td>PC</td>\n",
       "      <td>2020-12-23 09:10:16</td>\n",
       "      <td>registration</td>\n",
       "      <td>-3.43</td>\n",
       "      <td>2020-12-26 14:37:21</td>\n",
       "      <td>True</td>\n",
       "    </tr>\n",
       "  </tbody>\n",
       "</table>\n",
       "<p>2930 rows × 9 columns</p>\n",
       "</div>"
      ],
      "text/plain": [
       "               user_id group            ab_test   device          event_dt_x  \\\n",
       "0     0031F1B5E9FBF708     A  interface_eu_test  Android 2020-12-14 00:47:10   \n",
       "1     004C58ADE7CA8C4A     B  interface_eu_test  Android 2020-12-18 15:14:53   \n",
       "2     0050F43F34C955F4     A  interface_eu_test       PC 2020-12-13 19:41:56   \n",
       "3     0053DD654C9513D6     B  interface_eu_test       PC 2020-12-12 04:35:20   \n",
       "4     0082A350AF0647FA     A  interface_eu_test       PC 2020-12-22 21:34:49   \n",
       "...                ...   ...                ...      ...                 ...   \n",
       "3415  FF827554725859E2     A  interface_eu_test      Mac 2020-12-23 03:50:20   \n",
       "3416  FFA72985E689ABBB     A  interface_eu_test       PC 2020-12-15 20:18:10   \n",
       "3417  FFD58017F5FA2DAC     A  interface_eu_test  Android 2020-12-13 00:55:02   \n",
       "3418  FFE40BDB7364E966     A  interface_eu_test  Android 2020-12-22 04:07:47   \n",
       "3419  FFE7FC140521F5F6     A  interface_eu_test       PC 2020-12-23 09:10:16   \n",
       "\n",
       "        event_name details          event_dt_y  7days_purchase  \n",
       "0     registration   -2.26 2020-12-15 18:54:51            True  \n",
       "1     registration   -0.45 2020-12-20 01:13:34            True  \n",
       "2     registration     0.0 2020-12-13 19:44:29            True  \n",
       "3     registration   -6.65 2020-12-15 08:46:21            True  \n",
       "4     registration     0.0 2020-12-26 18:22:56            True  \n",
       "...            ...     ...                 ...             ...  \n",
       "3415  registration   -2.14 2020-12-28 18:57:32            True  \n",
       "3416  registration   -4.51 2020-12-18 19:16:48            True  \n",
       "3417  registration   -2.26 2020-12-16 22:57:35            True  \n",
       "3418  registration     0.0 2020-12-24 18:57:56            True  \n",
       "3419  registration   -3.43 2020-12-26 14:37:21            True  \n",
       "\n",
       "[2930 rows x 9 columns]"
      ]
     },
     "execution_count": 59,
     "metadata": {},
     "output_type": "execute_result"
    }
   ],
   "source": [
    "# Удалим пользователей не осуществлявших покупки в первые 7 дней\n",
    "df_metric= df_metric[~(df_metric['7days_purchase']==False)]\n",
    "df_metric"
   ]
  },
  {
   "cell_type": "markdown",
   "id": "7cf1df48",
   "metadata": {},
   "source": [
    "Оцените достаточность выборки для получения статистически значимых результатов A/B-теста. Заданные параметры:\n",
    "\n",
    "- базовый показатель конверсии — 30%,\n",
    "\n",
    "- мощность теста — 80%,\n",
    "\n",
    "- достоверность теста — 95%."
   ]
  },
  {
   "cell_type": "code",
   "execution_count": 60,
   "id": "1a683e56",
   "metadata": {},
   "outputs": [
    {
     "name": "stdout",
     "output_type": "stream",
     "text": [
      "Необходимый размер выборки для каждой группы: 3759\n",
      "Общее количество посетителей в выборке А=4952, что достаточность для получения статистически значимых результатов A/B-теста\n",
      "Общее количество посетителей в выборке B=5011, что достаточность для получения статистически значимых результатов A/B-теста\n"
     ]
    }
   ],
   "source": [
    "# Задаём параметры\n",
    "alpha = 0.05  # Уровень значимости\n",
    "power = 0.8  # Мощность теста\n",
    "beta = 1 - power  # Ошибка второго рода, часто 1 - мощность\n",
    "mde = 0.03  # Минимальный детектируемый эффект\n",
    "\n",
    "p1 = 0.3  # Базовая конверсия \n",
    "p2 = p1 + mde\n",
    "effect_size = (p2 - p1) / np.sqrt((p1*(1-p1) + p2*(1-p2))/2)\n",
    "\n",
    "# Инициализируем класс NormalIndPower\n",
    "power_analysis = NormalIndPower()\n",
    "\n",
    "# Рассчитываем размер выборки\n",
    "sample_size = power_analysis.solve_power(\n",
    "    effect_size = effect_size, \n",
    "    power = power,\n",
    "    alpha = alpha,\n",
    "    ratio = 1 # Равномерное распределение выборок\n",
    ")\n",
    "\n",
    "print(f\"Необходимый размер выборки для каждой группы: {int(sample_size)}\")\n",
    "\n",
    "# Общее количество посетителей в выборках А и В\n",
    "n_a = df[df['group'] == 'A']['user_id'].nunique()\n",
    "n_b = df[df['group'] == 'B']['user_id'].nunique()\n",
    "\n",
    "if n_a > sample_size:\n",
    "    print(f\"Общее количество посетителей в выборке А={n_a}, что достаточность для получения статистически значимых результатов A/B-теста\")\n",
    "else:\n",
    "    print(f\"Общее количество посетителей в выборке B={n_a}, что не достаточность для получения статистически значимых результатов A/B-теста\")\n",
    "if n_a > sample_size:\n",
    "    print(f\"Общее количество посетителей в выборке B={n_b}, что достаточность для получения статистически значимых результатов A/B-теста\")\n",
    "else:\n",
    "    print(f\"Общее количество посетителей в выборке B={n_b}, что не достаточность для получения статистически значимых результатов A/B-теста\")   "
   ]
  },
  {
   "cell_type": "markdown",
   "id": "SadyUDgZs0t3",
   "metadata": {
    "id": "SadyUDgZs0t3"
   },
   "source": [
    "- рассчитайте для каждой группы количество посетителей, сделавших покупку, и общее количество посетителей."
   ]
  },
  {
   "cell_type": "code",
   "execution_count": 61,
   "id": "87531bd7",
   "metadata": {},
   "outputs": [
    {
     "name": "stdout",
     "output_type": "stream",
     "text": [
      "Количество посетителей группы А, сделавших покупку = 1411, а общее количество посетителей = 4952\n",
      "Количество посетителей группы В, сделавших покупку = 1519, а общее количество посетителей = 5011\n"
     ]
    }
   ],
   "source": [
    "# Общее количество посетителей в выборках А и В посчитано, рассчитаем количество посетителей сделавших покупку.\n",
    "m_a = df_metric[df_metric['group'] == 'A']['user_id'].nunique()\n",
    "m_b = df_metric[df_metric['group'] == 'B']['user_id'].nunique()\n",
    "\n",
    "print(f'Количество посетителей группы А, сделавших покупку = {m_a}, а общее количество посетителей = {n_a}')\n",
    "print(f'Количество посетителей группы В, сделавших покупку = {m_b}, а общее количество посетителей = {n_b}')"
   ]
  },
  {
   "cell_type": "code",
   "execution_count": 62,
   "id": "7ph853Xks4sy",
   "metadata": {
    "id": "7ph853Xks4sy"
   },
   "outputs": [
    {
     "name": "stdout",
     "output_type": "stream",
     "text": [
      "Конверсия в группе А=0.28493537964458804, Конверсия в группе В=0.3031331071642387\n"
     ]
    }
   ],
   "source": [
    "p_a, p_b = m_a/n_a, m_b/n_b # рассчитываем доли успехов для каждой группы: A и B\n",
    "print(f'Конверсия в группе А={p_a}, Конверсия в группе В={p_b}')"
   ]
  },
  {
   "cell_type": "code",
   "execution_count": 63,
   "id": "cde8aef2",
   "metadata": {},
   "outputs": [
    {
     "data": {
      "text/plain": [
       "6.3866156397810085"
      ]
     },
     "execution_count": 63,
     "metadata": {},
     "output_type": "execute_result"
    }
   ],
   "source": [
    "# Посчитаем на сколько конверсия зарегистрированных пользователей в покупателей из группы В увеличилась в сравнении с группой А\n",
    "(p_b-p_a)/p_a*100"
   ]
  },
  {
   "cell_type": "code",
   "execution_count": 64,
   "id": "354e173b",
   "metadata": {},
   "outputs": [
    {
     "name": "stdout",
     "output_type": "stream",
     "text": [
      "Конверсия в группе В увеличилась на 1.82%\n"
     ]
    }
   ],
   "source": [
    "# Расчитаем на сколько увеличилась конверсия в группе B\n",
    "minimal_effect=round(p_b*100-p_a*100,2)\n",
    "print(f'Конверсия в группе В увеличилась на {minimal_effect}%')"
   ]
  },
  {
   "cell_type": "markdown",
   "id": "sh1JpGvAs5E3",
   "metadata": {
    "id": "sh1JpGvAs5E3"
   },
   "source": [
    "- сделайте предварительный общий вывод об изменении пользовательской активности в тестовой группе по сравнению с контрольной."
   ]
  },
  {
   "cell_type": "markdown",
   "id": "9fcc8f33",
   "metadata": {},
   "source": [
    "Мы рассчитали общее количество посетителей в двух выборках (Группа А = 4952 и Группа В = 5011).   \n",
    "Рассчитали необходимый размер выборки для каждой группы: 3759.  \n",
    "Целевым действием является то, что в течение семи дней после регистрации в системе зарегистрированный пользователь совершит покупку.  \n",
    "Количество посетителей совершивших целевое действие (Группа А = 1411 и Группа В = 1519).  \n",
    "Гипотеза заключается в следующем: упрощение интерфейса приведёт к тому, что в течение семи дней после регистрации в системе **конверсия зарегистрированных пользователей в покупателей увеличится** как минимум **на три процентных пункта**.  \n",
    "Конверсия Группы А = 0,2849 (28,49%) и Группа В = 0,3031 (30,31%).  \n",
    "Таким образом конверсия в группе В увеличилась на 1.82%. Необходимо убедиться, что полученный результат статистически значим.\n"
   ]
  },
  {
   "cell_type": "markdown",
   "id": "IKZ1Oo3Ws919",
   "metadata": {
    "id": "IKZ1Oo3Ws919"
   },
   "source": [
    "## 4. Проведите оценку результатов A/B-тестирования:"
   ]
  },
  {
   "cell_type": "markdown",
   "id": "dcUdBSmvtC-E",
   "metadata": {
    "id": "dcUdBSmvtC-E"
   },
   "source": [
    "- Проверьте изменение конверсии подходящим статистическим тестом, учитывая все этапы проверки гипотез."
   ]
  },
  {
   "cell_type": "markdown",
   "id": "c6851df1",
   "metadata": {},
   "source": [
    "Чтобы убедиться, что результаты статистически значимы необходимо провести статистический тест.  \n",
    "Для этого зафиксируем нашу гипотезу:  \n",
    "Нулевая гипотеза: конверсия зарегистрированных пользователей не увеличилась (конверсии в двух группах равны).\n",
    "Альтернативная гипотеза: конверсия зарегистрированных пользователей в группе В больше чем в группе А.  \n",
    "Используем для проверки Z-тест пропорций."
   ]
  },
  {
   "cell_type": "code",
   "execution_count": 65,
   "id": "l_KOziBQtL3t",
   "metadata": {
    "id": "l_KOziBQtL3t"
   },
   "outputs": [
    {
     "name": "stdout",
     "output_type": "stream",
     "text": [
      "Предпосылка о достаточном количестве данных выполняется!\n"
     ]
    }
   ],
   "source": [
    "# Прежде чем провести статистический тест убедимся в достаточном количестве данных\n",
    "if (p_a*n_a > 10)and((1-p_a)*n_a > 10)and(p_b*n_b > 10)and((1-p_b)*n_b > 10):\n",
    "    print('Предпосылка о достаточном количестве данных выполняется!')\n",
    "else:\n",
    "    print('Предпосылка о достаточном количестве данных НЕ выполняется!')"
   ]
  },
  {
   "cell_type": "code",
   "execution_count": 66,
   "id": "7d288be8",
   "metadata": {},
   "outputs": [
    {
     "name": "stdout",
     "output_type": "stream",
     "text": [
      "pvalue=0.023117327881967534 < 0.05\n",
      "Нулевая гипотеза не находит подтверждения!\n",
      "Упрощение интерфейса привело к тому, что в течение семи дней после регистрации в системе конверсия зарегистрированных пользователей в покупателей увеличилась на 1.82%.\n"
     ]
    }
   ],
   "source": [
    "alpha = 0.05 ## на каком уровне значимости проверяем гипотезу о равенстве вероятностей\n",
    "\n",
    "stat_ztest, p_value_ztest = proportions_ztest(\n",
    "    [m_a, m_b],\n",
    "    [n_a, n_b],\n",
    "    alternative='smaller' # так как H_1: p_a < p_b\n",
    ")\n",
    "p_value_ztest\n",
    "\n",
    "\n",
    "if p_value_ztest > alpha:\n",
    "    print(f'pvalue={p_value_ztest} > {alpha}')\n",
    "    print('Нулевая гипотеза находит подтверждение!')\n",
    "    print('Упрощение интерфейса не увеличило конверсию зарегистрированных пользователей в покупателей в течение семи дней после регистрации в системе.')\n",
    "else:\n",
    "    print(f'pvalue={p_value_ztest} < {alpha}')\n",
    "    print('Нулевая гипотеза не находит подтверждения!')\n",
    "    print(f'Упрощение интерфейса привело к тому, что в течение семи дней после регистрации в системе конверсия зарегистрированных пользователей в покупателей увеличилась на {minimal_effect}%.')"
   ]
  },
  {
   "cell_type": "markdown",
   "id": "9jkyKOjgtGoc",
   "metadata": {
    "id": "9jkyKOjgtGoc"
   },
   "source": [
    "- Опишите выводы по проведённой оценке результатов A/B-тестирования. Что можно сказать про результаты A/B-тестирования? Был ли достигнут ожидаемый эффект в изменении конверсии?"
   ]
  },
  {
   "cell_type": "markdown",
   "id": "npoPPSKytKvR",
   "metadata": {
    "id": "npoPPSKytKvR"
   },
   "source": [
    "Мы провели анализ предоставленных данных. С целью приведения двух выборок к независимости друг от друга удалены пересечения пользователей из тестовой и контрольной групп. Также удалена группа из другого А/В теста. Всего в DataFrame `participants` найдено участвующих одновременно в двух тестовых группах и удалены результаты `recommender_system_test` на 4562 строк или 31.41% от всего количества строк.  \n",
    "Проведена проверка равномерности распределения пользователей по группам теста. Все группы распределены равномерно, результаты двух выборок независимы друг от друга.  \n",
    "Все пользователи участвующие в тесте были объединены в один датафрейм с таблицей о действиях этих пользователей. Эксперимент проводился один месяц с 01.12.2020 по 31.12.2020.  \n",
    "Общее количество посетителей в Группе А составило - 4952, а в Группе В - 5011.   \n",
    "Рассчитан необходимый размер выборки для каждой группы: 3759.  \n",
    "Что подтвердило достаточность для получения статистически значимых результатов A/B-теста.  \n",
    "Целевым действием является то, что в течение семи дней после регистрации в системе зарегистрированный пользователь совершит покупку.    \n",
    "Количество посетителей совершивших целевое действие (Группа А = 1411 и Группа В = 1519).  \n",
    "Гипотеза заключается в следующем: упрощение интерфейса приведёт к тому, что в течение семи дней после регистрации в системе конверсия зарегистрированных пользователей в покупателей увеличится как минимум на три процентных пункта.   \n",
    "\n",
    "Конверсия Группы А = 28,49% и Группа В = 30,31%.\n",
    "Мы посчитали, что в результате эксперимента конверсия в группе B выросла на 1.82%.\n",
    "Для проверки выбран Z-тест пропорций. Результаты теста подтвердили альтернативную гипотезу.   \n",
    "Можно с вероятностью 95% утверждать, что упрощение интерфейса привело к тому, что в течение семи дней после регистрации в системе конверсия зарегистрированных пользователей в покупателей увеличилась на 1.82 процентных пункта. Но это меньше ожидаемого результата в 3%.  \n",
    "Можно с уверенностью сказать, что **эксперимент проведен корректно, но ожидаемого результата, увеличения конверсии в 3% новый интерфейс не дает**.   \n",
    "**Соответственно версию сайта нужно еще улучшать!**"
   ]
  }
 ],
 "metadata": {
  "ExecuteTimeLog": [
   {
    "duration": 429,
    "start_time": "2025-05-01T10:52:54.576Z"
   },
   {
    "duration": 26,
    "start_time": "2025-05-01T10:53:33.756Z"
   },
   {
    "duration": 20,
    "start_time": "2025-05-01T10:53:37.529Z"
   },
   {
    "duration": 12,
    "start_time": "2025-05-01T10:54:28.887Z"
   },
   {
    "duration": 4,
    "start_time": "2025-05-01T10:56:11.977Z"
   },
   {
    "duration": 12,
    "start_time": "2025-05-01T10:56:19.271Z"
   },
   {
    "duration": 13,
    "start_time": "2025-05-01T10:59:17.660Z"
   },
   {
    "duration": 7,
    "start_time": "2025-05-01T10:59:25.758Z"
   },
   {
    "duration": 67,
    "start_time": "2025-05-01T10:59:51.701Z"
   },
   {
    "duration": 8,
    "start_time": "2025-05-01T10:59:55.546Z"
   },
   {
    "duration": 9,
    "start_time": "2025-05-01T11:00:05.369Z"
   },
   {
    "duration": 6,
    "start_time": "2025-05-01T11:00:52.487Z"
   },
   {
    "duration": 7,
    "start_time": "2025-05-01T11:01:11.889Z"
   },
   {
    "duration": 12,
    "start_time": "2025-05-01T11:01:24.603Z"
   },
   {
    "duration": 9,
    "start_time": "2025-05-01T11:01:58.631Z"
   },
   {
    "duration": 12,
    "start_time": "2025-05-01T11:02:06.730Z"
   },
   {
    "duration": 13,
    "start_time": "2025-05-01T11:05:05.166Z"
   },
   {
    "duration": 14,
    "start_time": "2025-05-01T11:10:54.524Z"
   },
   {
    "duration": 5,
    "start_time": "2025-05-01T11:11:03.757Z"
   },
   {
    "duration": 6,
    "start_time": "2025-05-01T11:13:16.319Z"
   },
   {
    "duration": 5,
    "start_time": "2025-05-01T11:13:21.267Z"
   },
   {
    "duration": 12,
    "start_time": "2025-05-01T11:13:24.851Z"
   },
   {
    "duration": 5,
    "start_time": "2025-05-01T11:13:26.832Z"
   },
   {
    "duration": 13,
    "start_time": "2025-05-01T11:13:40.206Z"
   },
   {
    "duration": 3,
    "start_time": "2025-05-01T11:13:53.541Z"
   },
   {
    "duration": 15,
    "start_time": "2025-05-01T11:14:02.448Z"
   },
   {
    "duration": 8,
    "start_time": "2025-05-01T12:20:01.944Z"
   },
   {
    "duration": 13,
    "start_time": "2025-05-01T12:20:16.182Z"
   },
   {
    "duration": 8,
    "start_time": "2025-05-01T12:20:20.545Z"
   },
   {
    "duration": 8,
    "start_time": "2025-05-01T12:21:47.414Z"
   },
   {
    "duration": 8,
    "start_time": "2025-05-01T12:22:40.092Z"
   },
   {
    "duration": 5,
    "start_time": "2025-05-01T12:25:33.495Z"
   },
   {
    "duration": 7,
    "start_time": "2025-05-01T12:26:19.933Z"
   },
   {
    "duration": 7,
    "start_time": "2025-05-01T12:26:54.562Z"
   },
   {
    "duration": 4,
    "start_time": "2025-05-01T12:27:04.518Z"
   },
   {
    "duration": 26,
    "start_time": "2025-05-01T12:28:33.461Z"
   },
   {
    "duration": 36,
    "start_time": "2025-05-01T12:28:57.306Z"
   },
   {
    "duration": 6,
    "start_time": "2025-05-01T12:30:10.093Z"
   },
   {
    "duration": 10,
    "start_time": "2025-05-01T12:30:30.989Z"
   },
   {
    "duration": 18,
    "start_time": "2025-05-01T12:30:46.447Z"
   },
   {
    "duration": 15,
    "start_time": "2025-05-01T12:31:17.755Z"
   },
   {
    "duration": 3,
    "start_time": "2025-05-01T12:31:36.489Z"
   },
   {
    "duration": 20,
    "start_time": "2025-05-01T12:31:40.676Z"
   },
   {
    "duration": 18,
    "start_time": "2025-05-01T12:31:58.899Z"
   },
   {
    "duration": 5,
    "start_time": "2025-05-01T12:32:27.708Z"
   },
   {
    "duration": 4,
    "start_time": "2025-05-01T12:32:34.545Z"
   },
   {
    "duration": 19,
    "start_time": "2025-05-01T12:32:44.776Z"
   },
   {
    "duration": 18,
    "start_time": "2025-05-01T12:32:50.582Z"
   },
   {
    "duration": 74,
    "start_time": "2025-05-01T12:32:57.455Z"
   },
   {
    "duration": 75,
    "start_time": "2025-05-01T12:33:06.386Z"
   },
   {
    "duration": 17,
    "start_time": "2025-05-01T12:33:28.421Z"
   },
   {
    "duration": 13,
    "start_time": "2025-05-01T12:34:05.079Z"
   },
   {
    "duration": 11,
    "start_time": "2025-05-01T12:35:04.393Z"
   },
   {
    "duration": 8,
    "start_time": "2025-05-01T12:35:09.303Z"
   },
   {
    "duration": 8,
    "start_time": "2025-05-01T12:35:26.567Z"
   },
   {
    "duration": 8,
    "start_time": "2025-05-01T12:35:54.447Z"
   },
   {
    "duration": 8,
    "start_time": "2025-05-01T12:36:01.545Z"
   },
   {
    "duration": 14,
    "start_time": "2025-05-01T12:36:35.252Z"
   },
   {
    "duration": 8,
    "start_time": "2025-05-01T12:36:49.280Z"
   },
   {
    "duration": 6,
    "start_time": "2025-05-01T12:36:56.748Z"
   },
   {
    "duration": 3,
    "start_time": "2025-05-01T12:37:03.406Z"
   },
   {
    "duration": 10,
    "start_time": "2025-05-01T12:37:06.488Z"
   },
   {
    "duration": 10,
    "start_time": "2025-05-01T12:37:11.566Z"
   },
   {
    "duration": 81,
    "start_time": "2025-05-01T12:37:16.007Z"
   },
   {
    "duration": 92,
    "start_time": "2025-05-01T12:37:24.309Z"
   },
   {
    "duration": 10,
    "start_time": "2025-05-01T12:37:29.775Z"
   },
   {
    "duration": 10,
    "start_time": "2025-05-01T12:37:47.195Z"
   },
   {
    "duration": 8,
    "start_time": "2025-05-01T12:37:56.056Z"
   },
   {
    "duration": 7,
    "start_time": "2025-05-01T12:37:59.012Z"
   },
   {
    "duration": 10,
    "start_time": "2025-05-01T12:38:13.561Z"
   },
   {
    "duration": 6,
    "start_time": "2025-05-01T12:39:47.042Z"
   },
   {
    "duration": 7,
    "start_time": "2025-05-01T12:39:56.296Z"
   },
   {
    "duration": 4,
    "start_time": "2025-05-01T12:40:06.680Z"
   },
   {
    "duration": 76,
    "start_time": "2025-05-01T12:40:22.366Z"
   },
   {
    "duration": 8,
    "start_time": "2025-05-01T12:40:37.239Z"
   },
   {
    "duration": 4,
    "start_time": "2025-05-01T12:40:41.237Z"
   },
   {
    "duration": 8,
    "start_time": "2025-05-01T12:42:10.879Z"
   },
   {
    "duration": 12,
    "start_time": "2025-05-01T12:42:15.047Z"
   },
   {
    "duration": 4,
    "start_time": "2025-05-01T12:42:17.927Z"
   },
   {
    "duration": 12,
    "start_time": "2025-05-01T12:43:02.973Z"
   },
   {
    "duration": 5,
    "start_time": "2025-05-01T12:43:06.048Z"
   },
   {
    "duration": 5,
    "start_time": "2025-05-01T12:49:33.655Z"
   },
   {
    "duration": 11,
    "start_time": "2025-05-01T12:49:41.313Z"
   },
   {
    "duration": 7,
    "start_time": "2025-05-01T12:50:55.043Z"
   },
   {
    "duration": 13,
    "start_time": "2025-05-01T12:51:19.820Z"
   },
   {
    "duration": 13,
    "start_time": "2025-05-01T12:51:46.760Z"
   },
   {
    "duration": 9,
    "start_time": "2025-05-01T13:07:08.662Z"
   },
   {
    "duration": 8,
    "start_time": "2025-05-01T13:07:51.625Z"
   },
   {
    "duration": 117,
    "start_time": "2025-05-01T13:08:20.884Z"
   },
   {
    "duration": 10,
    "start_time": "2025-05-01T13:08:24.599Z"
   },
   {
    "duration": 322,
    "start_time": "2025-05-01T13:08:52.765Z"
   },
   {
    "duration": 230,
    "start_time": "2025-05-01T13:08:56.132Z"
   },
   {
    "duration": 166,
    "start_time": "2025-05-01T13:10:33.987Z"
   },
   {
    "duration": 80,
    "start_time": "2025-05-01T13:18:27.282Z"
   },
   {
    "duration": 19,
    "start_time": "2025-05-01T13:18:31.599Z"
   },
   {
    "duration": 8,
    "start_time": "2025-05-01T13:18:37.675Z"
   },
   {
    "duration": 15,
    "start_time": "2025-05-01T13:18:41.054Z"
   },
   {
    "duration": 9,
    "start_time": "2025-05-01T13:19:01.384Z"
   },
   {
    "duration": 17,
    "start_time": "2025-05-01T13:35:08.755Z"
   },
   {
    "duration": 203,
    "start_time": "2025-05-01T13:35:14.738Z"
   },
   {
    "duration": 252,
    "start_time": "2025-05-01T13:35:42.158Z"
   },
   {
    "duration": 9,
    "start_time": "2025-05-01T13:36:03.096Z"
   },
   {
    "duration": 983,
    "start_time": "2025-05-01T13:36:13.148Z"
   },
   {
    "duration": 6,
    "start_time": "2025-05-01T13:36:28.136Z"
   },
   {
    "duration": 919,
    "start_time": "2025-05-01T13:37:12.252Z"
   },
   {
    "duration": 8,
    "start_time": "2025-05-01T13:37:17.909Z"
   },
   {
    "duration": 172,
    "start_time": "2025-05-01T13:37:56.524Z"
   },
   {
    "duration": 8,
    "start_time": "2025-05-01T13:38:00.525Z"
   },
   {
    "duration": 172,
    "start_time": "2025-05-01T13:38:25.152Z"
   },
   {
    "duration": 8,
    "start_time": "2025-05-01T13:38:28.382Z"
   },
   {
    "duration": 79,
    "start_time": "2025-05-01T13:40:21.245Z"
   },
   {
    "duration": 4,
    "start_time": "2025-05-01T13:40:26.182Z"
   },
   {
    "duration": 5,
    "start_time": "2025-05-01T13:40:28.621Z"
   },
   {
    "duration": 16,
    "start_time": "2025-05-01T13:40:30.782Z"
   },
   {
    "duration": 266,
    "start_time": "2025-05-01T13:41:06.814Z"
   },
   {
    "duration": 13,
    "start_time": "2025-05-01T13:42:32.826Z"
   },
   {
    "duration": 12,
    "start_time": "2025-05-01T13:43:04.894Z"
   },
   {
    "duration": 170,
    "start_time": "2025-05-01T13:43:41.133Z"
   },
   {
    "duration": 8,
    "start_time": "2025-05-01T13:44:14.607Z"
   },
   {
    "duration": 5,
    "start_time": "2025-05-01T14:03:05.783Z"
   },
   {
    "duration": 12,
    "start_time": "2025-05-01T14:03:12.988Z"
   },
   {
    "duration": 16,
    "start_time": "2025-05-01T14:05:34.061Z"
   },
   {
    "duration": 199,
    "start_time": "2025-05-01T14:12:07.452Z"
   },
   {
    "duration": 193,
    "start_time": "2025-05-01T14:12:17.623Z"
   },
   {
    "duration": 171,
    "start_time": "2025-05-01T14:12:37.664Z"
   },
   {
    "duration": 180,
    "start_time": "2025-05-01T14:12:41.941Z"
   },
   {
    "duration": 171,
    "start_time": "2025-05-01T14:12:50.604Z"
   },
   {
    "duration": 10,
    "start_time": "2025-05-01T14:13:00.979Z"
   },
   {
    "duration": 260,
    "start_time": "2025-05-01T14:13:29.714Z"
   },
   {
    "duration": 8,
    "start_time": "2025-05-01T14:13:32.918Z"
   },
   {
    "duration": 171,
    "start_time": "2025-05-01T14:16:08.182Z"
   },
   {
    "duration": 8,
    "start_time": "2025-05-01T14:16:17.224Z"
   },
   {
    "duration": 177,
    "start_time": "2025-05-01T14:16:33.800Z"
   },
   {
    "duration": 9,
    "start_time": "2025-05-01T14:16:39.170Z"
   },
   {
    "duration": 172,
    "start_time": "2025-05-01T14:27:56.820Z"
   },
   {
    "duration": 8,
    "start_time": "2025-05-01T14:28:03.973Z"
   },
   {
    "duration": 171,
    "start_time": "2025-05-01T14:29:16.947Z"
   },
   {
    "duration": 167,
    "start_time": "2025-05-01T14:29:33.979Z"
   },
   {
    "duration": 9,
    "start_time": "2025-05-01T14:29:44.382Z"
   },
   {
    "duration": 189,
    "start_time": "2025-05-01T14:38:57.305Z"
   },
   {
    "duration": 9,
    "start_time": "2025-05-01T14:39:02.543Z"
   },
   {
    "duration": 183,
    "start_time": "2025-05-01T14:39:20.045Z"
   },
   {
    "duration": 9,
    "start_time": "2025-05-01T14:39:25.277Z"
   },
   {
    "duration": 168,
    "start_time": "2025-05-01T14:39:44.316Z"
   },
   {
    "duration": 9,
    "start_time": "2025-05-01T14:39:47.603Z"
   },
   {
    "duration": 173,
    "start_time": "2025-05-01T14:50:00.632Z"
   },
   {
    "duration": 9,
    "start_time": "2025-05-01T14:50:02.749Z"
   },
   {
    "duration": 185,
    "start_time": "2025-05-01T14:50:12.159Z"
   },
   {
    "duration": 8,
    "start_time": "2025-05-01T14:50:14.753Z"
   },
   {
    "duration": 250,
    "start_time": "2025-05-01T14:50:24.293Z"
   },
   {
    "duration": 8,
    "start_time": "2025-05-01T14:50:26.873Z"
   },
   {
    "duration": 177,
    "start_time": "2025-05-01T14:50:36.616Z"
   },
   {
    "duration": 182,
    "start_time": "2025-05-01T14:50:44.933Z"
   },
   {
    "duration": 9,
    "start_time": "2025-05-01T14:50:49.406Z"
   },
   {
    "duration": 858,
    "start_time": "2025-05-02T01:59:08.893Z"
   },
   {
    "duration": 38,
    "start_time": "2025-05-02T01:59:09.753Z"
   },
   {
    "duration": 18,
    "start_time": "2025-05-02T01:59:09.793Z"
   },
   {
    "duration": 14,
    "start_time": "2025-05-02T01:59:09.813Z"
   },
   {
    "duration": 4,
    "start_time": "2025-05-02T01:59:09.829Z"
   },
   {
    "duration": 13,
    "start_time": "2025-05-02T01:59:09.834Z"
   },
   {
    "duration": 8,
    "start_time": "2025-05-02T01:59:09.849Z"
   },
   {
    "duration": 15,
    "start_time": "2025-05-02T01:59:09.858Z"
   },
   {
    "duration": 35,
    "start_time": "2025-05-02T01:59:09.874Z"
   },
   {
    "duration": 26,
    "start_time": "2025-05-02T01:59:09.911Z"
   },
   {
    "duration": 7,
    "start_time": "2025-05-02T01:59:09.938Z"
   },
   {
    "duration": 229,
    "start_time": "2025-05-02T01:59:09.947Z"
   },
   {
    "duration": 28,
    "start_time": "2025-05-02T01:59:10.177Z"
   },
   {
    "duration": 7,
    "start_time": "2025-05-02T01:59:10.207Z"
   },
   {
    "duration": 203,
    "start_time": "2025-05-02T01:59:10.216Z"
   },
   {
    "duration": 4,
    "start_time": "2025-05-02T01:59:10.420Z"
   },
   {
    "duration": 75,
    "start_time": "2025-05-02T01:59:10.425Z"
   },
   {
    "duration": 1810,
    "start_time": "2025-05-02T01:59:10.501Z"
   },
   {
    "duration": 77,
    "start_time": "2025-05-02T02:35:32.046Z"
   },
   {
    "duration": 8,
    "start_time": "2025-05-02T02:35:53.067Z"
   },
   {
    "duration": 7,
    "start_time": "2025-05-02T02:36:03.341Z"
   },
   {
    "duration": 215,
    "start_time": "2025-05-02T02:36:18.247Z"
   },
   {
    "duration": 9,
    "start_time": "2025-05-02T02:36:20.390Z"
   },
   {
    "duration": 239,
    "start_time": "2025-05-02T02:36:22.781Z"
   },
   {
    "duration": 9,
    "start_time": "2025-05-02T02:36:23.965Z"
   },
   {
    "duration": 6,
    "start_time": "2025-05-02T02:36:45.746Z"
   },
   {
    "duration": 8,
    "start_time": "2025-05-02T02:39:28.934Z"
   },
   {
    "duration": 12,
    "start_time": "2025-05-02T02:39:33.810Z"
   },
   {
    "duration": 8,
    "start_time": "2025-05-02T02:39:57.430Z"
   },
   {
    "duration": 12,
    "start_time": "2025-05-02T02:39:59.160Z"
   },
   {
    "duration": 8,
    "start_time": "2025-05-02T02:43:24.338Z"
   },
   {
    "duration": 15,
    "start_time": "2025-05-02T02:43:26.746Z"
   },
   {
    "duration": 15,
    "start_time": "2025-05-02T02:43:41.132Z"
   },
   {
    "duration": 14,
    "start_time": "2025-05-02T02:43:53.613Z"
   },
   {
    "duration": 17,
    "start_time": "2025-05-02T02:43:56.072Z"
   },
   {
    "duration": 121,
    "start_time": "2025-05-02T02:44:03.180Z"
   },
   {
    "duration": 89,
    "start_time": "2025-05-02T02:44:05.596Z"
   },
   {
    "duration": 663,
    "start_time": "2025-05-02T02:44:13.762Z"
   },
   {
    "duration": 36,
    "start_time": "2025-05-02T02:44:14.428Z"
   },
   {
    "duration": 16,
    "start_time": "2025-05-02T02:44:14.466Z"
   },
   {
    "duration": 43,
    "start_time": "2025-05-02T02:44:14.483Z"
   },
   {
    "duration": 4,
    "start_time": "2025-05-02T02:44:14.528Z"
   },
   {
    "duration": 26,
    "start_time": "2025-05-02T02:44:14.534Z"
   },
   {
    "duration": 11,
    "start_time": "2025-05-02T02:44:14.562Z"
   },
   {
    "duration": 16,
    "start_time": "2025-05-02T02:44:14.575Z"
   },
   {
    "duration": 11,
    "start_time": "2025-05-02T02:44:14.593Z"
   },
   {
    "duration": 11,
    "start_time": "2025-05-02T02:44:14.606Z"
   },
   {
    "duration": 36,
    "start_time": "2025-05-02T02:44:14.619Z"
   },
   {
    "duration": 368,
    "start_time": "2025-05-02T02:44:14.657Z"
   },
   {
    "duration": 9,
    "start_time": "2025-05-02T02:44:15.028Z"
   },
   {
    "duration": 240,
    "start_time": "2025-05-02T02:44:15.039Z"
   },
   {
    "duration": 8,
    "start_time": "2025-05-02T02:44:15.281Z"
   },
   {
    "duration": 48,
    "start_time": "2025-05-02T02:44:15.291Z"
   },
   {
    "duration": 21,
    "start_time": "2025-05-02T02:44:15.341Z"
   },
   {
    "duration": 1792,
    "start_time": "2025-05-02T02:44:15.364Z"
   },
   {
    "duration": 667,
    "start_time": "2025-05-02T02:44:49.922Z"
   },
   {
    "duration": 26,
    "start_time": "2025-05-02T02:44:50.592Z"
   },
   {
    "duration": 18,
    "start_time": "2025-05-02T02:44:50.619Z"
   },
   {
    "duration": 30,
    "start_time": "2025-05-02T02:44:50.639Z"
   },
   {
    "duration": 8,
    "start_time": "2025-05-02T02:44:50.671Z"
   },
   {
    "duration": 7,
    "start_time": "2025-05-02T02:44:50.681Z"
   },
   {
    "duration": 9,
    "start_time": "2025-05-02T02:44:50.690Z"
   },
   {
    "duration": 33,
    "start_time": "2025-05-02T02:44:50.700Z"
   },
   {
    "duration": 5,
    "start_time": "2025-05-02T02:44:50.735Z"
   },
   {
    "duration": 15,
    "start_time": "2025-05-02T02:44:50.742Z"
   },
   {
    "duration": 8,
    "start_time": "2025-05-02T02:44:50.758Z"
   },
   {
    "duration": 255,
    "start_time": "2025-05-02T02:44:50.767Z"
   },
   {
    "duration": 10,
    "start_time": "2025-05-02T02:44:51.023Z"
   },
   {
    "duration": 203,
    "start_time": "2025-05-02T02:44:51.035Z"
   },
   {
    "duration": 7,
    "start_time": "2025-05-02T02:44:51.240Z"
   },
   {
    "duration": 27,
    "start_time": "2025-05-02T02:44:51.249Z"
   },
   {
    "duration": 16,
    "start_time": "2025-05-02T02:44:51.278Z"
   },
   {
    "duration": 1610,
    "start_time": "2025-05-02T02:44:51.295Z"
   },
   {
    "duration": 83,
    "start_time": "2025-05-02T02:45:05.045Z"
   },
   {
    "duration": 709,
    "start_time": "2025-05-02T02:45:33.496Z"
   },
   {
    "duration": 25,
    "start_time": "2025-05-02T02:45:34.207Z"
   },
   {
    "duration": 17,
    "start_time": "2025-05-02T02:45:34.234Z"
   },
   {
    "duration": 11,
    "start_time": "2025-05-02T02:45:34.253Z"
   },
   {
    "duration": 25,
    "start_time": "2025-05-02T02:45:34.266Z"
   },
   {
    "duration": 26,
    "start_time": "2025-05-02T02:45:34.293Z"
   },
   {
    "duration": 22,
    "start_time": "2025-05-02T02:45:34.321Z"
   },
   {
    "duration": 72,
    "start_time": "2025-05-02T02:45:34.345Z"
   },
   {
    "duration": 7,
    "start_time": "2025-05-02T02:45:34.426Z"
   },
   {
    "duration": 19,
    "start_time": "2025-05-02T02:45:34.435Z"
   },
   {
    "duration": 21,
    "start_time": "2025-05-02T02:45:34.456Z"
   },
   {
    "duration": 346,
    "start_time": "2025-05-02T02:45:34.479Z"
   },
   {
    "duration": 10,
    "start_time": "2025-05-02T02:45:34.827Z"
   },
   {
    "duration": 233,
    "start_time": "2025-05-02T02:45:34.838Z"
   },
   {
    "duration": 10,
    "start_time": "2025-05-02T02:45:35.074Z"
   },
   {
    "duration": 98,
    "start_time": "2025-05-02T02:45:35.085Z"
   },
   {
    "duration": 0,
    "start_time": "2025-05-02T02:45:35.185Z"
   },
   {
    "duration": 0,
    "start_time": "2025-05-02T02:45:35.186Z"
   },
   {
    "duration": 14,
    "start_time": "2025-05-02T02:45:42.694Z"
   },
   {
    "duration": 8,
    "start_time": "2025-05-02T02:45:47.462Z"
   },
   {
    "duration": 13,
    "start_time": "2025-05-02T02:45:50.463Z"
   },
   {
    "duration": 11,
    "start_time": "2025-05-02T02:46:07.532Z"
   },
   {
    "duration": 13,
    "start_time": "2025-05-02T02:46:27.269Z"
   },
   {
    "duration": 5,
    "start_time": "2025-05-02T05:30:36.275Z"
   },
   {
    "duration": 727,
    "start_time": "2025-05-02T05:30:40.613Z"
   },
   {
    "duration": 36,
    "start_time": "2025-05-02T05:30:41.342Z"
   },
   {
    "duration": 16,
    "start_time": "2025-05-02T05:30:41.379Z"
   },
   {
    "duration": 27,
    "start_time": "2025-05-02T05:30:41.396Z"
   },
   {
    "duration": 4,
    "start_time": "2025-05-02T05:30:41.425Z"
   },
   {
    "duration": 7,
    "start_time": "2025-05-02T05:30:41.430Z"
   },
   {
    "duration": 7,
    "start_time": "2025-05-02T05:30:41.438Z"
   },
   {
    "duration": 23,
    "start_time": "2025-05-02T05:30:41.446Z"
   },
   {
    "duration": 3,
    "start_time": "2025-05-02T05:30:41.471Z"
   },
   {
    "duration": 7,
    "start_time": "2025-05-02T05:30:41.475Z"
   },
   {
    "duration": 5,
    "start_time": "2025-05-02T05:30:41.483Z"
   },
   {
    "duration": 212,
    "start_time": "2025-05-02T05:30:41.489Z"
   },
   {
    "duration": 7,
    "start_time": "2025-05-02T05:30:41.702Z"
   },
   {
    "duration": 180,
    "start_time": "2025-05-02T05:30:41.711Z"
   },
   {
    "duration": 8,
    "start_time": "2025-05-02T05:30:41.892Z"
   },
   {
    "duration": 9,
    "start_time": "2025-05-02T05:30:41.901Z"
   },
   {
    "duration": 12,
    "start_time": "2025-05-02T05:30:41.912Z"
   },
   {
    "duration": 9,
    "start_time": "2025-05-02T05:30:41.925Z"
   },
   {
    "duration": 1403,
    "start_time": "2025-05-02T05:30:41.935Z"
   },
   {
    "duration": 159,
    "start_time": "2025-05-02T05:34:57.976Z"
   },
   {
    "duration": 8,
    "start_time": "2025-05-02T05:35:07.399Z"
   },
   {
    "duration": 572,
    "start_time": "2025-05-02T05:35:15.119Z"
   },
   {
    "duration": 36,
    "start_time": "2025-05-02T05:35:15.694Z"
   },
   {
    "duration": 43,
    "start_time": "2025-05-02T05:35:15.731Z"
   },
   {
    "duration": 26,
    "start_time": "2025-05-02T05:35:15.776Z"
   },
   {
    "duration": 5,
    "start_time": "2025-05-02T05:35:15.803Z"
   },
   {
    "duration": 22,
    "start_time": "2025-05-02T05:35:15.810Z"
   },
   {
    "duration": 9,
    "start_time": "2025-05-02T05:35:15.833Z"
   },
   {
    "duration": 11,
    "start_time": "2025-05-02T05:35:15.844Z"
   },
   {
    "duration": 4,
    "start_time": "2025-05-02T05:35:15.856Z"
   },
   {
    "duration": 7,
    "start_time": "2025-05-02T05:35:15.862Z"
   },
   {
    "duration": 4,
    "start_time": "2025-05-02T05:35:15.871Z"
   },
   {
    "duration": 214,
    "start_time": "2025-05-02T05:35:15.876Z"
   },
   {
    "duration": 8,
    "start_time": "2025-05-02T05:35:16.091Z"
   },
   {
    "duration": 181,
    "start_time": "2025-05-02T05:35:16.100Z"
   },
   {
    "duration": 7,
    "start_time": "2025-05-02T05:35:16.282Z"
   },
   {
    "duration": 60,
    "start_time": "2025-05-02T05:35:16.291Z"
   },
   {
    "duration": 10,
    "start_time": "2025-05-02T05:35:16.353Z"
   },
   {
    "duration": 9,
    "start_time": "2025-05-02T05:35:16.365Z"
   },
   {
    "duration": 1387,
    "start_time": "2025-05-02T05:35:16.375Z"
   },
   {
    "duration": 99,
    "start_time": "2025-05-02T05:42:46.444Z"
   },
   {
    "duration": 624,
    "start_time": "2025-05-02T05:43:01.067Z"
   },
   {
    "duration": 25,
    "start_time": "2025-05-02T05:43:01.692Z"
   },
   {
    "duration": 14,
    "start_time": "2025-05-02T05:43:01.718Z"
   },
   {
    "duration": 16,
    "start_time": "2025-05-02T05:43:01.733Z"
   },
   {
    "duration": 4,
    "start_time": "2025-05-02T05:43:01.751Z"
   },
   {
    "duration": 28,
    "start_time": "2025-05-02T05:43:01.756Z"
   },
   {
    "duration": 36,
    "start_time": "2025-05-02T05:43:01.786Z"
   },
   {
    "duration": 11,
    "start_time": "2025-05-02T05:43:01.824Z"
   },
   {
    "duration": 4,
    "start_time": "2025-05-02T05:43:01.836Z"
   },
   {
    "duration": 8,
    "start_time": "2025-05-02T05:43:01.841Z"
   },
   {
    "duration": 4,
    "start_time": "2025-05-02T05:43:01.850Z"
   },
   {
    "duration": 198,
    "start_time": "2025-05-02T05:43:01.856Z"
   },
   {
    "duration": 115,
    "start_time": "2025-05-02T05:43:02.055Z"
   },
   {
    "duration": 8,
    "start_time": "2025-05-02T05:43:02.172Z"
   },
   {
    "duration": 182,
    "start_time": "2025-05-02T05:43:02.182Z"
   },
   {
    "duration": 7,
    "start_time": "2025-05-02T05:43:02.365Z"
   },
   {
    "duration": 7,
    "start_time": "2025-05-02T05:43:02.374Z"
   },
   {
    "duration": 17,
    "start_time": "2025-05-02T05:43:02.382Z"
   },
   {
    "duration": 29,
    "start_time": "2025-05-02T05:43:02.401Z"
   },
   {
    "duration": 1431,
    "start_time": "2025-05-02T05:43:02.431Z"
   },
   {
    "duration": 98,
    "start_time": "2025-05-02T05:43:43.116Z"
   },
   {
    "duration": 9,
    "start_time": "2025-05-02T05:43:50.707Z"
   },
   {
    "duration": 643,
    "start_time": "2025-05-02T05:55:55.239Z"
   },
   {
    "duration": 35,
    "start_time": "2025-05-02T05:55:55.884Z"
   },
   {
    "duration": 14,
    "start_time": "2025-05-02T05:55:55.921Z"
   },
   {
    "duration": 10,
    "start_time": "2025-05-02T05:55:55.937Z"
   },
   {
    "duration": 4,
    "start_time": "2025-05-02T05:55:55.949Z"
   },
   {
    "duration": 10,
    "start_time": "2025-05-02T05:55:55.954Z"
   },
   {
    "duration": 9,
    "start_time": "2025-05-02T05:55:55.965Z"
   },
   {
    "duration": 12,
    "start_time": "2025-05-02T05:55:55.975Z"
   },
   {
    "duration": 4,
    "start_time": "2025-05-02T05:55:55.989Z"
   },
   {
    "duration": 7,
    "start_time": "2025-05-02T05:55:55.994Z"
   },
   {
    "duration": 4,
    "start_time": "2025-05-02T05:55:56.003Z"
   },
   {
    "duration": 244,
    "start_time": "2025-05-02T05:55:56.009Z"
   },
   {
    "duration": 113,
    "start_time": "2025-05-02T05:55:56.255Z"
   },
   {
    "duration": 7,
    "start_time": "2025-05-02T05:55:56.371Z"
   },
   {
    "duration": 179,
    "start_time": "2025-05-02T05:55:56.379Z"
   },
   {
    "duration": 12,
    "start_time": "2025-05-02T05:55:56.559Z"
   },
   {
    "duration": 7,
    "start_time": "2025-05-02T05:55:56.573Z"
   },
   {
    "duration": 13,
    "start_time": "2025-05-02T05:55:56.582Z"
   },
   {
    "duration": 9,
    "start_time": "2025-05-02T05:55:56.596Z"
   },
   {
    "duration": 1482,
    "start_time": "2025-05-02T05:55:56.607Z"
   },
   {
    "duration": 107,
    "start_time": "2025-05-02T05:58:47.096Z"
   },
   {
    "duration": 642,
    "start_time": "2025-05-02T05:59:08.435Z"
   },
   {
    "duration": 23,
    "start_time": "2025-05-02T05:59:09.079Z"
   },
   {
    "duration": 14,
    "start_time": "2025-05-02T05:59:09.104Z"
   },
   {
    "duration": 10,
    "start_time": "2025-05-02T05:59:09.120Z"
   },
   {
    "duration": 3,
    "start_time": "2025-05-02T05:59:09.131Z"
   },
   {
    "duration": 6,
    "start_time": "2025-05-02T05:59:09.136Z"
   },
   {
    "duration": 20,
    "start_time": "2025-05-02T05:59:09.143Z"
   },
   {
    "duration": 11,
    "start_time": "2025-05-02T05:59:09.164Z"
   },
   {
    "duration": 3,
    "start_time": "2025-05-02T05:59:09.177Z"
   },
   {
    "duration": 6,
    "start_time": "2025-05-02T05:59:09.182Z"
   },
   {
    "duration": 4,
    "start_time": "2025-05-02T05:59:09.190Z"
   },
   {
    "duration": 230,
    "start_time": "2025-05-02T05:59:09.195Z"
   },
   {
    "duration": 118,
    "start_time": "2025-05-02T05:59:09.426Z"
   },
   {
    "duration": 7,
    "start_time": "2025-05-02T05:59:09.546Z"
   },
   {
    "duration": 162,
    "start_time": "2025-05-02T05:59:09.562Z"
   },
   {
    "duration": 7,
    "start_time": "2025-05-02T05:59:09.726Z"
   },
   {
    "duration": 7,
    "start_time": "2025-05-02T05:59:09.734Z"
   },
   {
    "duration": 30,
    "start_time": "2025-05-02T05:59:09.742Z"
   },
   {
    "duration": 9,
    "start_time": "2025-05-02T05:59:09.773Z"
   },
   {
    "duration": 1394,
    "start_time": "2025-05-02T05:59:09.784Z"
   },
   {
    "duration": 72,
    "start_time": "2025-05-02T06:02:34.736Z"
   },
   {
    "duration": 14,
    "start_time": "2025-05-02T06:04:19.469Z"
   },
   {
    "duration": 15,
    "start_time": "2025-05-02T06:04:36.300Z"
   },
   {
    "duration": 13,
    "start_time": "2025-05-02T06:05:11.326Z"
   },
   {
    "duration": 13,
    "start_time": "2025-05-02T06:59:19.245Z"
   },
   {
    "duration": 11,
    "start_time": "2025-05-02T06:59:25.291Z"
   },
   {
    "duration": 10,
    "start_time": "2025-05-02T06:59:39.654Z"
   },
   {
    "duration": 6,
    "start_time": "2025-05-02T07:01:05.473Z"
   },
   {
    "duration": 10,
    "start_time": "2025-05-02T07:01:07.866Z"
   },
   {
    "duration": 429,
    "start_time": "2025-05-02T07:01:23.961Z"
   },
   {
    "duration": 384,
    "start_time": "2025-05-02T07:01:56.895Z"
   },
   {
    "duration": 427,
    "start_time": "2025-05-02T07:02:15.654Z"
   },
   {
    "duration": 9,
    "start_time": "2025-05-02T07:02:25.360Z"
   },
   {
    "duration": 378,
    "start_time": "2025-05-02T07:02:31.402Z"
   },
   {
    "duration": 10,
    "start_time": "2025-05-02T07:03:08.169Z"
   },
   {
    "duration": 16,
    "start_time": "2025-05-02T07:05:47.940Z"
   },
   {
    "duration": 14,
    "start_time": "2025-05-02T07:05:57.912Z"
   },
   {
    "duration": 940,
    "start_time": "2025-05-02T07:06:14.304Z"
   },
   {
    "duration": 7,
    "start_time": "2025-05-02T07:09:16.799Z"
   },
   {
    "duration": 150,
    "start_time": "2025-05-02T07:09:42.164Z"
   },
   {
    "duration": 642,
    "start_time": "2025-05-02T07:09:46.531Z"
   },
   {
    "duration": 23,
    "start_time": "2025-05-02T07:09:47.175Z"
   },
   {
    "duration": 14,
    "start_time": "2025-05-02T07:09:47.199Z"
   },
   {
    "duration": 10,
    "start_time": "2025-05-02T07:09:47.215Z"
   },
   {
    "duration": 3,
    "start_time": "2025-05-02T07:09:47.226Z"
   },
   {
    "duration": 12,
    "start_time": "2025-05-02T07:09:47.230Z"
   },
   {
    "duration": 6,
    "start_time": "2025-05-02T07:09:47.262Z"
   },
   {
    "duration": 10,
    "start_time": "2025-05-02T07:09:47.269Z"
   },
   {
    "duration": 3,
    "start_time": "2025-05-02T07:09:47.281Z"
   },
   {
    "duration": 8,
    "start_time": "2025-05-02T07:09:47.286Z"
   },
   {
    "duration": 4,
    "start_time": "2025-05-02T07:09:47.295Z"
   },
   {
    "duration": 230,
    "start_time": "2025-05-02T07:09:47.300Z"
   },
   {
    "duration": 118,
    "start_time": "2025-05-02T07:09:47.531Z"
   },
   {
    "duration": 12,
    "start_time": "2025-05-02T07:09:47.651Z"
   },
   {
    "duration": 172,
    "start_time": "2025-05-02T07:09:47.664Z"
   },
   {
    "duration": 9,
    "start_time": "2025-05-02T07:09:47.838Z"
   },
   {
    "duration": 21,
    "start_time": "2025-05-02T07:09:47.848Z"
   },
   {
    "duration": 12,
    "start_time": "2025-05-02T07:09:47.870Z"
   },
   {
    "duration": 7,
    "start_time": "2025-05-02T07:09:47.884Z"
   },
   {
    "duration": 1451,
    "start_time": "2025-05-02T07:09:47.892Z"
   },
   {
    "duration": 591,
    "start_time": "2025-05-02T07:11:16.608Z"
   },
   {
    "duration": 23,
    "start_time": "2025-05-02T07:11:17.201Z"
   },
   {
    "duration": 15,
    "start_time": "2025-05-02T07:11:17.226Z"
   },
   {
    "duration": 11,
    "start_time": "2025-05-02T07:11:17.243Z"
   },
   {
    "duration": 4,
    "start_time": "2025-05-02T07:11:17.262Z"
   },
   {
    "duration": 15,
    "start_time": "2025-05-02T07:11:17.267Z"
   },
   {
    "duration": 6,
    "start_time": "2025-05-02T07:11:17.283Z"
   },
   {
    "duration": 11,
    "start_time": "2025-05-02T07:11:17.291Z"
   },
   {
    "duration": 3,
    "start_time": "2025-05-02T07:11:17.304Z"
   },
   {
    "duration": 7,
    "start_time": "2025-05-02T07:11:17.309Z"
   },
   {
    "duration": 5,
    "start_time": "2025-05-02T07:11:17.317Z"
   },
   {
    "duration": 226,
    "start_time": "2025-05-02T07:11:17.323Z"
   },
   {
    "duration": 117,
    "start_time": "2025-05-02T07:11:17.551Z"
   },
   {
    "duration": 8,
    "start_time": "2025-05-02T07:11:17.670Z"
   },
   {
    "duration": 173,
    "start_time": "2025-05-02T07:11:17.680Z"
   },
   {
    "duration": 12,
    "start_time": "2025-05-02T07:11:17.855Z"
   },
   {
    "duration": 7,
    "start_time": "2025-05-02T07:11:17.869Z"
   },
   {
    "duration": 11,
    "start_time": "2025-05-02T07:11:17.878Z"
   },
   {
    "duration": 8,
    "start_time": "2025-05-02T07:11:17.891Z"
   },
   {
    "duration": 1312,
    "start_time": "2025-05-02T07:11:17.901Z"
   },
   {
    "duration": 8,
    "start_time": "2025-05-02T07:15:11.839Z"
   },
   {
    "duration": 7,
    "start_time": "2025-05-02T07:20:02.111Z"
   },
   {
    "duration": 185,
    "start_time": "2025-05-02T07:23:54.566Z"
   },
   {
    "duration": 176,
    "start_time": "2025-05-02T07:24:17.144Z"
   },
   {
    "duration": 9,
    "start_time": "2025-05-02T07:35:07.251Z"
   },
   {
    "duration": 606,
    "start_time": "2025-05-02T07:36:00.189Z"
   },
   {
    "duration": 24,
    "start_time": "2025-05-02T07:36:00.797Z"
   },
   {
    "duration": 15,
    "start_time": "2025-05-02T07:36:00.823Z"
   },
   {
    "duration": 11,
    "start_time": "2025-05-02T07:36:00.839Z"
   },
   {
    "duration": 3,
    "start_time": "2025-05-02T07:36:00.852Z"
   },
   {
    "duration": 21,
    "start_time": "2025-05-02T07:36:00.862Z"
   },
   {
    "duration": 19,
    "start_time": "2025-05-02T07:36:00.884Z"
   },
   {
    "duration": 30,
    "start_time": "2025-05-02T07:36:00.905Z"
   },
   {
    "duration": 4,
    "start_time": "2025-05-02T07:36:00.936Z"
   },
   {
    "duration": 9,
    "start_time": "2025-05-02T07:36:00.942Z"
   },
   {
    "duration": 5,
    "start_time": "2025-05-02T07:36:00.952Z"
   },
   {
    "duration": 197,
    "start_time": "2025-05-02T07:36:00.958Z"
   },
   {
    "duration": 112,
    "start_time": "2025-05-02T07:36:01.161Z"
   },
   {
    "duration": 8,
    "start_time": "2025-05-02T07:36:01.275Z"
   },
   {
    "duration": 162,
    "start_time": "2025-05-02T07:36:01.284Z"
   },
   {
    "duration": 7,
    "start_time": "2025-05-02T07:36:01.448Z"
   },
   {
    "duration": 11,
    "start_time": "2025-05-02T07:36:01.462Z"
   },
   {
    "duration": 28,
    "start_time": "2025-05-02T07:36:01.474Z"
   },
   {
    "duration": 11,
    "start_time": "2025-05-02T07:36:01.503Z"
   },
   {
    "duration": 10,
    "start_time": "2025-05-02T07:36:01.515Z"
   },
   {
    "duration": 7,
    "start_time": "2025-05-02T07:36:01.526Z"
   },
   {
    "duration": 45,
    "start_time": "2025-05-02T07:36:01.534Z"
   },
   {
    "duration": 1482,
    "start_time": "2025-05-02T07:36:01.581Z"
   },
   {
    "duration": 609,
    "start_time": "2025-05-02T07:40:58.171Z"
   },
   {
    "duration": 24,
    "start_time": "2025-05-02T07:40:58.782Z"
   },
   {
    "duration": 14,
    "start_time": "2025-05-02T07:40:58.807Z"
   },
   {
    "duration": 11,
    "start_time": "2025-05-02T07:40:58.823Z"
   },
   {
    "duration": 3,
    "start_time": "2025-05-02T07:40:58.835Z"
   },
   {
    "duration": 6,
    "start_time": "2025-05-02T07:40:58.840Z"
   },
   {
    "duration": 20,
    "start_time": "2025-05-02T07:40:58.847Z"
   },
   {
    "duration": 17,
    "start_time": "2025-05-02T07:40:58.869Z"
   },
   {
    "duration": 4,
    "start_time": "2025-05-02T07:40:58.888Z"
   },
   {
    "duration": 9,
    "start_time": "2025-05-02T07:40:58.894Z"
   },
   {
    "duration": 4,
    "start_time": "2025-05-02T07:40:58.904Z"
   },
   {
    "duration": 10,
    "start_time": "2025-05-02T07:40:58.910Z"
   },
   {
    "duration": 227,
    "start_time": "2025-05-02T07:40:58.921Z"
   },
   {
    "duration": 115,
    "start_time": "2025-05-02T07:40:59.149Z"
   },
   {
    "duration": 8,
    "start_time": "2025-05-02T07:40:59.265Z"
   },
   {
    "duration": 170,
    "start_time": "2025-05-02T07:40:59.274Z"
   },
   {
    "duration": 20,
    "start_time": "2025-05-02T07:40:59.446Z"
   },
   {
    "duration": 6,
    "start_time": "2025-05-02T07:40:59.468Z"
   },
   {
    "duration": 12,
    "start_time": "2025-05-02T07:40:59.475Z"
   },
   {
    "duration": 17,
    "start_time": "2025-05-02T07:40:59.488Z"
   },
   {
    "duration": 9,
    "start_time": "2025-05-02T07:40:59.506Z"
   },
   {
    "duration": 8,
    "start_time": "2025-05-02T07:40:59.517Z"
   },
   {
    "duration": 40,
    "start_time": "2025-05-02T07:40:59.527Z"
   },
   {
    "duration": 1446,
    "start_time": "2025-05-02T07:40:59.569Z"
   },
   {
    "duration": 647,
    "start_time": "2025-05-02T07:44:06.541Z"
   },
   {
    "duration": 24,
    "start_time": "2025-05-02T07:44:07.190Z"
   },
   {
    "duration": 14,
    "start_time": "2025-05-02T07:44:07.215Z"
   },
   {
    "duration": 20,
    "start_time": "2025-05-02T07:44:07.231Z"
   },
   {
    "duration": 8,
    "start_time": "2025-05-02T07:44:07.252Z"
   },
   {
    "duration": 9,
    "start_time": "2025-05-02T07:44:07.261Z"
   },
   {
    "duration": 12,
    "start_time": "2025-05-02T07:44:07.271Z"
   },
   {
    "duration": 12,
    "start_time": "2025-05-02T07:44:07.284Z"
   },
   {
    "duration": 4,
    "start_time": "2025-05-02T07:44:07.297Z"
   },
   {
    "duration": 6,
    "start_time": "2025-05-02T07:44:07.303Z"
   },
   {
    "duration": 5,
    "start_time": "2025-05-02T07:44:07.310Z"
   },
   {
    "duration": 27,
    "start_time": "2025-05-02T07:44:07.316Z"
   },
   {
    "duration": 25,
    "start_time": "2025-05-02T07:44:07.345Z"
   },
   {
    "duration": 212,
    "start_time": "2025-05-02T07:44:07.372Z"
   },
   {
    "duration": 118,
    "start_time": "2025-05-02T07:44:07.585Z"
   },
   {
    "duration": 7,
    "start_time": "2025-05-02T07:44:07.705Z"
   },
   {
    "duration": 167,
    "start_time": "2025-05-02T07:44:07.714Z"
   },
   {
    "duration": 7,
    "start_time": "2025-05-02T07:44:07.883Z"
   },
   {
    "duration": 7,
    "start_time": "2025-05-02T07:44:07.892Z"
   },
   {
    "duration": 19,
    "start_time": "2025-05-02T07:44:07.903Z"
   },
   {
    "duration": 16,
    "start_time": "2025-05-02T07:44:07.924Z"
   },
   {
    "duration": 12,
    "start_time": "2025-05-02T07:44:07.967Z"
   },
   {
    "duration": 29,
    "start_time": "2025-05-02T07:44:07.980Z"
   },
   {
    "duration": 14,
    "start_time": "2025-05-02T07:44:08.010Z"
   },
   {
    "duration": 1383,
    "start_time": "2025-05-02T07:44:08.025Z"
   },
   {
    "duration": 633,
    "start_time": "2025-05-02T07:48:12.572Z"
   },
   {
    "duration": 25,
    "start_time": "2025-05-02T07:48:13.207Z"
   },
   {
    "duration": 16,
    "start_time": "2025-05-02T07:48:13.233Z"
   },
   {
    "duration": 15,
    "start_time": "2025-05-02T07:48:13.251Z"
   },
   {
    "duration": 16,
    "start_time": "2025-05-02T07:48:13.267Z"
   },
   {
    "duration": 7,
    "start_time": "2025-05-02T07:48:13.284Z"
   },
   {
    "duration": 6,
    "start_time": "2025-05-02T07:48:13.292Z"
   },
   {
    "duration": 11,
    "start_time": "2025-05-02T07:48:13.300Z"
   },
   {
    "duration": 4,
    "start_time": "2025-05-02T07:48:13.313Z"
   },
   {
    "duration": 7,
    "start_time": "2025-05-02T07:48:13.319Z"
   },
   {
    "duration": 4,
    "start_time": "2025-05-02T07:48:13.327Z"
   },
   {
    "duration": 35,
    "start_time": "2025-05-02T07:48:13.333Z"
   },
   {
    "duration": 8,
    "start_time": "2025-05-02T07:48:13.369Z"
   },
   {
    "duration": 10,
    "start_time": "2025-05-02T07:48:13.379Z"
   },
   {
    "duration": 218,
    "start_time": "2025-05-02T07:48:13.390Z"
   },
   {
    "duration": 115,
    "start_time": "2025-05-02T07:48:13.610Z"
   },
   {
    "duration": 8,
    "start_time": "2025-05-02T07:48:13.727Z"
   },
   {
    "duration": 174,
    "start_time": "2025-05-02T07:48:13.736Z"
   },
   {
    "duration": 8,
    "start_time": "2025-05-02T07:48:13.912Z"
   },
   {
    "duration": 16,
    "start_time": "2025-05-02T07:48:13.921Z"
   },
   {
    "duration": 24,
    "start_time": "2025-05-02T07:48:13.939Z"
   },
   {
    "duration": 7,
    "start_time": "2025-05-02T07:48:13.965Z"
   },
   {
    "duration": 18,
    "start_time": "2025-05-02T07:48:13.974Z"
   },
   {
    "duration": 9,
    "start_time": "2025-05-02T07:48:13.994Z"
   },
   {
    "duration": 24,
    "start_time": "2025-05-02T07:48:14.005Z"
   },
   {
    "duration": 1458,
    "start_time": "2025-05-02T07:48:14.030Z"
   },
   {
    "duration": 10,
    "start_time": "2025-05-02T08:23:02.210Z"
   },
   {
    "duration": 12,
    "start_time": "2025-05-02T08:23:06.729Z"
   },
   {
    "duration": 429,
    "start_time": "2025-05-02T08:32:06.803Z"
   },
   {
    "duration": 7,
    "start_time": "2025-05-02T08:32:18.592Z"
   },
   {
    "duration": 8,
    "start_time": "2025-05-02T08:32:58.588Z"
   },
   {
    "duration": 10,
    "start_time": "2025-05-02T08:41:37.405Z"
   },
   {
    "duration": 8,
    "start_time": "2025-05-02T08:41:58.879Z"
   },
   {
    "duration": 14,
    "start_time": "2025-05-02T08:50:43.924Z"
   },
   {
    "duration": 656,
    "start_time": "2025-05-02T09:33:23.664Z"
   },
   {
    "duration": 23,
    "start_time": "2025-05-02T09:33:24.322Z"
   },
   {
    "duration": 14,
    "start_time": "2025-05-02T09:33:24.347Z"
   },
   {
    "duration": 11,
    "start_time": "2025-05-02T09:33:24.363Z"
   },
   {
    "duration": 4,
    "start_time": "2025-05-02T09:33:24.375Z"
   },
   {
    "duration": 8,
    "start_time": "2025-05-02T09:33:24.380Z"
   },
   {
    "duration": 6,
    "start_time": "2025-05-02T09:33:24.389Z"
   },
   {
    "duration": 11,
    "start_time": "2025-05-02T09:33:24.396Z"
   },
   {
    "duration": 3,
    "start_time": "2025-05-02T09:33:24.408Z"
   },
   {
    "duration": 5,
    "start_time": "2025-05-02T09:33:24.414Z"
   },
   {
    "duration": 4,
    "start_time": "2025-05-02T09:33:24.462Z"
   },
   {
    "duration": 7,
    "start_time": "2025-05-02T09:33:24.468Z"
   },
   {
    "duration": 9,
    "start_time": "2025-05-02T09:33:24.476Z"
   },
   {
    "duration": 7,
    "start_time": "2025-05-02T09:33:24.487Z"
   },
   {
    "duration": 9,
    "start_time": "2025-05-02T09:33:24.496Z"
   },
   {
    "duration": 239,
    "start_time": "2025-05-02T09:33:24.507Z"
   },
   {
    "duration": 117,
    "start_time": "2025-05-02T09:33:24.748Z"
   },
   {
    "duration": 7,
    "start_time": "2025-05-02T09:33:24.867Z"
   },
   {
    "duration": 188,
    "start_time": "2025-05-02T09:33:24.876Z"
   },
   {
    "duration": 7,
    "start_time": "2025-05-02T09:33:25.065Z"
   },
   {
    "duration": 8,
    "start_time": "2025-05-02T09:33:25.074Z"
   },
   {
    "duration": 11,
    "start_time": "2025-05-02T09:33:25.084Z"
   },
   {
    "duration": 7,
    "start_time": "2025-05-02T09:33:25.097Z"
   },
   {
    "duration": 9,
    "start_time": "2025-05-02T09:33:25.106Z"
   },
   {
    "duration": 48,
    "start_time": "2025-05-02T09:33:25.116Z"
   },
   {
    "duration": 439,
    "start_time": "2025-05-02T09:33:25.166Z"
   },
   {
    "duration": 12,
    "start_time": "2025-05-02T09:33:25.607Z"
   },
   {
    "duration": 9,
    "start_time": "2025-05-02T09:33:25.622Z"
   },
   {
    "duration": 1505,
    "start_time": "2025-05-02T09:33:25.632Z"
   },
   {
    "duration": 6,
    "start_time": "2025-05-02T09:36:41.711Z"
   },
   {
    "duration": 7,
    "start_time": "2025-05-02T09:37:50.717Z"
   },
   {
    "duration": 5,
    "start_time": "2025-05-02T09:38:02.574Z"
   },
   {
    "duration": 8,
    "start_time": "2025-05-02T09:38:17.560Z"
   },
   {
    "duration": 6,
    "start_time": "2025-05-02T09:38:20.708Z"
   },
   {
    "duration": 7,
    "start_time": "2025-05-02T09:38:24.562Z"
   },
   {
    "duration": 10,
    "start_time": "2025-05-02T09:38:26.707Z"
   },
   {
    "duration": 596,
    "start_time": "2025-05-02T09:38:33.916Z"
   },
   {
    "duration": 36,
    "start_time": "2025-05-02T09:38:34.514Z"
   },
   {
    "duration": 15,
    "start_time": "2025-05-02T09:38:34.552Z"
   },
   {
    "duration": 21,
    "start_time": "2025-05-02T09:38:34.568Z"
   },
   {
    "duration": 4,
    "start_time": "2025-05-02T09:38:34.592Z"
   },
   {
    "duration": 7,
    "start_time": "2025-05-02T09:38:34.597Z"
   },
   {
    "duration": 6,
    "start_time": "2025-05-02T09:38:34.605Z"
   },
   {
    "duration": 11,
    "start_time": "2025-05-02T09:38:34.613Z"
   },
   {
    "duration": 4,
    "start_time": "2025-05-02T09:38:34.625Z"
   },
   {
    "duration": 33,
    "start_time": "2025-05-02T09:38:34.630Z"
   },
   {
    "duration": 20,
    "start_time": "2025-05-02T09:38:34.665Z"
   },
   {
    "duration": 7,
    "start_time": "2025-05-02T09:38:34.686Z"
   },
   {
    "duration": 8,
    "start_time": "2025-05-02T09:38:34.695Z"
   },
   {
    "duration": 8,
    "start_time": "2025-05-02T09:38:34.706Z"
   },
   {
    "duration": 10,
    "start_time": "2025-05-02T09:38:34.715Z"
   },
   {
    "duration": 223,
    "start_time": "2025-05-02T09:38:34.726Z"
   },
   {
    "duration": 127,
    "start_time": "2025-05-02T09:38:34.953Z"
   },
   {
    "duration": 9,
    "start_time": "2025-05-02T09:38:35.082Z"
   },
   {
    "duration": 18,
    "start_time": "2025-05-02T09:38:35.092Z"
   },
   {
    "duration": 11,
    "start_time": "2025-05-02T09:38:35.111Z"
   },
   {
    "duration": 22,
    "start_time": "2025-05-02T09:38:35.124Z"
   },
   {
    "duration": 174,
    "start_time": "2025-05-02T09:38:35.147Z"
   },
   {
    "duration": 7,
    "start_time": "2025-05-02T09:38:35.322Z"
   },
   {
    "duration": 13,
    "start_time": "2025-05-02T09:38:35.331Z"
   },
   {
    "duration": 22,
    "start_time": "2025-05-02T09:38:35.346Z"
   },
   {
    "duration": 21,
    "start_time": "2025-05-02T09:38:35.370Z"
   },
   {
    "duration": 454,
    "start_time": "2025-05-02T09:38:35.393Z"
   },
   {
    "duration": 18,
    "start_time": "2025-05-02T09:38:35.849Z"
   },
   {
    "duration": 28,
    "start_time": "2025-05-02T09:38:35.869Z"
   },
   {
    "duration": 1416,
    "start_time": "2025-05-02T09:38:35.898Z"
   },
   {
    "duration": 179,
    "start_time": "2025-05-02T09:39:32.440Z"
   },
   {
    "duration": 672,
    "start_time": "2025-05-02T09:39:43.977Z"
   },
   {
    "duration": 24,
    "start_time": "2025-05-02T09:39:44.651Z"
   },
   {
    "duration": 27,
    "start_time": "2025-05-02T09:39:44.677Z"
   },
   {
    "duration": 13,
    "start_time": "2025-05-02T09:39:44.706Z"
   },
   {
    "duration": 7,
    "start_time": "2025-05-02T09:39:44.720Z"
   },
   {
    "duration": 7,
    "start_time": "2025-05-02T09:39:44.728Z"
   },
   {
    "duration": 6,
    "start_time": "2025-05-02T09:39:44.736Z"
   },
   {
    "duration": 24,
    "start_time": "2025-05-02T09:39:44.743Z"
   },
   {
    "duration": 4,
    "start_time": "2025-05-02T09:39:44.768Z"
   },
   {
    "duration": 10,
    "start_time": "2025-05-02T09:39:44.775Z"
   },
   {
    "duration": 47,
    "start_time": "2025-05-02T09:39:44.786Z"
   },
   {
    "duration": 25,
    "start_time": "2025-05-02T09:39:44.835Z"
   },
   {
    "duration": 82,
    "start_time": "2025-05-02T09:39:44.862Z"
   },
   {
    "duration": 17,
    "start_time": "2025-05-02T09:39:44.945Z"
   },
   {
    "duration": 12,
    "start_time": "2025-05-02T09:39:44.963Z"
   },
   {
    "duration": 227,
    "start_time": "2025-05-02T09:39:44.977Z"
   },
   {
    "duration": 131,
    "start_time": "2025-05-02T09:39:45.205Z"
   },
   {
    "duration": 7,
    "start_time": "2025-05-02T09:39:45.338Z"
   },
   {
    "duration": 15,
    "start_time": "2025-05-02T09:39:45.347Z"
   },
   {
    "duration": 260,
    "start_time": "2025-05-02T09:39:45.363Z"
   },
   {
    "duration": 16,
    "start_time": "2025-05-02T09:39:45.625Z"
   },
   {
    "duration": 23,
    "start_time": "2025-05-02T09:39:45.643Z"
   },
   {
    "duration": 12,
    "start_time": "2025-05-02T09:39:45.667Z"
   },
   {
    "duration": 23,
    "start_time": "2025-05-02T09:39:45.680Z"
   },
   {
    "duration": 466,
    "start_time": "2025-05-02T09:39:45.705Z"
   },
   {
    "duration": 14,
    "start_time": "2025-05-02T09:39:46.173Z"
   },
   {
    "duration": 9,
    "start_time": "2025-05-02T09:39:46.189Z"
   },
   {
    "duration": 1400,
    "start_time": "2025-05-02T09:39:46.201Z"
   },
   {
    "duration": 154,
    "start_time": "2025-05-02T09:40:20.711Z"
   },
   {
    "duration": 12,
    "start_time": "2025-05-02T09:41:12.559Z"
   },
   {
    "duration": 8,
    "start_time": "2025-05-02T09:41:29.360Z"
   },
   {
    "duration": 11,
    "start_time": "2025-05-02T09:42:06.567Z"
   },
   {
    "duration": 9,
    "start_time": "2025-05-02T09:43:48.906Z"
   },
   {
    "duration": 8,
    "start_time": "2025-05-02T10:17:51.172Z"
   },
   {
    "duration": 9,
    "start_time": "2025-05-02T10:26:49.136Z"
   },
   {
    "duration": 601,
    "start_time": "2025-05-02T10:28:21.426Z"
   },
   {
    "duration": 24,
    "start_time": "2025-05-02T10:28:22.029Z"
   },
   {
    "duration": 14,
    "start_time": "2025-05-02T10:28:22.055Z"
   },
   {
    "duration": 23,
    "start_time": "2025-05-02T10:28:22.071Z"
   },
   {
    "duration": 5,
    "start_time": "2025-05-02T10:28:22.095Z"
   },
   {
    "duration": 7,
    "start_time": "2025-05-02T10:28:22.101Z"
   },
   {
    "duration": 26,
    "start_time": "2025-05-02T10:28:22.109Z"
   },
   {
    "duration": 14,
    "start_time": "2025-05-02T10:28:22.137Z"
   },
   {
    "duration": 4,
    "start_time": "2025-05-02T10:28:22.153Z"
   },
   {
    "duration": 6,
    "start_time": "2025-05-02T10:28:22.164Z"
   },
   {
    "duration": 17,
    "start_time": "2025-05-02T10:28:22.171Z"
   },
   {
    "duration": 18,
    "start_time": "2025-05-02T10:28:22.189Z"
   },
   {
    "duration": 9,
    "start_time": "2025-05-02T10:28:22.208Z"
   },
   {
    "duration": 14,
    "start_time": "2025-05-02T10:28:22.219Z"
   },
   {
    "duration": 30,
    "start_time": "2025-05-02T10:28:22.235Z"
   },
   {
    "duration": 210,
    "start_time": "2025-05-02T10:28:22.267Z"
   },
   {
    "duration": 117,
    "start_time": "2025-05-02T10:28:22.478Z"
   },
   {
    "duration": 8,
    "start_time": "2025-05-02T10:28:22.597Z"
   },
   {
    "duration": 6,
    "start_time": "2025-05-02T10:28:22.606Z"
   },
   {
    "duration": 162,
    "start_time": "2025-05-02T10:28:22.613Z"
   },
   {
    "duration": 8,
    "start_time": "2025-05-02T10:28:22.776Z"
   },
   {
    "duration": 6,
    "start_time": "2025-05-02T10:28:22.785Z"
   },
   {
    "duration": 7,
    "start_time": "2025-05-02T10:28:22.792Z"
   },
   {
    "duration": 8,
    "start_time": "2025-05-02T10:28:22.801Z"
   },
   {
    "duration": 9,
    "start_time": "2025-05-02T10:28:22.810Z"
   },
   {
    "duration": 497,
    "start_time": "2025-05-02T10:28:22.820Z"
   },
   {
    "duration": 9,
    "start_time": "2025-05-02T10:28:23.319Z"
   },
   {
    "duration": 19,
    "start_time": "2025-05-02T10:28:23.330Z"
   },
   {
    "duration": 1590,
    "start_time": "2025-05-02T10:28:23.350Z"
   },
   {
    "duration": 8,
    "start_time": "2025-05-02T10:28:53.864Z"
   },
   {
    "duration": 9,
    "start_time": "2025-05-02T10:29:03.023Z"
   },
   {
    "duration": 591,
    "start_time": "2025-05-02T13:48:05.723Z"
   },
   {
    "duration": 24,
    "start_time": "2025-05-02T13:48:06.316Z"
   },
   {
    "duration": 18,
    "start_time": "2025-05-02T13:48:06.342Z"
   },
   {
    "duration": 39,
    "start_time": "2025-05-02T13:48:06.362Z"
   },
   {
    "duration": 14,
    "start_time": "2025-05-02T13:48:06.403Z"
   },
   {
    "duration": 15,
    "start_time": "2025-05-02T13:48:06.418Z"
   },
   {
    "duration": 16,
    "start_time": "2025-05-02T13:48:06.435Z"
   },
   {
    "duration": 44,
    "start_time": "2025-05-02T13:48:06.452Z"
   },
   {
    "duration": 9,
    "start_time": "2025-05-02T13:48:06.498Z"
   },
   {
    "duration": 11,
    "start_time": "2025-05-02T13:48:06.509Z"
   },
   {
    "duration": 11,
    "start_time": "2025-05-02T13:48:06.521Z"
   },
   {
    "duration": 14,
    "start_time": "2025-05-02T13:48:06.534Z"
   },
   {
    "duration": 36,
    "start_time": "2025-05-02T13:48:06.549Z"
   },
   {
    "duration": 25,
    "start_time": "2025-05-02T13:48:06.587Z"
   },
   {
    "duration": 11,
    "start_time": "2025-05-02T13:48:06.614Z"
   },
   {
    "duration": 197,
    "start_time": "2025-05-02T13:48:06.626Z"
   },
   {
    "duration": 122,
    "start_time": "2025-05-02T13:48:06.824Z"
   },
   {
    "duration": 15,
    "start_time": "2025-05-02T13:48:06.947Z"
   },
   {
    "duration": 7,
    "start_time": "2025-05-02T13:48:06.963Z"
   },
   {
    "duration": 162,
    "start_time": "2025-05-02T13:48:06.972Z"
   },
   {
    "duration": 8,
    "start_time": "2025-05-02T13:48:07.136Z"
   },
   {
    "duration": 23,
    "start_time": "2025-05-02T13:48:07.145Z"
   },
   {
    "duration": 8,
    "start_time": "2025-05-02T13:48:07.169Z"
   },
   {
    "duration": 14,
    "start_time": "2025-05-02T13:48:07.178Z"
   },
   {
    "duration": 9,
    "start_time": "2025-05-02T13:48:07.194Z"
   },
   {
    "duration": 488,
    "start_time": "2025-05-02T13:48:07.205Z"
   },
   {
    "duration": 15,
    "start_time": "2025-05-02T13:48:07.694Z"
   },
   {
    "duration": 1475,
    "start_time": "2025-05-02T13:48:07.711Z"
   },
   {
    "duration": 82,
    "start_time": "2025-05-02T13:50:37.645Z"
   },
   {
    "duration": 645,
    "start_time": "2025-05-02T13:51:34.376Z"
   },
   {
    "duration": 24,
    "start_time": "2025-05-02T13:51:35.023Z"
   },
   {
    "duration": 17,
    "start_time": "2025-05-02T13:51:35.049Z"
   },
   {
    "duration": 17,
    "start_time": "2025-05-02T13:51:35.068Z"
   },
   {
    "duration": 7,
    "start_time": "2025-05-02T13:51:35.086Z"
   },
   {
    "duration": 8,
    "start_time": "2025-05-02T13:51:35.094Z"
   },
   {
    "duration": 15,
    "start_time": "2025-05-02T13:51:35.104Z"
   },
   {
    "duration": 12,
    "start_time": "2025-05-02T13:51:35.120Z"
   },
   {
    "duration": 4,
    "start_time": "2025-05-02T13:51:35.134Z"
   },
   {
    "duration": 33,
    "start_time": "2025-05-02T13:51:35.141Z"
   },
   {
    "duration": 15,
    "start_time": "2025-05-02T13:51:35.176Z"
   },
   {
    "duration": 26,
    "start_time": "2025-05-02T13:51:35.193Z"
   },
   {
    "duration": 27,
    "start_time": "2025-05-02T13:51:35.221Z"
   },
   {
    "duration": 22,
    "start_time": "2025-05-02T13:51:35.249Z"
   },
   {
    "duration": 25,
    "start_time": "2025-05-02T13:51:35.273Z"
   },
   {
    "duration": 201,
    "start_time": "2025-05-02T13:51:35.300Z"
   },
   {
    "duration": 121,
    "start_time": "2025-05-02T13:51:35.503Z"
   },
   {
    "duration": 11,
    "start_time": "2025-05-02T13:51:35.625Z"
   },
   {
    "duration": 64,
    "start_time": "2025-05-02T13:51:35.638Z"
   },
   {
    "duration": 177,
    "start_time": "2025-05-02T13:51:35.704Z"
   },
   {
    "duration": 7,
    "start_time": "2025-05-02T13:51:35.883Z"
   },
   {
    "duration": 54,
    "start_time": "2025-05-02T13:51:35.891Z"
   },
   {
    "duration": 18,
    "start_time": "2025-05-02T13:51:35.947Z"
   },
   {
    "duration": 19,
    "start_time": "2025-05-02T13:51:35.967Z"
   },
   {
    "duration": 22,
    "start_time": "2025-05-02T13:51:35.988Z"
   },
   {
    "duration": 510,
    "start_time": "2025-05-02T13:51:36.012Z"
   },
   {
    "duration": 16,
    "start_time": "2025-05-02T13:51:36.524Z"
   },
   {
    "duration": 1356,
    "start_time": "2025-05-02T13:51:36.543Z"
   },
   {
    "duration": 10,
    "start_time": "2025-05-02T13:55:36.121Z"
   },
   {
    "duration": 11,
    "start_time": "2025-05-02T13:55:51.418Z"
   },
   {
    "duration": 100,
    "start_time": "2025-05-02T14:44:07.998Z"
   },
   {
    "duration": 11,
    "start_time": "2025-05-02T14:44:13.701Z"
   },
   {
    "duration": 5,
    "start_time": "2025-05-02T14:45:44.819Z"
   },
   {
    "duration": 6,
    "start_time": "2025-05-02T14:45:53.697Z"
   },
   {
    "duration": 6,
    "start_time": "2025-05-02T14:46:07.999Z"
   },
   {
    "duration": 5,
    "start_time": "2025-05-02T14:46:18.240Z"
   },
   {
    "duration": 25,
    "start_time": "2025-05-02T14:48:13.943Z"
   },
   {
    "duration": 9,
    "start_time": "2025-05-02T14:48:47.334Z"
   },
   {
    "duration": 12,
    "start_time": "2025-05-02T14:48:52.131Z"
   },
   {
    "duration": 10,
    "start_time": "2025-05-02T14:48:58.221Z"
   },
   {
    "duration": 6,
    "start_time": "2025-05-02T14:49:49.071Z"
   },
   {
    "duration": 6,
    "start_time": "2025-05-02T14:49:57.074Z"
   },
   {
    "duration": 9,
    "start_time": "2025-05-02T14:51:21.455Z"
   },
   {
    "duration": 9,
    "start_time": "2025-05-02T14:51:27.249Z"
   },
   {
    "duration": 9,
    "start_time": "2025-05-02T14:51:54.020Z"
   },
   {
    "duration": 11,
    "start_time": "2025-05-02T14:52:27.025Z"
   },
   {
    "duration": 10,
    "start_time": "2025-05-02T14:52:49.388Z"
   },
   {
    "duration": 796,
    "start_time": "2025-05-02T14:55:42.910Z"
   },
   {
    "duration": 7,
    "start_time": "2025-05-02T14:58:35.722Z"
   },
   {
    "duration": 12,
    "start_time": "2025-05-02T14:59:03.414Z"
   },
   {
    "duration": 105,
    "start_time": "2025-05-02T14:59:08.188Z"
   },
   {
    "duration": 10,
    "start_time": "2025-05-02T15:01:39.445Z"
   },
   {
    "duration": 209,
    "start_time": "2025-05-02T15:02:38.645Z"
   },
   {
    "duration": 265,
    "start_time": "2025-05-02T15:03:14.261Z"
   },
   {
    "duration": 267,
    "start_time": "2025-05-02T15:03:52.796Z"
   },
   {
    "duration": 327,
    "start_time": "2025-05-02T15:04:20.236Z"
   },
   {
    "duration": 304,
    "start_time": "2025-05-02T15:04:45.985Z"
   },
   {
    "duration": 79,
    "start_time": "2025-05-02T15:06:22.466Z"
   },
   {
    "duration": 306,
    "start_time": "2025-05-02T15:06:27.537Z"
   },
   {
    "duration": 293,
    "start_time": "2025-05-02T15:06:57.987Z"
   },
   {
    "duration": 94,
    "start_time": "2025-05-02T15:09:47.430Z"
   },
   {
    "duration": 90,
    "start_time": "2025-05-02T15:10:03.209Z"
   },
   {
    "duration": 94,
    "start_time": "2025-05-02T15:10:40.560Z"
   },
   {
    "duration": 6,
    "start_time": "2025-05-02T15:12:42.002Z"
   },
   {
    "duration": 1293,
    "start_time": "2025-05-02T15:12:56.848Z"
   },
   {
    "duration": 8,
    "start_time": "2025-05-02T15:13:07.202Z"
   },
   {
    "duration": 7,
    "start_time": "2025-05-02T15:13:24.121Z"
   },
   {
    "duration": 663,
    "start_time": "2025-05-03T02:30:50.066Z"
   },
   {
    "duration": 26,
    "start_time": "2025-05-03T02:30:50.731Z"
   },
   {
    "duration": 17,
    "start_time": "2025-05-03T02:30:50.758Z"
   },
   {
    "duration": 19,
    "start_time": "2025-05-03T02:30:50.778Z"
   },
   {
    "duration": 6,
    "start_time": "2025-05-03T02:30:50.799Z"
   },
   {
    "duration": 86,
    "start_time": "2025-05-03T02:30:50.807Z"
   },
   {
    "duration": 34,
    "start_time": "2025-05-03T02:30:50.895Z"
   },
   {
    "duration": 17,
    "start_time": "2025-05-03T02:30:50.930Z"
   },
   {
    "duration": 3,
    "start_time": "2025-05-03T02:30:50.949Z"
   },
   {
    "duration": 7,
    "start_time": "2025-05-03T02:30:50.955Z"
   },
   {
    "duration": 10,
    "start_time": "2025-05-03T02:30:50.963Z"
   },
   {
    "duration": 22,
    "start_time": "2025-05-03T02:30:50.975Z"
   },
   {
    "duration": 15,
    "start_time": "2025-05-03T02:30:50.999Z"
   },
   {
    "duration": 28,
    "start_time": "2025-05-03T02:30:51.015Z"
   },
   {
    "duration": 12,
    "start_time": "2025-05-03T02:30:51.044Z"
   },
   {
    "duration": 231,
    "start_time": "2025-05-03T02:30:51.057Z"
   },
   {
    "duration": 131,
    "start_time": "2025-05-03T02:30:51.289Z"
   },
   {
    "duration": 8,
    "start_time": "2025-05-03T02:30:51.422Z"
   },
   {
    "duration": 21,
    "start_time": "2025-05-03T02:30:51.431Z"
   },
   {
    "duration": 195,
    "start_time": "2025-05-03T02:30:51.454Z"
   },
   {
    "duration": 9,
    "start_time": "2025-05-03T02:30:51.651Z"
   },
   {
    "duration": 10,
    "start_time": "2025-05-03T02:30:51.661Z"
   },
   {
    "duration": 39,
    "start_time": "2025-05-03T02:30:51.672Z"
   },
   {
    "duration": 13,
    "start_time": "2025-05-03T02:30:51.713Z"
   },
   {
    "duration": 13,
    "start_time": "2025-05-03T02:30:51.728Z"
   },
   {
    "duration": 543,
    "start_time": "2025-05-03T02:30:51.742Z"
   },
   {
    "duration": 29,
    "start_time": "2025-05-03T02:30:52.286Z"
   },
   {
    "duration": 1741,
    "start_time": "2025-05-03T02:30:52.318Z"
   },
   {
    "duration": 10,
    "start_time": "2025-05-03T02:30:54.061Z"
   },
   {
    "duration": 14,
    "start_time": "2025-05-03T02:30:54.073Z"
   },
   {
    "duration": 64,
    "start_time": "2025-05-03T02:30:54.089Z"
   },
   {
    "duration": 12,
    "start_time": "2025-05-03T02:30:54.155Z"
   },
   {
    "duration": 29,
    "start_time": "2025-05-03T02:30:54.168Z"
   },
   {
    "duration": 10,
    "start_time": "2025-05-03T02:30:54.199Z"
   },
   {
    "duration": 18,
    "start_time": "2025-05-03T02:30:54.211Z"
   },
   {
    "duration": 133,
    "start_time": "2025-05-03T02:30:54.230Z"
   },
   {
    "duration": 940,
    "start_time": "2025-05-03T02:30:54.365Z"
   },
   {
    "duration": 9,
    "start_time": "2025-05-03T02:30:55.306Z"
   },
   {
    "duration": 356,
    "start_time": "2025-05-03T02:30:55.316Z"
   },
   {
    "duration": 58,
    "start_time": "2025-05-03T02:30:55.673Z"
   },
   {
    "duration": 0,
    "start_time": "2025-05-03T02:30:55.733Z"
   },
   {
    "duration": 0,
    "start_time": "2025-05-03T02:30:55.734Z"
   },
   {
    "duration": 310,
    "start_time": "2025-05-03T02:32:38.555Z"
   },
   {
    "duration": 110,
    "start_time": "2025-05-03T02:32:57.525Z"
   },
   {
    "duration": 46,
    "start_time": "2025-05-03T02:42:57.318Z"
   },
   {
    "duration": 58,
    "start_time": "2025-05-03T02:43:09.185Z"
   },
   {
    "duration": 10,
    "start_time": "2025-05-03T02:50:55.118Z"
   },
   {
    "duration": 6,
    "start_time": "2025-05-03T03:03:42.623Z"
   },
   {
    "duration": 8,
    "start_time": "2025-05-03T03:03:48.961Z"
   },
   {
    "duration": 9,
    "start_time": "2025-05-03T03:03:59.802Z"
   },
   {
    "duration": 8,
    "start_time": "2025-05-03T03:04:16.572Z"
   },
   {
    "duration": 12,
    "start_time": "2025-05-03T03:04:57.933Z"
   },
   {
    "duration": 17,
    "start_time": "2025-05-03T03:05:11.803Z"
   },
   {
    "duration": 108,
    "start_time": "2025-05-03T03:05:41.712Z"
   },
   {
    "duration": 16,
    "start_time": "2025-05-03T03:05:59.147Z"
   },
   {
    "duration": 18,
    "start_time": "2025-05-03T03:06:07.760Z"
   },
   {
    "duration": 17,
    "start_time": "2025-05-03T03:07:41.923Z"
   },
   {
    "duration": 9,
    "start_time": "2025-05-03T03:08:51.954Z"
   },
   {
    "duration": 8,
    "start_time": "2025-05-03T03:09:00.031Z"
   },
   {
    "duration": 10,
    "start_time": "2025-05-03T03:10:00.765Z"
   },
   {
    "duration": 8,
    "start_time": "2025-05-03T03:10:34.199Z"
   },
   {
    "duration": 8,
    "start_time": "2025-05-03T03:10:38.474Z"
   },
   {
    "duration": 7,
    "start_time": "2025-05-03T03:12:30.289Z"
   },
   {
    "duration": 8,
    "start_time": "2025-05-03T03:12:35.507Z"
   },
   {
    "duration": 8,
    "start_time": "2025-05-03T03:12:54.650Z"
   },
   {
    "duration": 10,
    "start_time": "2025-05-03T03:13:26.178Z"
   },
   {
    "duration": 19,
    "start_time": "2025-05-03T03:15:06.979Z"
   },
   {
    "duration": 10,
    "start_time": "2025-05-03T03:15:14.140Z"
   },
   {
    "duration": 8,
    "start_time": "2025-05-03T03:15:52.575Z"
   },
   {
    "duration": 49,
    "start_time": "2025-05-03T03:16:04.067Z"
   },
   {
    "duration": 8,
    "start_time": "2025-05-03T03:16:11.506Z"
   },
   {
    "duration": 52,
    "start_time": "2025-05-03T03:25:13.330Z"
   },
   {
    "duration": 56,
    "start_time": "2025-05-03T03:25:36.455Z"
   },
   {
    "duration": 57,
    "start_time": "2025-05-03T03:25:59.886Z"
   },
   {
    "duration": 59,
    "start_time": "2025-05-03T03:26:32.469Z"
   },
   {
    "duration": 51,
    "start_time": "2025-05-03T03:26:39.485Z"
   },
   {
    "duration": 5,
    "start_time": "2025-05-03T03:26:52.070Z"
   },
   {
    "duration": 8,
    "start_time": "2025-05-03T03:26:56.556Z"
   },
   {
    "duration": 55,
    "start_time": "2025-05-03T03:27:01.503Z"
   },
   {
    "duration": 61,
    "start_time": "2025-05-03T03:27:13.114Z"
   },
   {
    "duration": 58,
    "start_time": "2025-05-03T03:27:17.883Z"
   },
   {
    "duration": 5,
    "start_time": "2025-05-03T03:27:24.186Z"
   },
   {
    "duration": 8,
    "start_time": "2025-05-03T03:27:28.113Z"
   },
   {
    "duration": 7,
    "start_time": "2025-05-03T03:27:44.201Z"
   },
   {
    "duration": 9,
    "start_time": "2025-05-03T03:28:12.425Z"
   },
   {
    "duration": 56,
    "start_time": "2025-05-03T03:29:08.918Z"
   },
   {
    "duration": 8,
    "start_time": "2025-05-03T03:29:23.265Z"
   },
   {
    "duration": 8,
    "start_time": "2025-05-03T03:29:55.010Z"
   },
   {
    "duration": 10,
    "start_time": "2025-05-03T03:30:29.875Z"
   },
   {
    "duration": 12,
    "start_time": "2025-05-03T03:32:23.825Z"
   },
   {
    "duration": 10,
    "start_time": "2025-05-03T03:34:29.966Z"
   },
   {
    "duration": 12,
    "start_time": "2025-05-03T03:34:33.257Z"
   },
   {
    "duration": 6,
    "start_time": "2025-05-03T03:35:43.772Z"
   },
   {
    "duration": 5,
    "start_time": "2025-05-03T03:36:26.768Z"
   },
   {
    "duration": 7,
    "start_time": "2025-05-03T03:37:54.391Z"
   },
   {
    "duration": 6,
    "start_time": "2025-05-03T03:38:09.822Z"
   },
   {
    "duration": 5,
    "start_time": "2025-05-03T03:38:18.517Z"
   },
   {
    "duration": 14,
    "start_time": "2025-05-03T03:39:48.484Z"
   },
   {
    "duration": 15,
    "start_time": "2025-05-03T03:40:43.701Z"
   },
   {
    "duration": 13,
    "start_time": "2025-05-03T03:40:49.420Z"
   },
   {
    "duration": 16,
    "start_time": "2025-05-03T03:42:59.198Z"
   },
   {
    "duration": 11,
    "start_time": "2025-05-03T03:43:08.679Z"
   },
   {
    "duration": 10,
    "start_time": "2025-05-03T03:43:24.420Z"
   },
   {
    "duration": 16,
    "start_time": "2025-05-03T03:43:30.832Z"
   },
   {
    "duration": 12,
    "start_time": "2025-05-03T03:43:35.875Z"
   },
   {
    "duration": 16,
    "start_time": "2025-05-03T03:44:08.166Z"
   },
   {
    "duration": 17,
    "start_time": "2025-05-03T03:44:27.550Z"
   },
   {
    "duration": 16,
    "start_time": "2025-05-03T03:44:54.990Z"
   },
   {
    "duration": 6,
    "start_time": "2025-05-03T03:47:26.200Z"
   },
   {
    "duration": 10,
    "start_time": "2025-05-03T03:47:35.169Z"
   },
   {
    "duration": 719,
    "start_time": "2025-05-03T03:47:59.511Z"
   },
   {
    "duration": 25,
    "start_time": "2025-05-03T03:48:00.232Z"
   },
   {
    "duration": 16,
    "start_time": "2025-05-03T03:48:00.258Z"
   },
   {
    "duration": 20,
    "start_time": "2025-05-03T03:48:00.276Z"
   },
   {
    "duration": 50,
    "start_time": "2025-05-03T03:48:00.298Z"
   },
   {
    "duration": 68,
    "start_time": "2025-05-03T03:48:00.350Z"
   },
   {
    "duration": 64,
    "start_time": "2025-05-03T03:48:00.420Z"
   },
   {
    "duration": 42,
    "start_time": "2025-05-03T03:48:00.485Z"
   },
   {
    "duration": 13,
    "start_time": "2025-05-03T03:48:00.529Z"
   },
   {
    "duration": 10,
    "start_time": "2025-05-03T03:48:00.544Z"
   },
   {
    "duration": 5,
    "start_time": "2025-05-03T03:48:00.556Z"
   },
   {
    "duration": 33,
    "start_time": "2025-05-03T03:48:00.562Z"
   },
   {
    "duration": 20,
    "start_time": "2025-05-03T03:48:00.596Z"
   },
   {
    "duration": 15,
    "start_time": "2025-05-03T03:48:00.618Z"
   },
   {
    "duration": 15,
    "start_time": "2025-05-03T03:48:00.634Z"
   },
   {
    "duration": 248,
    "start_time": "2025-05-03T03:48:00.651Z"
   },
   {
    "duration": 129,
    "start_time": "2025-05-03T03:48:00.905Z"
   },
   {
    "duration": 10,
    "start_time": "2025-05-03T03:48:01.036Z"
   },
   {
    "duration": 145,
    "start_time": "2025-05-03T03:48:01.047Z"
   },
   {
    "duration": 187,
    "start_time": "2025-05-03T03:48:01.194Z"
   },
   {
    "duration": 9,
    "start_time": "2025-05-03T03:48:01.383Z"
   },
   {
    "duration": 22,
    "start_time": "2025-05-03T03:48:01.394Z"
   },
   {
    "duration": 9,
    "start_time": "2025-05-03T03:48:01.418Z"
   },
   {
    "duration": 8,
    "start_time": "2025-05-03T03:48:01.429Z"
   },
   {
    "duration": 15,
    "start_time": "2025-05-03T03:48:01.438Z"
   },
   {
    "duration": 543,
    "start_time": "2025-05-03T03:48:01.454Z"
   },
   {
    "duration": 22,
    "start_time": "2025-05-03T03:48:01.999Z"
   },
   {
    "duration": 1738,
    "start_time": "2025-05-03T03:48:02.024Z"
   },
   {
    "duration": 11,
    "start_time": "2025-05-03T03:48:03.764Z"
   },
   {
    "duration": 39,
    "start_time": "2025-05-03T03:48:03.777Z"
   },
   {
    "duration": 53,
    "start_time": "2025-05-03T03:48:03.817Z"
   },
   {
    "duration": 36,
    "start_time": "2025-05-03T03:48:03.872Z"
   },
   {
    "duration": 9,
    "start_time": "2025-05-03T03:48:03.910Z"
   },
   {
    "duration": 31,
    "start_time": "2025-05-03T03:48:03.921Z"
   },
   {
    "duration": 67,
    "start_time": "2025-05-03T03:48:03.953Z"
   },
   {
    "duration": 27,
    "start_time": "2025-05-03T03:48:04.022Z"
   },
   {
    "duration": 55,
    "start_time": "2025-05-03T03:48:04.051Z"
   },
   {
    "duration": 11,
    "start_time": "2025-05-03T03:48:04.108Z"
   },
   {
    "duration": 16,
    "start_time": "2025-05-03T03:48:04.120Z"
   },
   {
    "duration": 12,
    "start_time": "2025-05-03T03:48:04.137Z"
   },
   {
    "duration": 18,
    "start_time": "2025-05-03T03:48:04.150Z"
   },
   {
    "duration": 150,
    "start_time": "2025-05-03T03:48:04.170Z"
   },
   {
    "duration": 933,
    "start_time": "2025-05-03T03:48:04.321Z"
   },
   {
    "duration": 8,
    "start_time": "2025-05-03T03:48:05.256Z"
   },
   {
    "duration": 382,
    "start_time": "2025-05-03T03:48:05.266Z"
   },
   {
    "duration": 338,
    "start_time": "2025-05-03T03:48:05.649Z"
   },
   {
    "duration": 135,
    "start_time": "2025-05-03T03:48:05.989Z"
   },
   {
    "duration": 72,
    "start_time": "2025-05-03T03:48:06.126Z"
   },
   {
    "duration": 724,
    "start_time": "2025-05-03T03:52:15.373Z"
   },
   {
    "duration": 26,
    "start_time": "2025-05-03T03:52:16.099Z"
   },
   {
    "duration": 16,
    "start_time": "2025-05-03T03:52:16.127Z"
   },
   {
    "duration": 18,
    "start_time": "2025-05-03T03:52:16.145Z"
   },
   {
    "duration": 8,
    "start_time": "2025-05-03T03:52:16.165Z"
   },
   {
    "duration": 9,
    "start_time": "2025-05-03T03:52:16.174Z"
   },
   {
    "duration": 26,
    "start_time": "2025-05-03T03:52:16.185Z"
   },
   {
    "duration": 14,
    "start_time": "2025-05-03T03:52:16.213Z"
   },
   {
    "duration": 5,
    "start_time": "2025-05-03T03:52:16.229Z"
   },
   {
    "duration": 7,
    "start_time": "2025-05-03T03:52:16.238Z"
   },
   {
    "duration": 5,
    "start_time": "2025-05-03T03:52:16.247Z"
   },
   {
    "duration": 57,
    "start_time": "2025-05-03T03:52:16.254Z"
   },
   {
    "duration": 57,
    "start_time": "2025-05-03T03:52:16.313Z"
   },
   {
    "duration": 11,
    "start_time": "2025-05-03T03:52:16.372Z"
   },
   {
    "duration": 13,
    "start_time": "2025-05-03T03:52:16.385Z"
   },
   {
    "duration": 235,
    "start_time": "2025-05-03T03:52:16.400Z"
   },
   {
    "duration": 136,
    "start_time": "2025-05-03T03:52:16.637Z"
   },
   {
    "duration": 9,
    "start_time": "2025-05-03T03:52:16.775Z"
   },
   {
    "duration": 24,
    "start_time": "2025-05-03T03:52:16.785Z"
   },
   {
    "duration": 183,
    "start_time": "2025-05-03T03:52:16.811Z"
   },
   {
    "duration": 12,
    "start_time": "2025-05-03T03:52:16.996Z"
   },
   {
    "duration": 8,
    "start_time": "2025-05-03T03:52:17.009Z"
   },
   {
    "duration": 10,
    "start_time": "2025-05-03T03:52:17.018Z"
   },
   {
    "duration": 8,
    "start_time": "2025-05-03T03:52:17.029Z"
   },
   {
    "duration": 144,
    "start_time": "2025-05-03T03:52:17.039Z"
   },
   {
    "duration": 507,
    "start_time": "2025-05-03T03:52:17.185Z"
   },
   {
    "duration": 24,
    "start_time": "2025-05-03T03:52:17.695Z"
   },
   {
    "duration": 1760,
    "start_time": "2025-05-03T03:52:17.724Z"
   },
   {
    "duration": 20,
    "start_time": "2025-05-03T03:52:19.486Z"
   },
   {
    "duration": 64,
    "start_time": "2025-05-03T03:52:19.508Z"
   },
   {
    "duration": 30,
    "start_time": "2025-05-03T03:52:19.574Z"
   },
   {
    "duration": 11,
    "start_time": "2025-05-03T03:52:19.606Z"
   },
   {
    "duration": 13,
    "start_time": "2025-05-03T03:52:19.619Z"
   },
   {
    "duration": 11,
    "start_time": "2025-05-03T03:52:19.633Z"
   },
   {
    "duration": 16,
    "start_time": "2025-05-03T03:52:19.646Z"
   },
   {
    "duration": 9,
    "start_time": "2025-05-03T03:52:19.664Z"
   },
   {
    "duration": 43,
    "start_time": "2025-05-03T03:52:19.675Z"
   },
   {
    "duration": 11,
    "start_time": "2025-05-03T03:52:19.720Z"
   },
   {
    "duration": 20,
    "start_time": "2025-05-03T03:52:19.733Z"
   },
   {
    "duration": 10,
    "start_time": "2025-05-03T03:52:19.754Z"
   },
   {
    "duration": 17,
    "start_time": "2025-05-03T03:52:19.765Z"
   },
   {
    "duration": 128,
    "start_time": "2025-05-03T03:52:19.806Z"
   },
   {
    "duration": 923,
    "start_time": "2025-05-03T03:52:19.935Z"
   },
   {
    "duration": 8,
    "start_time": "2025-05-03T03:52:20.860Z"
   },
   {
    "duration": 358,
    "start_time": "2025-05-03T03:52:20.870Z"
   },
   {
    "duration": 326,
    "start_time": "2025-05-03T03:52:21.229Z"
   },
   {
    "duration": 119,
    "start_time": "2025-05-03T03:52:21.557Z"
   },
   {
    "duration": 65,
    "start_time": "2025-05-03T03:52:21.678Z"
   },
   {
    "duration": 106,
    "start_time": "2025-05-03T03:53:41.926Z"
   },
   {
    "duration": 12,
    "start_time": "2025-05-03T03:53:46.188Z"
   },
   {
    "duration": 16,
    "start_time": "2025-05-03T03:54:16.916Z"
   },
   {
    "duration": 15,
    "start_time": "2025-05-03T03:54:50.436Z"
   },
   {
    "duration": 15,
    "start_time": "2025-05-03T03:54:53.505Z"
   },
   {
    "duration": 18,
    "start_time": "2025-05-03T03:54:58.288Z"
   },
   {
    "duration": 236,
    "start_time": "2025-05-03T03:55:01.310Z"
   },
   {
    "duration": 16,
    "start_time": "2025-05-03T03:55:08.814Z"
   },
   {
    "duration": 16,
    "start_time": "2025-05-03T03:55:17.186Z"
   },
   {
    "duration": 12,
    "start_time": "2025-05-03T03:55:40.837Z"
   },
   {
    "duration": 928,
    "start_time": "2025-05-03T03:56:46.579Z"
   },
   {
    "duration": 22,
    "start_time": "2025-05-03T03:57:13.472Z"
   },
   {
    "duration": 28,
    "start_time": "2025-05-03T03:59:42.686Z"
   },
   {
    "duration": 20,
    "start_time": "2025-05-03T04:00:45.707Z"
   },
   {
    "duration": 12,
    "start_time": "2025-05-03T04:00:50.898Z"
   },
   {
    "duration": 13,
    "start_time": "2025-05-03T04:02:51.491Z"
   },
   {
    "duration": 19,
    "start_time": "2025-05-03T04:03:27.818Z"
   },
   {
    "duration": 59,
    "start_time": "2025-05-03T04:05:19.294Z"
   },
   {
    "duration": 18,
    "start_time": "2025-05-03T04:05:34.862Z"
   },
   {
    "duration": 5,
    "start_time": "2025-05-03T04:05:38.597Z"
   },
   {
    "duration": 14,
    "start_time": "2025-05-03T04:05:45.709Z"
   },
   {
    "duration": 696,
    "start_time": "2025-05-03T04:06:54.798Z"
   },
   {
    "duration": 26,
    "start_time": "2025-05-03T04:06:55.496Z"
   },
   {
    "duration": 16,
    "start_time": "2025-05-03T04:06:55.523Z"
   },
   {
    "duration": 12,
    "start_time": "2025-05-03T04:06:55.541Z"
   },
   {
    "duration": 5,
    "start_time": "2025-05-03T04:06:55.554Z"
   },
   {
    "duration": 8,
    "start_time": "2025-05-03T04:06:55.560Z"
   },
   {
    "duration": 16,
    "start_time": "2025-05-03T04:06:55.569Z"
   },
   {
    "duration": 25,
    "start_time": "2025-05-03T04:06:55.587Z"
   },
   {
    "duration": 4,
    "start_time": "2025-05-03T04:06:55.614Z"
   },
   {
    "duration": 15,
    "start_time": "2025-05-03T04:06:55.620Z"
   },
   {
    "duration": 5,
    "start_time": "2025-05-03T04:06:55.637Z"
   },
   {
    "duration": 11,
    "start_time": "2025-05-03T04:06:55.643Z"
   },
   {
    "duration": 16,
    "start_time": "2025-05-03T04:06:55.655Z"
   },
   {
    "duration": 37,
    "start_time": "2025-05-03T04:06:55.676Z"
   },
   {
    "duration": 29,
    "start_time": "2025-05-03T04:06:55.715Z"
   },
   {
    "duration": 230,
    "start_time": "2025-05-03T04:06:55.746Z"
   },
   {
    "duration": 167,
    "start_time": "2025-05-03T04:06:55.978Z"
   },
   {
    "duration": 8,
    "start_time": "2025-05-03T04:06:56.147Z"
   },
   {
    "duration": 26,
    "start_time": "2025-05-03T04:06:56.156Z"
   },
   {
    "duration": 199,
    "start_time": "2025-05-03T04:06:56.184Z"
   },
   {
    "duration": 8,
    "start_time": "2025-05-03T04:06:56.384Z"
   },
   {
    "duration": 51,
    "start_time": "2025-05-03T04:06:56.394Z"
   },
   {
    "duration": 9,
    "start_time": "2025-05-03T04:06:56.447Z"
   },
   {
    "duration": 29,
    "start_time": "2025-05-03T04:06:56.457Z"
   },
   {
    "duration": 15,
    "start_time": "2025-05-03T04:06:56.488Z"
   },
   {
    "duration": 504,
    "start_time": "2025-05-03T04:06:56.504Z"
   },
   {
    "duration": 17,
    "start_time": "2025-05-03T04:06:57.010Z"
   },
   {
    "duration": 1634,
    "start_time": "2025-05-03T04:06:57.031Z"
   },
   {
    "duration": 12,
    "start_time": "2025-05-03T04:06:58.667Z"
   },
   {
    "duration": 28,
    "start_time": "2025-05-03T04:06:58.681Z"
   },
   {
    "duration": 41,
    "start_time": "2025-05-03T04:06:58.711Z"
   },
   {
    "duration": 11,
    "start_time": "2025-05-03T04:06:58.754Z"
   },
   {
    "duration": 10,
    "start_time": "2025-05-03T04:06:58.767Z"
   },
   {
    "duration": 27,
    "start_time": "2025-05-03T04:06:58.779Z"
   },
   {
    "duration": 12,
    "start_time": "2025-05-03T04:06:58.808Z"
   },
   {
    "duration": 10,
    "start_time": "2025-05-03T04:06:58.821Z"
   },
   {
    "duration": 17,
    "start_time": "2025-05-03T04:06:58.832Z"
   },
   {
    "duration": 18,
    "start_time": "2025-05-03T04:06:58.850Z"
   },
   {
    "duration": 45,
    "start_time": "2025-05-03T04:06:58.870Z"
   },
   {
    "duration": 21,
    "start_time": "2025-05-03T04:06:58.917Z"
   },
   {
    "duration": 8,
    "start_time": "2025-05-03T04:06:58.940Z"
   },
   {
    "duration": 15,
    "start_time": "2025-05-03T04:06:58.950Z"
   },
   {
    "duration": 154,
    "start_time": "2025-05-03T04:06:58.967Z"
   },
   {
    "duration": 939,
    "start_time": "2025-05-03T04:06:59.123Z"
   },
   {
    "duration": 10,
    "start_time": "2025-05-03T04:07:00.064Z"
   },
   {
    "duration": 386,
    "start_time": "2025-05-03T04:07:00.076Z"
   },
   {
    "duration": 330,
    "start_time": "2025-05-03T04:07:00.464Z"
   },
   {
    "duration": 122,
    "start_time": "2025-05-03T04:07:00.796Z"
   },
   {
    "duration": 61,
    "start_time": "2025-05-03T04:07:00.920Z"
   },
   {
    "duration": 706,
    "start_time": "2025-05-03T04:12:09.090Z"
   },
   {
    "duration": 38,
    "start_time": "2025-05-03T04:12:09.798Z"
   },
   {
    "duration": 17,
    "start_time": "2025-05-03T04:12:09.837Z"
   },
   {
    "duration": 16,
    "start_time": "2025-05-03T04:12:09.856Z"
   },
   {
    "duration": 3,
    "start_time": "2025-05-03T04:12:09.874Z"
   },
   {
    "duration": 20,
    "start_time": "2025-05-03T04:12:09.879Z"
   },
   {
    "duration": 10,
    "start_time": "2025-05-03T04:12:09.901Z"
   },
   {
    "duration": 45,
    "start_time": "2025-05-03T04:12:09.913Z"
   },
   {
    "duration": 13,
    "start_time": "2025-05-03T04:12:09.960Z"
   },
   {
    "duration": 54,
    "start_time": "2025-05-03T04:12:09.976Z"
   },
   {
    "duration": 25,
    "start_time": "2025-05-03T04:12:10.032Z"
   },
   {
    "duration": 9,
    "start_time": "2025-05-03T04:12:10.059Z"
   },
   {
    "duration": 16,
    "start_time": "2025-05-03T04:12:10.070Z"
   },
   {
    "duration": 14,
    "start_time": "2025-05-03T04:12:10.087Z"
   },
   {
    "duration": 25,
    "start_time": "2025-05-03T04:12:10.103Z"
   },
   {
    "duration": 231,
    "start_time": "2025-05-03T04:12:10.130Z"
   },
   {
    "duration": 142,
    "start_time": "2025-05-03T04:12:10.363Z"
   },
   {
    "duration": 9,
    "start_time": "2025-05-03T04:12:10.507Z"
   },
   {
    "duration": 8,
    "start_time": "2025-05-03T04:12:10.518Z"
   },
   {
    "duration": 199,
    "start_time": "2025-05-03T04:12:10.528Z"
   },
   {
    "duration": 8,
    "start_time": "2025-05-03T04:12:10.729Z"
   },
   {
    "duration": 7,
    "start_time": "2025-05-03T04:12:10.739Z"
   },
   {
    "duration": 11,
    "start_time": "2025-05-03T04:12:10.747Z"
   },
   {
    "duration": 35,
    "start_time": "2025-05-03T04:12:10.760Z"
   },
   {
    "duration": 14,
    "start_time": "2025-05-03T04:12:10.796Z"
   },
   {
    "duration": 489,
    "start_time": "2025-05-03T04:12:10.812Z"
   },
   {
    "duration": 16,
    "start_time": "2025-05-03T04:12:11.305Z"
   },
   {
    "duration": 1639,
    "start_time": "2025-05-03T04:12:11.325Z"
   },
   {
    "duration": 11,
    "start_time": "2025-05-03T04:12:12.966Z"
   },
   {
    "duration": 16,
    "start_time": "2025-05-03T04:12:12.979Z"
   },
   {
    "duration": 29,
    "start_time": "2025-05-03T04:12:13.005Z"
   },
   {
    "duration": 10,
    "start_time": "2025-05-03T04:12:13.036Z"
   },
   {
    "duration": 30,
    "start_time": "2025-05-03T04:12:13.048Z"
   },
   {
    "duration": 20,
    "start_time": "2025-05-03T04:12:13.080Z"
   },
   {
    "duration": 17,
    "start_time": "2025-05-03T04:12:13.101Z"
   },
   {
    "duration": 10,
    "start_time": "2025-05-03T04:12:13.119Z"
   },
   {
    "duration": 38,
    "start_time": "2025-05-03T04:12:13.130Z"
   },
   {
    "duration": 111,
    "start_time": "2025-05-03T04:12:13.169Z"
   },
   {
    "duration": 13,
    "start_time": "2025-05-03T04:12:13.281Z"
   },
   {
    "duration": 16,
    "start_time": "2025-05-03T04:12:13.295Z"
   },
   {
    "duration": 8,
    "start_time": "2025-05-03T04:12:13.312Z"
   },
   {
    "duration": 14,
    "start_time": "2025-05-03T04:12:13.321Z"
   },
   {
    "duration": 137,
    "start_time": "2025-05-03T04:12:13.337Z"
   },
   {
    "duration": 935,
    "start_time": "2025-05-03T04:12:13.475Z"
   },
   {
    "duration": 9,
    "start_time": "2025-05-03T04:12:14.412Z"
   },
   {
    "duration": 414,
    "start_time": "2025-05-03T04:12:14.423Z"
   },
   {
    "duration": 354,
    "start_time": "2025-05-03T04:12:14.839Z"
   },
   {
    "duration": 116,
    "start_time": "2025-05-03T04:12:15.195Z"
   },
   {
    "duration": 91,
    "start_time": "2025-05-03T04:12:15.313Z"
   },
   {
    "duration": 9,
    "start_time": "2025-05-03T04:13:44.701Z"
   },
   {
    "duration": 11,
    "start_time": "2025-05-03T04:13:50.838Z"
   },
   {
    "duration": 13,
    "start_time": "2025-05-03T04:13:54.738Z"
   },
   {
    "duration": 720,
    "start_time": "2025-05-03T04:14:09.010Z"
   },
   {
    "duration": 28,
    "start_time": "2025-05-03T04:14:09.733Z"
   },
   {
    "duration": 17,
    "start_time": "2025-05-03T04:14:09.762Z"
   },
   {
    "duration": 13,
    "start_time": "2025-05-03T04:14:09.781Z"
   },
   {
    "duration": 13,
    "start_time": "2025-05-03T04:14:09.795Z"
   },
   {
    "duration": 11,
    "start_time": "2025-05-03T04:14:09.809Z"
   },
   {
    "duration": 7,
    "start_time": "2025-05-03T04:14:09.822Z"
   },
   {
    "duration": 13,
    "start_time": "2025-05-03T04:14:09.831Z"
   },
   {
    "duration": 4,
    "start_time": "2025-05-03T04:14:09.845Z"
   },
   {
    "duration": 7,
    "start_time": "2025-05-03T04:14:09.852Z"
   },
   {
    "duration": 46,
    "start_time": "2025-05-03T04:14:09.860Z"
   },
   {
    "duration": 9,
    "start_time": "2025-05-03T04:14:09.907Z"
   },
   {
    "duration": 10,
    "start_time": "2025-05-03T04:14:09.918Z"
   },
   {
    "duration": 11,
    "start_time": "2025-05-03T04:14:09.930Z"
   },
   {
    "duration": 12,
    "start_time": "2025-05-03T04:14:09.943Z"
   },
   {
    "duration": 262,
    "start_time": "2025-05-03T04:14:09.957Z"
   },
   {
    "duration": 133,
    "start_time": "2025-05-03T04:14:10.220Z"
   },
   {
    "duration": 8,
    "start_time": "2025-05-03T04:14:10.355Z"
   },
   {
    "duration": 13,
    "start_time": "2025-05-03T04:14:10.365Z"
   },
   {
    "duration": 194,
    "start_time": "2025-05-03T04:14:10.380Z"
   },
   {
    "duration": 8,
    "start_time": "2025-05-03T04:14:10.576Z"
   },
   {
    "duration": 25,
    "start_time": "2025-05-03T04:14:10.586Z"
   },
   {
    "duration": 16,
    "start_time": "2025-05-03T04:14:10.612Z"
   },
   {
    "duration": 9,
    "start_time": "2025-05-03T04:14:10.629Z"
   },
   {
    "duration": 17,
    "start_time": "2025-05-03T04:14:10.640Z"
   },
   {
    "duration": 546,
    "start_time": "2025-05-03T04:14:10.659Z"
   },
   {
    "duration": 16,
    "start_time": "2025-05-03T04:14:11.207Z"
   },
   {
    "duration": 1584,
    "start_time": "2025-05-03T04:14:11.226Z"
   },
   {
    "duration": 10,
    "start_time": "2025-05-03T04:14:12.812Z"
   },
   {
    "duration": 15,
    "start_time": "2025-05-03T04:14:12.824Z"
   },
   {
    "duration": 30,
    "start_time": "2025-05-03T04:14:12.841Z"
   },
   {
    "duration": 43,
    "start_time": "2025-05-03T04:14:12.873Z"
   },
   {
    "duration": 10,
    "start_time": "2025-05-03T04:14:12.918Z"
   },
   {
    "duration": 10,
    "start_time": "2025-05-03T04:14:12.930Z"
   },
   {
    "duration": 29,
    "start_time": "2025-05-03T04:14:12.942Z"
   },
   {
    "duration": 15,
    "start_time": "2025-05-03T04:14:12.973Z"
   },
   {
    "duration": 16,
    "start_time": "2025-05-03T04:14:13.006Z"
   },
   {
    "duration": 17,
    "start_time": "2025-05-03T04:14:13.024Z"
   },
   {
    "duration": 12,
    "start_time": "2025-05-03T04:14:13.042Z"
   },
   {
    "duration": 16,
    "start_time": "2025-05-03T04:14:13.056Z"
   },
   {
    "duration": 45,
    "start_time": "2025-05-03T04:14:13.073Z"
   },
   {
    "duration": 134,
    "start_time": "2025-05-03T04:14:13.119Z"
   },
   {
    "duration": 946,
    "start_time": "2025-05-03T04:14:13.255Z"
   },
   {
    "duration": 10,
    "start_time": "2025-05-03T04:14:14.204Z"
   },
   {
    "duration": 374,
    "start_time": "2025-05-03T04:14:14.216Z"
   },
   {
    "duration": 326,
    "start_time": "2025-05-03T04:14:14.591Z"
   },
   {
    "duration": 135,
    "start_time": "2025-05-03T04:14:14.919Z"
   },
   {
    "duration": 70,
    "start_time": "2025-05-03T04:14:15.056Z"
   },
   {
    "duration": 17,
    "start_time": "2025-05-03T04:18:39.189Z"
   },
   {
    "duration": 714,
    "start_time": "2025-05-03T04:19:13.992Z"
   },
   {
    "duration": 26,
    "start_time": "2025-05-03T04:19:14.708Z"
   },
   {
    "duration": 16,
    "start_time": "2025-05-03T04:19:14.736Z"
   },
   {
    "duration": 12,
    "start_time": "2025-05-03T04:19:14.754Z"
   },
   {
    "duration": 4,
    "start_time": "2025-05-03T04:19:14.767Z"
   },
   {
    "duration": 6,
    "start_time": "2025-05-03T04:19:14.773Z"
   },
   {
    "duration": 26,
    "start_time": "2025-05-03T04:19:14.780Z"
   },
   {
    "duration": 13,
    "start_time": "2025-05-03T04:19:14.808Z"
   },
   {
    "duration": 4,
    "start_time": "2025-05-03T04:19:14.822Z"
   },
   {
    "duration": 7,
    "start_time": "2025-05-03T04:19:14.829Z"
   },
   {
    "duration": 4,
    "start_time": "2025-05-03T04:19:14.838Z"
   },
   {
    "duration": 9,
    "start_time": "2025-05-03T04:19:14.844Z"
   },
   {
    "duration": 51,
    "start_time": "2025-05-03T04:19:14.854Z"
   },
   {
    "duration": 11,
    "start_time": "2025-05-03T04:19:14.907Z"
   },
   {
    "duration": 12,
    "start_time": "2025-05-03T04:19:14.919Z"
   },
   {
    "duration": 262,
    "start_time": "2025-05-03T04:19:14.933Z"
   },
   {
    "duration": 136,
    "start_time": "2025-05-03T04:19:15.205Z"
   },
   {
    "duration": 10,
    "start_time": "2025-05-03T04:19:15.344Z"
   },
   {
    "duration": 38,
    "start_time": "2025-05-03T04:19:15.356Z"
   },
   {
    "duration": 215,
    "start_time": "2025-05-03T04:19:15.396Z"
   },
   {
    "duration": 8,
    "start_time": "2025-05-03T04:19:15.613Z"
   },
   {
    "duration": 87,
    "start_time": "2025-05-03T04:19:15.622Z"
   },
   {
    "duration": 11,
    "start_time": "2025-05-03T04:19:15.711Z"
   },
   {
    "duration": 20,
    "start_time": "2025-05-03T04:19:15.723Z"
   },
   {
    "duration": 24,
    "start_time": "2025-05-03T04:19:15.745Z"
   },
   {
    "duration": 552,
    "start_time": "2025-05-03T04:19:15.771Z"
   },
   {
    "duration": 16,
    "start_time": "2025-05-03T04:19:16.325Z"
   },
   {
    "duration": 1609,
    "start_time": "2025-05-03T04:19:16.345Z"
   },
   {
    "duration": 12,
    "start_time": "2025-05-03T04:19:17.956Z"
   },
   {
    "duration": 35,
    "start_time": "2025-05-03T04:19:17.970Z"
   },
   {
    "duration": 63,
    "start_time": "2025-05-03T04:19:18.007Z"
   },
   {
    "duration": 11,
    "start_time": "2025-05-03T04:19:18.072Z"
   },
   {
    "duration": 37,
    "start_time": "2025-05-03T04:19:18.085Z"
   },
   {
    "duration": 23,
    "start_time": "2025-05-03T04:19:18.123Z"
   },
   {
    "duration": 39,
    "start_time": "2025-05-03T04:19:18.147Z"
   },
   {
    "duration": 24,
    "start_time": "2025-05-03T04:19:18.188Z"
   },
   {
    "duration": 30,
    "start_time": "2025-05-03T04:19:18.214Z"
   },
   {
    "duration": 24,
    "start_time": "2025-05-03T04:19:18.245Z"
   },
   {
    "duration": 133,
    "start_time": "2025-05-03T04:19:18.270Z"
   },
   {
    "duration": 928,
    "start_time": "2025-05-03T04:19:18.405Z"
   },
   {
    "duration": 9,
    "start_time": "2025-05-03T04:19:19.335Z"
   },
   {
    "duration": 376,
    "start_time": "2025-05-03T04:19:19.346Z"
   },
   {
    "duration": 331,
    "start_time": "2025-05-03T04:19:19.724Z"
   },
   {
    "duration": 111,
    "start_time": "2025-05-03T04:19:20.056Z"
   },
   {
    "duration": 12,
    "start_time": "2025-05-03T04:19:20.169Z"
   },
   {
    "duration": 77,
    "start_time": "2025-05-03T04:19:20.183Z"
   },
   {
    "duration": 108,
    "start_time": "2025-05-03T04:22:38.213Z"
   },
   {
    "duration": 12,
    "start_time": "2025-05-03T04:22:50.633Z"
   },
   {
    "duration": 22,
    "start_time": "2025-05-03T04:23:06.350Z"
   },
   {
    "duration": 10,
    "start_time": "2025-05-03T04:26:52.432Z"
   },
   {
    "duration": 704,
    "start_time": "2025-05-03T04:27:05.145Z"
   },
   {
    "duration": 26,
    "start_time": "2025-05-03T04:27:05.851Z"
   },
   {
    "duration": 18,
    "start_time": "2025-05-03T04:27:05.879Z"
   },
   {
    "duration": 15,
    "start_time": "2025-05-03T04:27:05.899Z"
   },
   {
    "duration": 19,
    "start_time": "2025-05-03T04:27:05.915Z"
   },
   {
    "duration": 11,
    "start_time": "2025-05-03T04:27:05.936Z"
   },
   {
    "duration": 11,
    "start_time": "2025-05-03T04:27:05.949Z"
   },
   {
    "duration": 33,
    "start_time": "2025-05-03T04:27:05.962Z"
   },
   {
    "duration": 29,
    "start_time": "2025-05-03T04:27:05.997Z"
   },
   {
    "duration": 29,
    "start_time": "2025-05-03T04:27:06.029Z"
   },
   {
    "duration": 15,
    "start_time": "2025-05-03T04:27:06.060Z"
   },
   {
    "duration": 34,
    "start_time": "2025-05-03T04:27:06.078Z"
   },
   {
    "duration": 23,
    "start_time": "2025-05-03T04:27:06.114Z"
   },
   {
    "duration": 16,
    "start_time": "2025-05-03T04:27:06.139Z"
   },
   {
    "duration": 52,
    "start_time": "2025-05-03T04:27:06.157Z"
   },
   {
    "duration": 230,
    "start_time": "2025-05-03T04:27:06.210Z"
   },
   {
    "duration": 141,
    "start_time": "2025-05-03T04:27:06.442Z"
   },
   {
    "duration": 20,
    "start_time": "2025-05-03T04:27:06.585Z"
   },
   {
    "duration": 7,
    "start_time": "2025-05-03T04:27:06.607Z"
   },
   {
    "duration": 190,
    "start_time": "2025-05-03T04:27:06.616Z"
   },
   {
    "duration": 8,
    "start_time": "2025-05-03T04:27:06.808Z"
   },
   {
    "duration": 8,
    "start_time": "2025-05-03T04:27:06.818Z"
   },
   {
    "duration": 11,
    "start_time": "2025-05-03T04:27:06.828Z"
   },
   {
    "duration": 10,
    "start_time": "2025-05-03T04:27:06.841Z"
   },
   {
    "duration": 37,
    "start_time": "2025-05-03T04:27:06.853Z"
   },
   {
    "duration": 500,
    "start_time": "2025-05-03T04:27:06.906Z"
   },
   {
    "duration": 16,
    "start_time": "2025-05-03T04:27:07.408Z"
   },
   {
    "duration": 1626,
    "start_time": "2025-05-03T04:27:07.428Z"
   },
   {
    "duration": 12,
    "start_time": "2025-05-03T04:27:09.056Z"
   },
   {
    "duration": 13,
    "start_time": "2025-05-03T04:27:09.070Z"
   },
   {
    "duration": 30,
    "start_time": "2025-05-03T04:27:09.105Z"
   },
   {
    "duration": 11,
    "start_time": "2025-05-03T04:27:09.137Z"
   },
   {
    "duration": 14,
    "start_time": "2025-05-03T04:27:09.150Z"
   },
   {
    "duration": 9,
    "start_time": "2025-05-03T04:27:09.166Z"
   },
   {
    "duration": 15,
    "start_time": "2025-05-03T04:27:09.206Z"
   },
   {
    "duration": 117,
    "start_time": "2025-05-03T04:27:09.223Z"
   },
   {
    "duration": 4,
    "start_time": "2025-05-03T04:27:09.342Z"
   },
   {
    "duration": 29,
    "start_time": "2025-05-03T04:27:09.348Z"
   },
   {
    "duration": 19,
    "start_time": "2025-05-03T04:27:09.378Z"
   },
   {
    "duration": 8,
    "start_time": "2025-05-03T04:27:09.399Z"
   },
   {
    "duration": 14,
    "start_time": "2025-05-03T04:27:09.409Z"
   },
   {
    "duration": 135,
    "start_time": "2025-05-03T04:27:09.424Z"
   },
   {
    "duration": 925,
    "start_time": "2025-05-03T04:27:09.561Z"
   },
   {
    "duration": 23,
    "start_time": "2025-05-03T04:27:10.488Z"
   },
   {
    "duration": 365,
    "start_time": "2025-05-03T04:27:10.513Z"
   },
   {
    "duration": 326,
    "start_time": "2025-05-03T04:27:10.880Z"
   },
   {
    "duration": 113,
    "start_time": "2025-05-03T04:27:11.208Z"
   },
   {
    "duration": 12,
    "start_time": "2025-05-03T04:27:11.323Z"
   },
   {
    "duration": 69,
    "start_time": "2025-05-03T04:27:11.337Z"
   },
   {
    "duration": 140,
    "start_time": "2025-05-03T04:31:20.634Z"
   },
   {
    "duration": 143,
    "start_time": "2025-05-03T04:36:01.228Z"
   },
   {
    "duration": 150,
    "start_time": "2025-05-03T04:36:03.288Z"
   },
   {
    "duration": 3,
    "start_time": "2025-05-03T04:40:23.149Z"
   },
   {
    "duration": 4,
    "start_time": "2025-05-03T04:40:42.690Z"
   },
   {
    "duration": 4,
    "start_time": "2025-05-03T04:49:17.942Z"
   },
   {
    "duration": 376,
    "start_time": "2025-05-03T04:49:23.693Z"
   },
   {
    "duration": 403,
    "start_time": "2025-05-03T04:49:52.012Z"
   },
   {
    "duration": 126,
    "start_time": "2025-05-03T04:53:06.032Z"
   },
   {
    "duration": 247,
    "start_time": "2025-05-03T04:53:31.095Z"
   },
   {
    "duration": 8,
    "start_time": "2025-05-03T04:56:31.627Z"
   },
   {
    "duration": 31,
    "start_time": "2025-05-03T04:56:38.312Z"
   },
   {
    "duration": 27,
    "start_time": "2025-05-03T04:57:11.620Z"
   },
   {
    "duration": 15,
    "start_time": "2025-05-03T05:27:24.606Z"
   },
   {
    "duration": 21,
    "start_time": "2025-05-03T05:28:02.383Z"
   },
   {
    "duration": 61,
    "start_time": "2025-05-03T05:38:54.420Z"
   },
   {
    "duration": 57,
    "start_time": "2025-05-03T05:39:08.505Z"
   },
   {
    "duration": 13,
    "start_time": "2025-05-03T05:39:12.797Z"
   },
   {
    "duration": 10,
    "start_time": "2025-05-03T05:39:20.055Z"
   },
   {
    "duration": 13,
    "start_time": "2025-05-03T05:46:48.822Z"
   },
   {
    "duration": 12,
    "start_time": "2025-05-03T05:47:03.308Z"
   },
   {
    "duration": 22,
    "start_time": "2025-05-03T05:47:18.340Z"
   },
   {
    "duration": 248,
    "start_time": "2025-05-03T05:49:14.507Z"
   },
   {
    "duration": 222,
    "start_time": "2025-05-03T05:49:20.556Z"
   },
   {
    "duration": 11,
    "start_time": "2025-05-03T05:50:39.337Z"
   },
   {
    "duration": 18,
    "start_time": "2025-05-03T05:50:46.074Z"
   },
   {
    "duration": 21,
    "start_time": "2025-05-03T05:51:49.206Z"
   },
   {
    "duration": 17,
    "start_time": "2025-05-03T05:52:01.364Z"
   },
   {
    "duration": 45,
    "start_time": "2025-05-03T05:52:15.355Z"
   },
   {
    "duration": 45,
    "start_time": "2025-05-03T05:53:43.144Z"
   },
   {
    "duration": 17,
    "start_time": "2025-05-03T05:53:53.788Z"
   },
   {
    "duration": 21,
    "start_time": "2025-05-03T05:54:23.778Z"
   },
   {
    "duration": 8,
    "start_time": "2025-05-03T05:56:15.536Z"
   },
   {
    "duration": 17,
    "start_time": "2025-05-03T05:56:37.643Z"
   },
   {
    "duration": 895,
    "start_time": "2025-05-03T05:56:47.298Z"
   },
   {
    "duration": 22,
    "start_time": "2025-05-03T05:56:51.063Z"
   },
   {
    "duration": 7,
    "start_time": "2025-05-03T05:56:53.883Z"
   },
   {
    "duration": 23,
    "start_time": "2025-05-03T07:11:37.325Z"
   },
   {
    "duration": 20,
    "start_time": "2025-05-03T07:15:21.168Z"
   },
   {
    "duration": 3,
    "start_time": "2025-05-03T07:15:37.816Z"
   },
   {
    "duration": 3,
    "start_time": "2025-05-03T07:15:42.191Z"
   },
   {
    "duration": 14,
    "start_time": "2025-05-03T07:15:45.822Z"
   },
   {
    "duration": 18,
    "start_time": "2025-05-03T07:16:43.302Z"
   },
   {
    "duration": 21,
    "start_time": "2025-05-03T07:28:46.302Z"
   },
   {
    "duration": 32,
    "start_time": "2025-05-03T07:29:15.519Z"
   },
   {
    "duration": 10,
    "start_time": "2025-05-03T07:29:35.053Z"
   },
   {
    "duration": 10,
    "start_time": "2025-05-03T07:29:37.239Z"
   },
   {
    "duration": 31,
    "start_time": "2025-05-03T07:29:52.887Z"
   },
   {
    "duration": 25,
    "start_time": "2025-05-03T07:30:21.135Z"
   },
   {
    "duration": 6,
    "start_time": "2025-05-03T07:30:45.692Z"
   },
   {
    "duration": 22,
    "start_time": "2025-05-03T07:30:51.948Z"
   },
   {
    "duration": 57,
    "start_time": "2025-05-03T07:35:09.194Z"
   },
   {
    "duration": 137,
    "start_time": "2025-05-03T07:35:18.408Z"
   },
   {
    "duration": 53,
    "start_time": "2025-05-03T08:05:44.917Z"
   },
   {
    "duration": 23,
    "start_time": "2025-05-03T08:09:29.461Z"
   },
   {
    "duration": 23,
    "start_time": "2025-05-03T08:09:41.919Z"
   },
   {
    "duration": 24,
    "start_time": "2025-05-03T08:09:51.566Z"
   },
   {
    "duration": 719,
    "start_time": "2025-05-03T08:12:21.223Z"
   },
   {
    "duration": 26,
    "start_time": "2025-05-03T08:12:21.944Z"
   },
   {
    "duration": 17,
    "start_time": "2025-05-03T08:12:21.971Z"
   },
   {
    "duration": 17,
    "start_time": "2025-05-03T08:12:21.990Z"
   },
   {
    "duration": 5,
    "start_time": "2025-05-03T08:12:22.010Z"
   },
   {
    "duration": 9,
    "start_time": "2025-05-03T08:12:22.016Z"
   },
   {
    "duration": 15,
    "start_time": "2025-05-03T08:12:22.027Z"
   },
   {
    "duration": 57,
    "start_time": "2025-05-03T08:12:22.044Z"
   },
   {
    "duration": 37,
    "start_time": "2025-05-03T08:12:22.103Z"
   },
   {
    "duration": 19,
    "start_time": "2025-05-03T08:12:22.141Z"
   },
   {
    "duration": 5,
    "start_time": "2025-05-03T08:12:22.162Z"
   },
   {
    "duration": 17,
    "start_time": "2025-05-03T08:12:22.169Z"
   },
   {
    "duration": 11,
    "start_time": "2025-05-03T08:12:22.188Z"
   },
   {
    "duration": 88,
    "start_time": "2025-05-03T08:12:22.202Z"
   },
   {
    "duration": 15,
    "start_time": "2025-05-03T08:12:22.292Z"
   },
   {
    "duration": 241,
    "start_time": "2025-05-03T08:12:22.309Z"
   },
   {
    "duration": 136,
    "start_time": "2025-05-03T08:12:22.552Z"
   },
   {
    "duration": 17,
    "start_time": "2025-05-03T08:12:22.690Z"
   },
   {
    "duration": 111,
    "start_time": "2025-05-03T08:12:22.709Z"
   },
   {
    "duration": 197,
    "start_time": "2025-05-03T08:12:22.822Z"
   },
   {
    "duration": 9,
    "start_time": "2025-05-03T08:12:23.021Z"
   },
   {
    "duration": 49,
    "start_time": "2025-05-03T08:12:23.031Z"
   },
   {
    "duration": 10,
    "start_time": "2025-05-03T08:12:23.082Z"
   },
   {
    "duration": 36,
    "start_time": "2025-05-03T08:12:23.094Z"
   },
   {
    "duration": 25,
    "start_time": "2025-05-03T08:12:23.132Z"
   },
   {
    "duration": 556,
    "start_time": "2025-05-03T08:12:23.159Z"
   },
   {
    "duration": 18,
    "start_time": "2025-05-03T08:12:23.717Z"
   },
   {
    "duration": 1561,
    "start_time": "2025-05-03T08:12:23.737Z"
   },
   {
    "duration": 11,
    "start_time": "2025-05-03T08:12:25.304Z"
   },
   {
    "duration": 21,
    "start_time": "2025-05-03T08:12:25.317Z"
   },
   {
    "duration": 58,
    "start_time": "2025-05-03T08:12:25.340Z"
   },
   {
    "duration": 11,
    "start_time": "2025-05-03T08:12:25.400Z"
   },
   {
    "duration": 22,
    "start_time": "2025-05-03T08:12:25.413Z"
   },
   {
    "duration": 12,
    "start_time": "2025-05-03T08:12:25.436Z"
   },
   {
    "duration": 22,
    "start_time": "2025-05-03T08:12:25.450Z"
   },
   {
    "duration": 18,
    "start_time": "2025-05-03T08:12:25.474Z"
   },
   {
    "duration": 4,
    "start_time": "2025-05-03T08:12:25.505Z"
   },
   {
    "duration": 24,
    "start_time": "2025-05-03T08:12:25.510Z"
   },
   {
    "duration": 54,
    "start_time": "2025-05-03T08:12:25.535Z"
   },
   {
    "duration": 70,
    "start_time": "2025-05-03T08:12:25.590Z"
   },
   {
    "duration": 147,
    "start_time": "2025-05-03T08:12:25.664Z"
   },
   {
    "duration": 155,
    "start_time": "2025-05-03T08:12:25.812Z"
   },
   {
    "duration": 191,
    "start_time": "2025-05-03T08:12:25.969Z"
   },
   {
    "duration": 13,
    "start_time": "2025-05-03T08:12:26.162Z"
   },
   {
    "duration": 145,
    "start_time": "2025-05-03T08:12:26.177Z"
   },
   {
    "duration": 944,
    "start_time": "2025-05-03T08:12:26.324Z"
   },
   {
    "duration": 10,
    "start_time": "2025-05-03T08:12:27.270Z"
   },
   {
    "duration": 448,
    "start_time": "2025-05-03T08:12:27.281Z"
   },
   {
    "duration": 63,
    "start_time": "2025-05-03T08:12:27.731Z"
   },
   {
    "duration": 278,
    "start_time": "2025-05-03T08:12:27.804Z"
   },
   {
    "duration": 43,
    "start_time": "2025-05-03T08:12:28.084Z"
   },
   {
    "duration": 44,
    "start_time": "2025-05-03T08:12:28.129Z"
   },
   {
    "duration": 42,
    "start_time": "2025-05-03T08:12:28.175Z"
   },
   {
    "duration": 96,
    "start_time": "2025-05-03T08:12:28.219Z"
   },
   {
    "duration": 30,
    "start_time": "2025-05-03T08:12:28.318Z"
   },
   {
    "duration": 32,
    "start_time": "2025-05-03T08:12:28.350Z"
   },
   {
    "duration": 56,
    "start_time": "2025-05-03T08:12:28.406Z"
   },
   {
    "duration": 42,
    "start_time": "2025-05-03T08:12:28.464Z"
   },
   {
    "duration": 22,
    "start_time": "2025-05-03T08:12:28.508Z"
   },
   {
    "duration": 52,
    "start_time": "2025-05-03T08:12:28.532Z"
   },
   {
    "duration": 41,
    "start_time": "2025-05-03T08:12:28.586Z"
   },
   {
    "duration": 54,
    "start_time": "2025-05-03T08:16:41.256Z"
   },
   {
    "duration": 730,
    "start_time": "2025-05-03T08:16:47.078Z"
   },
   {
    "duration": 27,
    "start_time": "2025-05-03T08:16:47.809Z"
   },
   {
    "duration": 17,
    "start_time": "2025-05-03T08:16:47.838Z"
   },
   {
    "duration": 21,
    "start_time": "2025-05-03T08:16:47.857Z"
   },
   {
    "duration": 5,
    "start_time": "2025-05-03T08:16:47.879Z"
   },
   {
    "duration": 31,
    "start_time": "2025-05-03T08:16:47.885Z"
   },
   {
    "duration": 17,
    "start_time": "2025-05-03T08:16:47.919Z"
   },
   {
    "duration": 22,
    "start_time": "2025-05-03T08:16:47.938Z"
   },
   {
    "duration": 7,
    "start_time": "2025-05-03T08:16:47.962Z"
   },
   {
    "duration": 35,
    "start_time": "2025-05-03T08:16:47.971Z"
   },
   {
    "duration": 6,
    "start_time": "2025-05-03T08:16:48.008Z"
   },
   {
    "duration": 15,
    "start_time": "2025-05-03T08:16:48.015Z"
   },
   {
    "duration": 12,
    "start_time": "2025-05-03T08:16:48.032Z"
   },
   {
    "duration": 14,
    "start_time": "2025-05-03T08:16:48.046Z"
   },
   {
    "duration": 46,
    "start_time": "2025-05-03T08:16:48.061Z"
   },
   {
    "duration": 273,
    "start_time": "2025-05-03T08:16:48.110Z"
   },
   {
    "duration": 142,
    "start_time": "2025-05-03T08:16:48.384Z"
   },
   {
    "duration": 9,
    "start_time": "2025-05-03T08:16:48.528Z"
   },
   {
    "duration": 8,
    "start_time": "2025-05-03T08:16:48.539Z"
   },
   {
    "duration": 206,
    "start_time": "2025-05-03T08:16:48.549Z"
   },
   {
    "duration": 9,
    "start_time": "2025-05-03T08:16:48.757Z"
   },
   {
    "duration": 40,
    "start_time": "2025-05-03T08:16:48.768Z"
   },
   {
    "duration": 11,
    "start_time": "2025-05-03T08:16:48.810Z"
   },
   {
    "duration": 22,
    "start_time": "2025-05-03T08:16:48.822Z"
   },
   {
    "duration": 29,
    "start_time": "2025-05-03T08:16:48.845Z"
   },
   {
    "duration": 531,
    "start_time": "2025-05-03T08:16:48.876Z"
   },
   {
    "duration": 19,
    "start_time": "2025-05-03T08:16:49.409Z"
   },
   {
    "duration": 1574,
    "start_time": "2025-05-03T08:16:49.432Z"
   },
   {
    "duration": 11,
    "start_time": "2025-05-03T08:16:51.008Z"
   },
   {
    "duration": 25,
    "start_time": "2025-05-03T08:16:51.020Z"
   },
   {
    "duration": 44,
    "start_time": "2025-05-03T08:16:51.047Z"
   },
   {
    "duration": 13,
    "start_time": "2025-05-03T08:16:51.093Z"
   },
   {
    "duration": 37,
    "start_time": "2025-05-03T08:16:51.108Z"
   },
   {
    "duration": 11,
    "start_time": "2025-05-03T08:16:51.147Z"
   },
   {
    "duration": 23,
    "start_time": "2025-05-03T08:16:51.160Z"
   },
   {
    "duration": 22,
    "start_time": "2025-05-03T08:16:51.186Z"
   },
   {
    "duration": 19,
    "start_time": "2025-05-03T08:16:51.210Z"
   },
   {
    "duration": 33,
    "start_time": "2025-05-03T08:16:51.231Z"
   },
   {
    "duration": 14,
    "start_time": "2025-05-03T08:16:51.266Z"
   },
   {
    "duration": 16,
    "start_time": "2025-05-03T08:16:51.282Z"
   },
   {
    "duration": 153,
    "start_time": "2025-05-03T08:16:51.300Z"
   },
   {
    "duration": 152,
    "start_time": "2025-05-03T08:16:51.455Z"
   },
   {
    "duration": 156,
    "start_time": "2025-05-03T08:16:51.609Z"
   },
   {
    "duration": 14,
    "start_time": "2025-05-03T08:16:51.767Z"
   },
   {
    "duration": 142,
    "start_time": "2025-05-03T08:16:51.783Z"
   },
   {
    "duration": 948,
    "start_time": "2025-05-03T08:16:51.927Z"
   },
   {
    "duration": 10,
    "start_time": "2025-05-03T08:16:52.876Z"
   },
   {
    "duration": 437,
    "start_time": "2025-05-03T08:16:52.887Z"
   },
   {
    "duration": 58,
    "start_time": "2025-05-03T08:16:53.325Z"
   },
   {
    "duration": 276,
    "start_time": "2025-05-03T08:16:53.384Z"
   },
   {
    "duration": 44,
    "start_time": "2025-05-03T08:16:53.662Z"
   },
   {
    "duration": 36,
    "start_time": "2025-05-03T08:16:53.708Z"
   },
   {
    "duration": 22,
    "start_time": "2025-05-03T08:16:53.746Z"
   },
   {
    "duration": 48,
    "start_time": "2025-05-03T08:16:53.770Z"
   },
   {
    "duration": 28,
    "start_time": "2025-05-03T08:16:53.819Z"
   },
   {
    "duration": 56,
    "start_time": "2025-05-03T08:16:53.849Z"
   },
   {
    "duration": 1111,
    "start_time": "2025-05-03T08:16:53.907Z"
   },
   {
    "duration": 0,
    "start_time": "2025-05-03T08:16:55.020Z"
   },
   {
    "duration": 0,
    "start_time": "2025-05-03T08:16:55.022Z"
   },
   {
    "duration": 0,
    "start_time": "2025-05-03T08:16:55.024Z"
   },
   {
    "duration": 21,
    "start_time": "2025-05-03T08:18:44.833Z"
   },
   {
    "duration": 714,
    "start_time": "2025-05-03T08:19:16.047Z"
   },
   {
    "duration": 26,
    "start_time": "2025-05-03T08:19:16.763Z"
   },
   {
    "duration": 62,
    "start_time": "2025-05-03T08:19:16.791Z"
   },
   {
    "duration": 14,
    "start_time": "2025-05-03T08:19:16.855Z"
   },
   {
    "duration": 23,
    "start_time": "2025-05-03T08:19:16.870Z"
   },
   {
    "duration": 21,
    "start_time": "2025-05-03T08:19:16.895Z"
   },
   {
    "duration": 15,
    "start_time": "2025-05-03T08:19:16.919Z"
   },
   {
    "duration": 25,
    "start_time": "2025-05-03T08:19:16.936Z"
   },
   {
    "duration": 5,
    "start_time": "2025-05-03T08:19:16.963Z"
   },
   {
    "duration": 9,
    "start_time": "2025-05-03T08:19:16.972Z"
   },
   {
    "duration": 22,
    "start_time": "2025-05-03T08:19:16.983Z"
   },
   {
    "duration": 9,
    "start_time": "2025-05-03T08:19:17.007Z"
   },
   {
    "duration": 15,
    "start_time": "2025-05-03T08:19:17.018Z"
   },
   {
    "duration": 9,
    "start_time": "2025-05-03T08:19:17.035Z"
   },
   {
    "duration": 19,
    "start_time": "2025-05-03T08:19:17.046Z"
   },
   {
    "duration": 277,
    "start_time": "2025-05-03T08:19:17.067Z"
   },
   {
    "duration": 149,
    "start_time": "2025-05-03T08:19:17.346Z"
   },
   {
    "duration": 15,
    "start_time": "2025-05-03T08:19:17.497Z"
   },
   {
    "duration": 10,
    "start_time": "2025-05-03T08:19:17.514Z"
   },
   {
    "duration": 242,
    "start_time": "2025-05-03T08:19:17.527Z"
   },
   {
    "duration": 9,
    "start_time": "2025-05-03T08:19:17.771Z"
   },
   {
    "duration": 32,
    "start_time": "2025-05-03T08:19:17.781Z"
   },
   {
    "duration": 13,
    "start_time": "2025-05-03T08:19:17.815Z"
   },
   {
    "duration": 9,
    "start_time": "2025-05-03T08:19:17.829Z"
   },
   {
    "duration": 14,
    "start_time": "2025-05-03T08:19:17.840Z"
   },
   {
    "duration": 543,
    "start_time": "2025-05-03T08:19:17.856Z"
   },
   {
    "duration": 17,
    "start_time": "2025-05-03T08:19:18.404Z"
   },
   {
    "duration": 1603,
    "start_time": "2025-05-03T08:19:18.425Z"
   },
   {
    "duration": 13,
    "start_time": "2025-05-03T08:19:20.030Z"
   },
   {
    "duration": 21,
    "start_time": "2025-05-03T08:19:20.045Z"
   },
   {
    "duration": 109,
    "start_time": "2025-05-03T08:19:20.067Z"
   },
   {
    "duration": 13,
    "start_time": "2025-05-03T08:19:20.178Z"
   },
   {
    "duration": 17,
    "start_time": "2025-05-03T08:19:20.193Z"
   },
   {
    "duration": 12,
    "start_time": "2025-05-03T08:19:20.212Z"
   },
   {
    "duration": 105,
    "start_time": "2025-05-03T08:19:20.226Z"
   },
   {
    "duration": 27,
    "start_time": "2025-05-03T08:19:20.333Z"
   },
   {
    "duration": 81,
    "start_time": "2025-05-03T08:19:20.362Z"
   },
   {
    "duration": 261,
    "start_time": "2025-05-03T08:19:20.446Z"
   },
   {
    "duration": 29,
    "start_time": "2025-05-03T08:19:20.710Z"
   },
   {
    "duration": 114,
    "start_time": "2025-05-03T08:19:20.741Z"
   },
   {
    "duration": 196,
    "start_time": "2025-05-03T08:19:20.857Z"
   },
   {
    "duration": 154,
    "start_time": "2025-05-03T08:19:21.055Z"
   },
   {
    "duration": 172,
    "start_time": "2025-05-03T08:19:21.211Z"
   },
   {
    "duration": 22,
    "start_time": "2025-05-03T08:19:21.385Z"
   },
   {
    "duration": 155,
    "start_time": "2025-05-03T08:19:21.409Z"
   },
   {
    "duration": 928,
    "start_time": "2025-05-03T08:19:21.566Z"
   },
   {
    "duration": 10,
    "start_time": "2025-05-03T08:19:22.504Z"
   },
   {
    "duration": 419,
    "start_time": "2025-05-03T08:19:22.516Z"
   },
   {
    "duration": 55,
    "start_time": "2025-05-03T08:19:22.937Z"
   },
   {
    "duration": 259,
    "start_time": "2025-05-03T08:19:23.006Z"
   },
   {
    "duration": 45,
    "start_time": "2025-05-03T08:19:23.267Z"
   },
   {
    "duration": 40,
    "start_time": "2025-05-03T08:19:23.313Z"
   },
   {
    "duration": 21,
    "start_time": "2025-05-03T08:19:23.355Z"
   },
   {
    "duration": 55,
    "start_time": "2025-05-03T08:19:23.378Z"
   },
   {
    "duration": 43,
    "start_time": "2025-05-03T08:19:23.434Z"
   },
   {
    "duration": 49,
    "start_time": "2025-05-03T08:19:23.479Z"
   },
   {
    "duration": 11,
    "start_time": "2025-05-03T08:23:51.178Z"
   },
   {
    "duration": 22,
    "start_time": "2025-05-03T08:23:58.282Z"
   },
   {
    "duration": 10,
    "start_time": "2025-05-03T08:29:32.849Z"
   },
   {
    "duration": 11,
    "start_time": "2025-05-03T08:35:12.096Z"
   },
   {
    "duration": 736,
    "start_time": "2025-05-03T08:35:42.435Z"
   },
   {
    "duration": 27,
    "start_time": "2025-05-03T08:35:43.173Z"
   },
   {
    "duration": 20,
    "start_time": "2025-05-03T08:35:43.202Z"
   },
   {
    "duration": 15,
    "start_time": "2025-05-03T08:35:43.225Z"
   },
   {
    "duration": 6,
    "start_time": "2025-05-03T08:35:43.242Z"
   },
   {
    "duration": 12,
    "start_time": "2025-05-03T08:35:43.250Z"
   },
   {
    "duration": 13,
    "start_time": "2025-05-03T08:35:43.264Z"
   },
   {
    "duration": 39,
    "start_time": "2025-05-03T08:35:43.279Z"
   },
   {
    "duration": 13,
    "start_time": "2025-05-03T08:35:43.319Z"
   },
   {
    "duration": 13,
    "start_time": "2025-05-03T08:35:43.335Z"
   },
   {
    "duration": 5,
    "start_time": "2025-05-03T08:35:43.349Z"
   },
   {
    "duration": 14,
    "start_time": "2025-05-03T08:35:43.356Z"
   },
   {
    "duration": 33,
    "start_time": "2025-05-03T08:35:43.372Z"
   },
   {
    "duration": 10,
    "start_time": "2025-05-03T08:35:43.407Z"
   },
   {
    "duration": 12,
    "start_time": "2025-05-03T08:35:43.419Z"
   },
   {
    "duration": 262,
    "start_time": "2025-05-03T08:35:43.432Z"
   },
   {
    "duration": 142,
    "start_time": "2025-05-03T08:35:43.695Z"
   },
   {
    "duration": 9,
    "start_time": "2025-05-03T08:35:43.839Z"
   },
   {
    "duration": 9,
    "start_time": "2025-05-03T08:35:43.850Z"
   },
   {
    "duration": 208,
    "start_time": "2025-05-03T08:35:43.860Z"
   },
   {
    "duration": 11,
    "start_time": "2025-05-03T08:35:44.070Z"
   },
   {
    "duration": 27,
    "start_time": "2025-05-03T08:35:44.083Z"
   },
   {
    "duration": 13,
    "start_time": "2025-05-03T08:35:44.112Z"
   },
   {
    "duration": 116,
    "start_time": "2025-05-03T08:35:44.127Z"
   },
   {
    "duration": 15,
    "start_time": "2025-05-03T08:35:44.245Z"
   },
   {
    "duration": 545,
    "start_time": "2025-05-03T08:35:44.262Z"
   },
   {
    "duration": 17,
    "start_time": "2025-05-03T08:35:44.808Z"
   },
   {
    "duration": 1883,
    "start_time": "2025-05-03T08:35:44.829Z"
   },
   {
    "duration": 12,
    "start_time": "2025-05-03T08:35:46.714Z"
   },
   {
    "duration": 24,
    "start_time": "2025-05-03T08:35:46.728Z"
   },
   {
    "duration": 51,
    "start_time": "2025-05-03T08:35:46.754Z"
   },
   {
    "duration": 52,
    "start_time": "2025-05-03T08:35:46.807Z"
   },
   {
    "duration": 39,
    "start_time": "2025-05-03T08:35:46.860Z"
   },
   {
    "duration": 9,
    "start_time": "2025-05-03T08:35:46.901Z"
   },
   {
    "duration": 39,
    "start_time": "2025-05-03T08:35:46.912Z"
   },
   {
    "duration": 17,
    "start_time": "2025-05-03T08:35:46.953Z"
   },
   {
    "duration": 4,
    "start_time": "2025-05-03T08:35:46.972Z"
   },
   {
    "duration": 30,
    "start_time": "2025-05-03T08:35:46.978Z"
   },
   {
    "duration": 37,
    "start_time": "2025-05-03T08:35:47.009Z"
   },
   {
    "duration": 14,
    "start_time": "2025-05-03T08:35:47.047Z"
   },
   {
    "duration": 165,
    "start_time": "2025-05-03T08:35:47.063Z"
   },
   {
    "duration": 1044,
    "start_time": "2025-05-03T08:35:47.230Z"
   },
   {
    "duration": 0,
    "start_time": "2025-05-03T08:35:48.276Z"
   },
   {
    "duration": 0,
    "start_time": "2025-05-03T08:35:48.278Z"
   },
   {
    "duration": 0,
    "start_time": "2025-05-03T08:35:48.279Z"
   },
   {
    "duration": 0,
    "start_time": "2025-05-03T08:35:48.280Z"
   },
   {
    "duration": 0,
    "start_time": "2025-05-03T08:35:48.281Z"
   },
   {
    "duration": 0,
    "start_time": "2025-05-03T08:35:48.282Z"
   },
   {
    "duration": 0,
    "start_time": "2025-05-03T08:35:48.283Z"
   },
   {
    "duration": 0,
    "start_time": "2025-05-03T08:35:48.284Z"
   },
   {
    "duration": 0,
    "start_time": "2025-05-03T08:35:48.286Z"
   },
   {
    "duration": 0,
    "start_time": "2025-05-03T08:35:48.287Z"
   },
   {
    "duration": 0,
    "start_time": "2025-05-03T08:35:48.288Z"
   },
   {
    "duration": 0,
    "start_time": "2025-05-03T08:35:48.289Z"
   },
   {
    "duration": 0,
    "start_time": "2025-05-03T08:35:48.290Z"
   },
   {
    "duration": 0,
    "start_time": "2025-05-03T08:35:48.291Z"
   },
   {
    "duration": 0,
    "start_time": "2025-05-03T08:35:48.293Z"
   },
   {
    "duration": 143,
    "start_time": "2025-05-03T08:36:41.620Z"
   },
   {
    "duration": 149,
    "start_time": "2025-05-03T08:36:45.271Z"
   },
   {
    "duration": 710,
    "start_time": "2025-05-03T08:36:50.326Z"
   },
   {
    "duration": 26,
    "start_time": "2025-05-03T08:36:51.038Z"
   },
   {
    "duration": 18,
    "start_time": "2025-05-03T08:36:51.065Z"
   },
   {
    "duration": 23,
    "start_time": "2025-05-03T08:36:51.086Z"
   },
   {
    "duration": 23,
    "start_time": "2025-05-03T08:36:51.111Z"
   },
   {
    "duration": 14,
    "start_time": "2025-05-03T08:36:51.135Z"
   },
   {
    "duration": 15,
    "start_time": "2025-05-03T08:36:51.151Z"
   },
   {
    "duration": 47,
    "start_time": "2025-05-03T08:36:51.168Z"
   },
   {
    "duration": 10,
    "start_time": "2025-05-03T08:36:51.216Z"
   },
   {
    "duration": 13,
    "start_time": "2025-05-03T08:36:51.229Z"
   },
   {
    "duration": 47,
    "start_time": "2025-05-03T08:36:51.244Z"
   },
   {
    "duration": 22,
    "start_time": "2025-05-03T08:36:51.292Z"
   },
   {
    "duration": 21,
    "start_time": "2025-05-03T08:36:51.315Z"
   },
   {
    "duration": 26,
    "start_time": "2025-05-03T08:36:51.338Z"
   },
   {
    "duration": 56,
    "start_time": "2025-05-03T08:36:51.366Z"
   },
   {
    "duration": 265,
    "start_time": "2025-05-03T08:36:51.424Z"
   },
   {
    "duration": 137,
    "start_time": "2025-05-03T08:36:51.691Z"
   },
   {
    "duration": 8,
    "start_time": "2025-05-03T08:36:51.830Z"
   },
   {
    "duration": 16,
    "start_time": "2025-05-03T08:36:51.840Z"
   },
   {
    "duration": 205,
    "start_time": "2025-05-03T08:36:51.858Z"
   },
   {
    "duration": 8,
    "start_time": "2025-05-03T08:36:52.065Z"
   },
   {
    "duration": 129,
    "start_time": "2025-05-03T08:36:52.075Z"
   },
   {
    "duration": 30,
    "start_time": "2025-05-03T08:36:52.206Z"
   },
   {
    "duration": 17,
    "start_time": "2025-05-03T08:36:52.238Z"
   },
   {
    "duration": 27,
    "start_time": "2025-05-03T08:36:52.257Z"
   },
   {
    "duration": 619,
    "start_time": "2025-05-03T08:36:52.286Z"
   },
   {
    "duration": 16,
    "start_time": "2025-05-03T08:36:52.907Z"
   },
   {
    "duration": 1566,
    "start_time": "2025-05-03T08:36:52.927Z"
   },
   {
    "duration": 13,
    "start_time": "2025-05-03T08:36:54.494Z"
   },
   {
    "duration": 28,
    "start_time": "2025-05-03T08:36:54.508Z"
   },
   {
    "duration": 36,
    "start_time": "2025-05-03T08:36:54.537Z"
   },
   {
    "duration": 13,
    "start_time": "2025-05-03T08:36:54.575Z"
   },
   {
    "duration": 25,
    "start_time": "2025-05-03T08:36:54.590Z"
   },
   {
    "duration": 17,
    "start_time": "2025-05-03T08:36:54.617Z"
   },
   {
    "duration": 20,
    "start_time": "2025-05-03T08:36:54.636Z"
   },
   {
    "duration": 18,
    "start_time": "2025-05-03T08:36:54.658Z"
   },
   {
    "duration": 29,
    "start_time": "2025-05-03T08:36:54.678Z"
   },
   {
    "duration": 51,
    "start_time": "2025-05-03T08:36:54.708Z"
   },
   {
    "duration": 13,
    "start_time": "2025-05-03T08:36:54.761Z"
   },
   {
    "duration": 16,
    "start_time": "2025-05-03T08:36:54.776Z"
   },
   {
    "duration": 153,
    "start_time": "2025-05-03T08:36:54.794Z"
   },
   {
    "duration": 175,
    "start_time": "2025-05-03T08:36:54.949Z"
   },
   {
    "duration": 165,
    "start_time": "2025-05-03T08:36:55.126Z"
   },
   {
    "duration": 21,
    "start_time": "2025-05-03T08:36:55.294Z"
   },
   {
    "duration": 143,
    "start_time": "2025-05-03T08:36:55.317Z"
   },
   {
    "duration": 974,
    "start_time": "2025-05-03T08:36:55.463Z"
   },
   {
    "duration": 11,
    "start_time": "2025-05-03T08:36:56.440Z"
   },
   {
    "duration": 442,
    "start_time": "2025-05-03T08:36:56.454Z"
   },
   {
    "duration": 59,
    "start_time": "2025-05-03T08:36:56.905Z"
   },
   {
    "duration": 258,
    "start_time": "2025-05-03T08:36:56.965Z"
   },
   {
    "duration": 32,
    "start_time": "2025-05-03T08:36:57.225Z"
   },
   {
    "duration": 53,
    "start_time": "2025-05-03T08:36:57.258Z"
   },
   {
    "duration": 22,
    "start_time": "2025-05-03T08:36:57.313Z"
   },
   {
    "duration": 24,
    "start_time": "2025-05-03T08:36:57.337Z"
   },
   {
    "duration": 68,
    "start_time": "2025-05-03T08:36:57.363Z"
   },
   {
    "duration": 10,
    "start_time": "2025-05-03T08:36:57.433Z"
   },
   {
    "duration": 42,
    "start_time": "2025-05-03T08:36:57.445Z"
   },
   {
    "duration": 189,
    "start_time": "2025-05-03T08:38:09.035Z"
   },
   {
    "duration": 156,
    "start_time": "2025-05-03T08:38:20.090Z"
   },
   {
    "duration": 11,
    "start_time": "2025-05-03T08:41:29.673Z"
   },
   {
    "duration": 208,
    "start_time": "2025-05-03T08:46:30.671Z"
   },
   {
    "duration": 150,
    "start_time": "2025-05-03T08:56:14.819Z"
   },
   {
    "duration": 106,
    "start_time": "2025-05-03T09:16:09.444Z"
   },
   {
    "duration": 11,
    "start_time": "2025-05-03T09:16:47.553Z"
   },
   {
    "duration": 11,
    "start_time": "2025-05-03T09:17:03.301Z"
   },
   {
    "duration": 21,
    "start_time": "2025-05-03T09:21:04.527Z"
   },
   {
    "duration": 53,
    "start_time": "2025-05-03T10:14:16.471Z"
   },
   {
    "duration": 20,
    "start_time": "2025-05-03T10:14:42.568Z"
   },
   {
    "duration": 19,
    "start_time": "2025-05-03T10:15:13.740Z"
   },
   {
    "duration": 5,
    "start_time": "2025-05-03T10:20:36.163Z"
   },
   {
    "duration": 12,
    "start_time": "2025-05-03T10:25:32.308Z"
   },
   {
    "duration": 5,
    "start_time": "2025-05-03T10:26:04.531Z"
   },
   {
    "duration": 8,
    "start_time": "2025-05-03T10:33:37.542Z"
   },
   {
    "duration": 18,
    "start_time": "2025-05-03T11:01:20.239Z"
   },
   {
    "duration": 19,
    "start_time": "2025-05-03T11:01:22.153Z"
   },
   {
    "duration": 20,
    "start_time": "2025-05-03T11:01:25.575Z"
   },
   {
    "duration": 4,
    "start_time": "2025-05-03T11:01:30.027Z"
   },
   {
    "duration": 4,
    "start_time": "2025-05-03T11:02:28.600Z"
   },
   {
    "duration": 4,
    "start_time": "2025-05-03T11:06:16.902Z"
   },
   {
    "duration": 5,
    "start_time": "2025-05-03T11:08:14.253Z"
   },
   {
    "duration": 12,
    "start_time": "2025-05-03T11:12:03.035Z"
   },
   {
    "duration": 9,
    "start_time": "2025-05-03T11:12:11.723Z"
   },
   {
    "duration": 4,
    "start_time": "2025-05-03T11:12:16.034Z"
   },
   {
    "duration": 5,
    "start_time": "2025-05-03T11:18:00.010Z"
   },
   {
    "duration": 4,
    "start_time": "2025-05-03T11:24:04.657Z"
   },
   {
    "duration": 5,
    "start_time": "2025-05-03T11:24:37.608Z"
   },
   {
    "duration": 8,
    "start_time": "2025-05-03T11:29:02.856Z"
   },
   {
    "duration": 8,
    "start_time": "2025-05-03T11:29:35.216Z"
   },
   {
    "duration": 6,
    "start_time": "2025-05-03T11:29:44.330Z"
   },
   {
    "duration": 43,
    "start_time": "2025-05-03T11:59:25.861Z"
   },
   {
    "duration": 10,
    "start_time": "2025-05-03T12:00:57.098Z"
   },
   {
    "duration": 734,
    "start_time": "2025-05-03T12:35:30.694Z"
   },
   {
    "duration": 26,
    "start_time": "2025-05-03T12:35:31.431Z"
   },
   {
    "duration": 16,
    "start_time": "2025-05-03T12:35:31.459Z"
   },
   {
    "duration": 23,
    "start_time": "2025-05-03T12:35:31.478Z"
   },
   {
    "duration": 22,
    "start_time": "2025-05-03T12:35:31.503Z"
   },
   {
    "duration": 43,
    "start_time": "2025-05-03T12:35:31.526Z"
   },
   {
    "duration": 46,
    "start_time": "2025-05-03T12:35:31.570Z"
   },
   {
    "duration": 52,
    "start_time": "2025-05-03T12:35:31.618Z"
   },
   {
    "duration": 6,
    "start_time": "2025-05-03T12:35:31.673Z"
   },
   {
    "duration": 36,
    "start_time": "2025-05-03T12:35:31.683Z"
   },
   {
    "duration": 28,
    "start_time": "2025-05-03T12:35:31.721Z"
   },
   {
    "duration": 51,
    "start_time": "2025-05-03T12:35:31.752Z"
   },
   {
    "duration": 30,
    "start_time": "2025-05-03T12:35:31.806Z"
   },
   {
    "duration": 13,
    "start_time": "2025-05-03T12:35:31.838Z"
   },
   {
    "duration": 28,
    "start_time": "2025-05-03T12:35:31.854Z"
   },
   {
    "duration": 249,
    "start_time": "2025-05-03T12:35:31.885Z"
   },
   {
    "duration": 153,
    "start_time": "2025-05-03T12:35:32.136Z"
   },
   {
    "duration": 15,
    "start_time": "2025-05-03T12:35:32.291Z"
   },
   {
    "duration": 19,
    "start_time": "2025-05-03T12:35:32.308Z"
   },
   {
    "duration": 186,
    "start_time": "2025-05-03T12:35:32.329Z"
   },
   {
    "duration": 9,
    "start_time": "2025-05-03T12:35:32.517Z"
   },
   {
    "duration": 7,
    "start_time": "2025-05-03T12:35:32.528Z"
   },
   {
    "duration": 15,
    "start_time": "2025-05-03T12:35:32.537Z"
   },
   {
    "duration": 31,
    "start_time": "2025-05-03T12:35:32.555Z"
   },
   {
    "duration": 29,
    "start_time": "2025-05-03T12:35:32.588Z"
   },
   {
    "duration": 541,
    "start_time": "2025-05-03T12:35:32.619Z"
   },
   {
    "duration": 19,
    "start_time": "2025-05-03T12:35:33.163Z"
   },
   {
    "duration": 1795,
    "start_time": "2025-05-03T12:35:33.205Z"
   },
   {
    "duration": 12,
    "start_time": "2025-05-03T12:35:35.004Z"
   },
   {
    "duration": 19,
    "start_time": "2025-05-03T12:35:35.017Z"
   },
   {
    "duration": 42,
    "start_time": "2025-05-03T12:35:35.038Z"
   },
   {
    "duration": 24,
    "start_time": "2025-05-03T12:35:35.082Z"
   },
   {
    "duration": 17,
    "start_time": "2025-05-03T12:35:35.108Z"
   },
   {
    "duration": 101,
    "start_time": "2025-05-03T12:35:35.127Z"
   },
   {
    "duration": 30,
    "start_time": "2025-05-03T12:35:35.229Z"
   },
   {
    "duration": 19,
    "start_time": "2025-05-03T12:35:35.261Z"
   },
   {
    "duration": 138,
    "start_time": "2025-05-03T12:35:35.281Z"
   },
   {
    "duration": 32,
    "start_time": "2025-05-03T12:35:35.421Z"
   },
   {
    "duration": 15,
    "start_time": "2025-05-03T12:35:35.455Z"
   },
   {
    "duration": 38,
    "start_time": "2025-05-03T12:35:35.472Z"
   },
   {
    "duration": 172,
    "start_time": "2025-05-03T12:35:35.511Z"
   },
   {
    "duration": 158,
    "start_time": "2025-05-03T12:35:35.685Z"
   },
   {
    "duration": 161,
    "start_time": "2025-05-03T12:35:35.844Z"
   },
   {
    "duration": 14,
    "start_time": "2025-05-03T12:35:36.007Z"
   },
   {
    "duration": 194,
    "start_time": "2025-05-03T12:35:36.023Z"
   },
   {
    "duration": 947,
    "start_time": "2025-05-03T12:35:36.219Z"
   },
   {
    "duration": 9,
    "start_time": "2025-05-03T12:35:37.168Z"
   },
   {
    "duration": 439,
    "start_time": "2025-05-03T12:35:37.179Z"
   },
   {
    "duration": 55,
    "start_time": "2025-05-03T12:35:37.620Z"
   },
   {
    "duration": 271,
    "start_time": "2025-05-03T12:35:37.677Z"
   },
   {
    "duration": 31,
    "start_time": "2025-05-03T12:35:37.950Z"
   },
   {
    "duration": 82,
    "start_time": "2025-05-03T12:35:37.982Z"
   },
   {
    "duration": 22,
    "start_time": "2025-05-03T12:35:38.066Z"
   },
   {
    "duration": 30,
    "start_time": "2025-05-03T12:35:38.090Z"
   },
   {
    "duration": 41,
    "start_time": "2025-05-03T12:35:38.122Z"
   },
   {
    "duration": 19,
    "start_time": "2025-05-03T12:35:38.165Z"
   },
   {
    "duration": 62,
    "start_time": "2025-05-03T12:35:38.186Z"
   },
   {
    "duration": 9,
    "start_time": "2025-05-03T12:35:38.250Z"
   },
   {
    "duration": 21,
    "start_time": "2025-05-03T12:35:38.260Z"
   },
   {
    "duration": 16,
    "start_time": "2025-05-03T12:35:38.283Z"
   },
   {
    "duration": 18,
    "start_time": "2025-05-03T12:35:38.305Z"
   },
   {
    "duration": 11,
    "start_time": "2025-05-03T12:35:38.324Z"
   },
   {
    "duration": 748,
    "start_time": "2025-05-03T12:41:43.139Z"
   },
   {
    "duration": 26,
    "start_time": "2025-05-03T12:41:43.889Z"
   },
   {
    "duration": 17,
    "start_time": "2025-05-03T12:41:43.917Z"
   },
   {
    "duration": 18,
    "start_time": "2025-05-03T12:41:43.936Z"
   },
   {
    "duration": 12,
    "start_time": "2025-05-03T12:41:43.957Z"
   },
   {
    "duration": 108,
    "start_time": "2025-05-03T12:41:43.971Z"
   },
   {
    "duration": 22,
    "start_time": "2025-05-03T12:41:44.081Z"
   },
   {
    "duration": 19,
    "start_time": "2025-05-03T12:41:44.105Z"
   },
   {
    "duration": 6,
    "start_time": "2025-05-03T12:41:44.126Z"
   },
   {
    "duration": 15,
    "start_time": "2025-05-03T12:41:44.136Z"
   },
   {
    "duration": 5,
    "start_time": "2025-05-03T12:41:44.153Z"
   },
   {
    "duration": 10,
    "start_time": "2025-05-03T12:41:44.159Z"
   },
   {
    "duration": 40,
    "start_time": "2025-05-03T12:41:44.172Z"
   },
   {
    "duration": 11,
    "start_time": "2025-05-03T12:41:44.215Z"
   },
   {
    "duration": 12,
    "start_time": "2025-05-03T12:41:44.228Z"
   },
   {
    "duration": 266,
    "start_time": "2025-05-03T12:41:44.242Z"
   },
   {
    "duration": 141,
    "start_time": "2025-05-03T12:41:44.510Z"
   },
   {
    "duration": 10,
    "start_time": "2025-05-03T12:41:44.653Z"
   },
   {
    "duration": 9,
    "start_time": "2025-05-03T12:41:44.665Z"
   },
   {
    "duration": 210,
    "start_time": "2025-05-03T12:41:44.676Z"
   },
   {
    "duration": 25,
    "start_time": "2025-05-03T12:41:44.888Z"
   },
   {
    "duration": 81,
    "start_time": "2025-05-03T12:41:44.915Z"
   },
   {
    "duration": 62,
    "start_time": "2025-05-03T12:41:44.999Z"
   },
   {
    "duration": 35,
    "start_time": "2025-05-03T12:41:45.063Z"
   },
   {
    "duration": 165,
    "start_time": "2025-05-03T12:41:45.100Z"
   },
   {
    "duration": 538,
    "start_time": "2025-05-03T12:41:45.267Z"
   },
   {
    "duration": 19,
    "start_time": "2025-05-03T12:41:45.807Z"
   },
   {
    "duration": 1654,
    "start_time": "2025-05-03T12:41:45.830Z"
   },
   {
    "duration": 19,
    "start_time": "2025-05-03T12:41:47.486Z"
   },
   {
    "duration": 13,
    "start_time": "2025-05-03T12:41:47.507Z"
   },
   {
    "duration": 35,
    "start_time": "2025-05-03T12:41:47.522Z"
   },
   {
    "duration": 12,
    "start_time": "2025-05-03T12:41:47.560Z"
   },
   {
    "duration": 37,
    "start_time": "2025-05-03T12:41:47.575Z"
   },
   {
    "duration": 20,
    "start_time": "2025-05-03T12:41:47.614Z"
   },
   {
    "duration": 21,
    "start_time": "2025-05-03T12:41:47.636Z"
   },
   {
    "duration": 24,
    "start_time": "2025-05-03T12:41:47.659Z"
   },
   {
    "duration": 5,
    "start_time": "2025-05-03T12:41:47.686Z"
   },
   {
    "duration": 15,
    "start_time": "2025-05-03T12:41:47.706Z"
   },
   {
    "duration": 16,
    "start_time": "2025-05-03T12:41:47.723Z"
   },
   {
    "duration": 6,
    "start_time": "2025-05-03T12:41:47.740Z"
   },
   {
    "duration": 199,
    "start_time": "2025-05-03T12:41:47.748Z"
   },
   {
    "duration": 152,
    "start_time": "2025-05-03T12:41:47.949Z"
   },
   {
    "duration": 170,
    "start_time": "2025-05-03T12:41:48.102Z"
   },
   {
    "duration": 14,
    "start_time": "2025-05-03T12:41:48.274Z"
   },
   {
    "duration": 133,
    "start_time": "2025-05-03T12:41:48.305Z"
   },
   {
    "duration": 1013,
    "start_time": "2025-05-03T12:41:48.440Z"
   },
   {
    "duration": 11,
    "start_time": "2025-05-03T12:41:49.455Z"
   },
   {
    "duration": 471,
    "start_time": "2025-05-03T12:41:49.468Z"
   },
   {
    "duration": 86,
    "start_time": "2025-05-03T12:41:49.941Z"
   },
   {
    "duration": 294,
    "start_time": "2025-05-03T12:41:50.028Z"
   },
   {
    "duration": 31,
    "start_time": "2025-05-03T12:41:50.324Z"
   },
   {
    "duration": 50,
    "start_time": "2025-05-03T12:41:50.356Z"
   },
   {
    "duration": 23,
    "start_time": "2025-05-03T12:41:50.408Z"
   },
   {
    "duration": 23,
    "start_time": "2025-05-03T12:41:50.433Z"
   },
   {
    "duration": 66,
    "start_time": "2025-05-03T12:41:50.457Z"
   },
   {
    "duration": 18,
    "start_time": "2025-05-03T12:41:50.525Z"
   },
   {
    "duration": 65,
    "start_time": "2025-05-03T12:41:50.545Z"
   },
   {
    "duration": 9,
    "start_time": "2025-05-03T12:41:50.612Z"
   },
   {
    "duration": 7,
    "start_time": "2025-05-03T12:41:50.622Z"
   },
   {
    "duration": 9,
    "start_time": "2025-05-03T12:41:50.631Z"
   },
   {
    "duration": 8,
    "start_time": "2025-05-03T12:41:50.642Z"
   },
   {
    "duration": 17,
    "start_time": "2025-05-03T12:41:50.652Z"
   },
   {
    "duration": 885,
    "start_time": "2025-05-04T09:30:02.049Z"
   },
   {
    "duration": 26,
    "start_time": "2025-05-04T09:30:02.936Z"
   },
   {
    "duration": 31,
    "start_time": "2025-05-04T09:30:02.964Z"
   },
   {
    "duration": 30,
    "start_time": "2025-05-04T09:30:02.997Z"
   },
   {
    "duration": 120,
    "start_time": "2025-05-04T09:30:03.029Z"
   },
   {
    "duration": 70,
    "start_time": "2025-05-04T09:30:03.150Z"
   },
   {
    "duration": 68,
    "start_time": "2025-05-04T09:30:03.221Z"
   },
   {
    "duration": 38,
    "start_time": "2025-05-04T09:30:03.290Z"
   },
   {
    "duration": 178,
    "start_time": "2025-05-04T09:30:03.330Z"
   },
   {
    "duration": 44,
    "start_time": "2025-05-04T09:30:03.510Z"
   },
   {
    "duration": 62,
    "start_time": "2025-05-04T09:30:03.556Z"
   },
   {
    "duration": 272,
    "start_time": "2025-05-04T09:30:03.620Z"
   },
   {
    "duration": 217,
    "start_time": "2025-05-04T09:30:03.894Z"
   },
   {
    "duration": 28,
    "start_time": "2025-05-04T09:30:04.114Z"
   },
   {
    "duration": 33,
    "start_time": "2025-05-04T09:30:04.144Z"
   },
   {
    "duration": 250,
    "start_time": "2025-05-04T09:30:04.179Z"
   },
   {
    "duration": 140,
    "start_time": "2025-05-04T09:30:04.431Z"
   },
   {
    "duration": 10,
    "start_time": "2025-05-04T09:30:04.573Z"
   },
   {
    "duration": 87,
    "start_time": "2025-05-04T09:30:04.585Z"
   },
   {
    "duration": 190,
    "start_time": "2025-05-04T09:30:04.674Z"
   },
   {
    "duration": 8,
    "start_time": "2025-05-04T09:30:04.866Z"
   },
   {
    "duration": 198,
    "start_time": "2025-05-04T09:30:04.875Z"
   },
   {
    "duration": 10,
    "start_time": "2025-05-04T09:30:05.074Z"
   },
   {
    "duration": 27,
    "start_time": "2025-05-04T09:30:05.085Z"
   },
   {
    "duration": 11,
    "start_time": "2025-05-04T09:30:05.113Z"
   },
   {
    "duration": 537,
    "start_time": "2025-05-04T09:30:05.126Z"
   },
   {
    "duration": 17,
    "start_time": "2025-05-04T09:30:05.664Z"
   },
   {
    "duration": 1553,
    "start_time": "2025-05-04T09:30:05.683Z"
   },
   {
    "duration": 12,
    "start_time": "2025-05-04T09:30:07.238Z"
   },
   {
    "duration": 62,
    "start_time": "2025-05-04T09:30:07.251Z"
   },
   {
    "duration": 46,
    "start_time": "2025-05-04T09:30:07.315Z"
   },
   {
    "duration": 12,
    "start_time": "2025-05-04T09:30:07.363Z"
   },
   {
    "duration": 10,
    "start_time": "2025-05-04T09:30:07.377Z"
   },
   {
    "duration": 131,
    "start_time": "2025-05-04T09:30:07.388Z"
   },
   {
    "duration": 20,
    "start_time": "2025-05-04T09:30:07.521Z"
   },
   {
    "duration": 35,
    "start_time": "2025-05-04T09:30:07.543Z"
   },
   {
    "duration": 4,
    "start_time": "2025-05-04T09:30:07.581Z"
   },
   {
    "duration": 42,
    "start_time": "2025-05-04T09:30:07.587Z"
   },
   {
    "duration": 41,
    "start_time": "2025-05-04T09:30:07.631Z"
   },
   {
    "duration": 5,
    "start_time": "2025-05-04T09:30:07.674Z"
   },
   {
    "duration": 159,
    "start_time": "2025-05-04T09:30:07.683Z"
   },
   {
    "duration": 151,
    "start_time": "2025-05-04T09:30:07.843Z"
   },
   {
    "duration": 168,
    "start_time": "2025-05-04T09:30:07.996Z"
   },
   {
    "duration": 13,
    "start_time": "2025-05-04T09:30:08.166Z"
   },
   {
    "duration": 148,
    "start_time": "2025-05-04T09:30:08.181Z"
   },
   {
    "duration": 905,
    "start_time": "2025-05-04T09:30:08.331Z"
   },
   {
    "duration": 9,
    "start_time": "2025-05-04T09:30:09.238Z"
   },
   {
    "duration": 405,
    "start_time": "2025-05-04T09:30:09.249Z"
   },
   {
    "duration": 55,
    "start_time": "2025-05-04T09:30:09.655Z"
   },
   {
    "duration": 258,
    "start_time": "2025-05-04T09:30:09.711Z"
   },
   {
    "duration": 30,
    "start_time": "2025-05-04T09:30:09.971Z"
   },
   {
    "duration": 81,
    "start_time": "2025-05-04T09:30:10.003Z"
   },
   {
    "duration": 37,
    "start_time": "2025-05-04T09:30:10.086Z"
   },
   {
    "duration": 23,
    "start_time": "2025-05-04T09:30:10.124Z"
   },
   {
    "duration": 51,
    "start_time": "2025-05-04T09:30:10.149Z"
   },
   {
    "duration": 20,
    "start_time": "2025-05-04T09:30:10.202Z"
   },
   {
    "duration": 76,
    "start_time": "2025-05-04T09:30:10.224Z"
   },
   {
    "duration": 10,
    "start_time": "2025-05-04T09:30:10.302Z"
   },
   {
    "duration": 6,
    "start_time": "2025-05-04T09:30:10.314Z"
   },
   {
    "duration": 5,
    "start_time": "2025-05-04T09:30:10.322Z"
   },
   {
    "duration": 32,
    "start_time": "2025-05-04T09:30:10.329Z"
   },
   {
    "duration": 13,
    "start_time": "2025-05-04T09:30:10.363Z"
   },
   {
    "duration": 53,
    "start_time": "2025-05-05T02:32:05.751Z"
   },
   {
    "duration": 850,
    "start_time": "2025-05-05T02:32:11.025Z"
   },
   {
    "duration": 27,
    "start_time": "2025-05-05T02:32:11.877Z"
   },
   {
    "duration": 16,
    "start_time": "2025-05-05T02:32:11.906Z"
   },
   {
    "duration": 12,
    "start_time": "2025-05-05T02:32:11.924Z"
   },
   {
    "duration": 3,
    "start_time": "2025-05-05T02:32:11.938Z"
   },
   {
    "duration": 7,
    "start_time": "2025-05-05T02:32:11.943Z"
   },
   {
    "duration": 7,
    "start_time": "2025-05-05T02:32:11.951Z"
   },
   {
    "duration": 47,
    "start_time": "2025-05-05T02:32:11.959Z"
   },
   {
    "duration": 4,
    "start_time": "2025-05-05T02:32:12.008Z"
   },
   {
    "duration": 7,
    "start_time": "2025-05-05T02:32:12.014Z"
   },
   {
    "duration": 5,
    "start_time": "2025-05-05T02:32:12.022Z"
   },
   {
    "duration": 9,
    "start_time": "2025-05-05T02:32:12.028Z"
   },
   {
    "duration": 10,
    "start_time": "2025-05-05T02:32:12.039Z"
   },
   {
    "duration": 8,
    "start_time": "2025-05-05T02:32:12.051Z"
   },
   {
    "duration": 49,
    "start_time": "2025-05-05T02:32:12.061Z"
   },
   {
    "duration": 234,
    "start_time": "2025-05-05T02:32:12.112Z"
   },
   {
    "duration": 140,
    "start_time": "2025-05-05T02:32:12.348Z"
   },
   {
    "duration": 18,
    "start_time": "2025-05-05T02:32:12.490Z"
   },
   {
    "duration": 8,
    "start_time": "2025-05-05T02:32:12.509Z"
   },
   {
    "duration": 190,
    "start_time": "2025-05-05T02:32:12.518Z"
   },
   {
    "duration": 7,
    "start_time": "2025-05-05T02:32:12.711Z"
   },
   {
    "duration": 108,
    "start_time": "2025-05-05T02:32:12.720Z"
   },
   {
    "duration": 13,
    "start_time": "2025-05-05T02:32:12.830Z"
   },
   {
    "duration": 9,
    "start_time": "2025-05-05T02:32:12.845Z"
   },
   {
    "duration": 11,
    "start_time": "2025-05-05T02:32:12.856Z"
   },
   {
    "duration": 524,
    "start_time": "2025-05-05T02:32:12.869Z"
   },
   {
    "duration": 26,
    "start_time": "2025-05-05T02:32:13.395Z"
   },
   {
    "duration": 1659,
    "start_time": "2025-05-05T02:32:13.424Z"
   },
   {
    "duration": 11,
    "start_time": "2025-05-05T02:32:15.085Z"
   },
   {
    "duration": 52,
    "start_time": "2025-05-05T02:32:15.098Z"
   },
   {
    "duration": 34,
    "start_time": "2025-05-05T02:32:15.152Z"
   },
   {
    "duration": 12,
    "start_time": "2025-05-05T02:32:15.188Z"
   },
   {
    "duration": 34,
    "start_time": "2025-05-05T02:32:15.202Z"
   },
   {
    "duration": 34,
    "start_time": "2025-05-05T02:32:15.238Z"
   },
   {
    "duration": 54,
    "start_time": "2025-05-05T02:32:15.274Z"
   },
   {
    "duration": 34,
    "start_time": "2025-05-05T02:32:15.329Z"
   },
   {
    "duration": 8,
    "start_time": "2025-05-05T02:32:15.365Z"
   },
   {
    "duration": 38,
    "start_time": "2025-05-05T02:32:15.375Z"
   },
   {
    "duration": 24,
    "start_time": "2025-05-05T02:32:15.415Z"
   },
   {
    "duration": 33,
    "start_time": "2025-05-05T02:32:15.441Z"
   },
   {
    "duration": 140,
    "start_time": "2025-05-05T02:32:15.475Z"
   },
   {
    "duration": 144,
    "start_time": "2025-05-05T02:32:15.617Z"
   },
   {
    "duration": 153,
    "start_time": "2025-05-05T02:32:15.763Z"
   },
   {
    "duration": 13,
    "start_time": "2025-05-05T02:32:15.917Z"
   },
   {
    "duration": 154,
    "start_time": "2025-05-05T02:32:15.931Z"
   },
   {
    "duration": 903,
    "start_time": "2025-05-05T02:32:16.087Z"
   },
   {
    "duration": 17,
    "start_time": "2025-05-05T02:32:16.992Z"
   },
   {
    "duration": 384,
    "start_time": "2025-05-05T02:32:17.010Z"
   },
   {
    "duration": 58,
    "start_time": "2025-05-05T02:32:17.396Z"
   },
   {
    "duration": 251,
    "start_time": "2025-05-05T02:32:17.455Z"
   },
   {
    "duration": 29,
    "start_time": "2025-05-05T02:32:17.708Z"
   },
   {
    "duration": 92,
    "start_time": "2025-05-05T02:32:17.739Z"
   },
   {
    "duration": 26,
    "start_time": "2025-05-05T02:32:17.832Z"
   },
   {
    "duration": 33,
    "start_time": "2025-05-05T02:32:17.859Z"
   },
   {
    "duration": 43,
    "start_time": "2025-05-05T02:32:17.893Z"
   },
   {
    "duration": 19,
    "start_time": "2025-05-05T02:32:17.937Z"
   },
   {
    "duration": 64,
    "start_time": "2025-05-05T02:32:17.958Z"
   },
   {
    "duration": 7,
    "start_time": "2025-05-05T02:32:18.024Z"
   },
   {
    "duration": 30,
    "start_time": "2025-05-05T02:32:18.032Z"
   },
   {
    "duration": 19,
    "start_time": "2025-05-05T02:32:18.064Z"
   },
   {
    "duration": 9,
    "start_time": "2025-05-05T02:32:18.085Z"
   },
   {
    "duration": 8,
    "start_time": "2025-05-05T02:32:18.095Z"
   },
   {
    "duration": 23,
    "start_time": "2025-05-05T02:32:18.104Z"
   },
   {
    "duration": 106,
    "start_time": "2025-05-05T04:22:47.581Z"
   },
   {
    "duration": 10,
    "start_time": "2025-05-05T04:23:22.825Z"
   },
   {
    "duration": 8,
    "start_time": "2025-05-05T04:23:47.587Z"
   },
   {
    "duration": 7,
    "start_time": "2025-05-05T04:23:54.520Z"
   },
   {
    "duration": 682,
    "start_time": "2025-05-05T04:24:08.644Z"
   },
   {
    "duration": 27,
    "start_time": "2025-05-05T04:24:09.329Z"
   },
   {
    "duration": 17,
    "start_time": "2025-05-05T04:24:09.357Z"
   },
   {
    "duration": 13,
    "start_time": "2025-05-05T04:24:09.376Z"
   },
   {
    "duration": 17,
    "start_time": "2025-05-05T04:24:09.391Z"
   },
   {
    "duration": 8,
    "start_time": "2025-05-05T04:24:09.410Z"
   },
   {
    "duration": 12,
    "start_time": "2025-05-05T04:24:09.419Z"
   },
   {
    "duration": 13,
    "start_time": "2025-05-05T04:24:09.433Z"
   },
   {
    "duration": 5,
    "start_time": "2025-05-05T04:24:09.448Z"
   },
   {
    "duration": 13,
    "start_time": "2025-05-05T04:24:09.455Z"
   },
   {
    "duration": 105,
    "start_time": "2025-05-05T04:24:09.470Z"
   },
   {
    "duration": 20,
    "start_time": "2025-05-05T04:24:09.577Z"
   },
   {
    "duration": 11,
    "start_time": "2025-05-05T04:24:09.599Z"
   },
   {
    "duration": 17,
    "start_time": "2025-05-05T04:24:09.611Z"
   },
   {
    "duration": 34,
    "start_time": "2025-05-05T04:24:09.630Z"
   },
   {
    "duration": 226,
    "start_time": "2025-05-05T04:24:09.665Z"
   },
   {
    "duration": 134,
    "start_time": "2025-05-05T04:24:09.893Z"
   },
   {
    "duration": 8,
    "start_time": "2025-05-05T04:24:10.029Z"
   },
   {
    "duration": 68,
    "start_time": "2025-05-05T04:24:10.039Z"
   },
   {
    "duration": 182,
    "start_time": "2025-05-05T04:24:10.109Z"
   },
   {
    "duration": 14,
    "start_time": "2025-05-05T04:24:10.292Z"
   },
   {
    "duration": 8,
    "start_time": "2025-05-05T04:24:10.307Z"
   },
   {
    "duration": 12,
    "start_time": "2025-05-05T04:24:10.316Z"
   },
   {
    "duration": 23,
    "start_time": "2025-05-05T04:24:10.329Z"
   },
   {
    "duration": 12,
    "start_time": "2025-05-05T04:24:10.353Z"
   },
   {
    "duration": 520,
    "start_time": "2025-05-05T04:24:10.367Z"
   },
   {
    "duration": 20,
    "start_time": "2025-05-05T04:24:10.889Z"
   },
   {
    "duration": 1534,
    "start_time": "2025-05-05T04:24:10.914Z"
   },
   {
    "duration": 11,
    "start_time": "2025-05-05T04:24:12.450Z"
   },
   {
    "duration": 15,
    "start_time": "2025-05-05T04:24:12.463Z"
   },
   {
    "duration": 50,
    "start_time": "2025-05-05T04:24:12.480Z"
   },
   {
    "duration": 12,
    "start_time": "2025-05-05T04:24:12.532Z"
   },
   {
    "duration": 11,
    "start_time": "2025-05-05T04:24:12.545Z"
   },
   {
    "duration": 13,
    "start_time": "2025-05-05T04:24:12.557Z"
   },
   {
    "duration": 36,
    "start_time": "2025-05-05T04:24:12.572Z"
   },
   {
    "duration": 17,
    "start_time": "2025-05-05T04:24:12.610Z"
   },
   {
    "duration": 3,
    "start_time": "2025-05-05T04:24:12.629Z"
   },
   {
    "duration": 15,
    "start_time": "2025-05-05T04:24:12.633Z"
   },
   {
    "duration": 12,
    "start_time": "2025-05-05T04:24:12.649Z"
   },
   {
    "duration": 4,
    "start_time": "2025-05-05T04:24:12.662Z"
   },
   {
    "duration": 184,
    "start_time": "2025-05-05T04:24:12.667Z"
   },
   {
    "duration": 154,
    "start_time": "2025-05-05T04:24:12.853Z"
   },
   {
    "duration": 158,
    "start_time": "2025-05-05T04:24:13.009Z"
   },
   {
    "duration": 13,
    "start_time": "2025-05-05T04:24:13.169Z"
   },
   {
    "duration": 169,
    "start_time": "2025-05-05T04:24:13.183Z"
   },
   {
    "duration": 906,
    "start_time": "2025-05-05T04:24:13.354Z"
   },
   {
    "duration": 9,
    "start_time": "2025-05-05T04:24:14.262Z"
   },
   {
    "duration": 402,
    "start_time": "2025-05-05T04:24:14.273Z"
   },
   {
    "duration": 60,
    "start_time": "2025-05-05T04:24:14.676Z"
   },
   {
    "duration": 256,
    "start_time": "2025-05-05T04:24:14.738Z"
   },
   {
    "duration": 32,
    "start_time": "2025-05-05T04:24:14.996Z"
   },
   {
    "duration": 90,
    "start_time": "2025-05-05T04:24:15.030Z"
   },
   {
    "duration": 145,
    "start_time": "2025-05-05T04:24:15.122Z"
   },
   {
    "duration": 64,
    "start_time": "2025-05-05T04:24:15.269Z"
   },
   {
    "duration": 62,
    "start_time": "2025-05-05T04:24:15.334Z"
   },
   {
    "duration": 17,
    "start_time": "2025-05-05T04:24:15.398Z"
   },
   {
    "duration": 44,
    "start_time": "2025-05-05T04:24:15.417Z"
   },
   {
    "duration": 8,
    "start_time": "2025-05-05T04:24:15.462Z"
   },
   {
    "duration": 106,
    "start_time": "2025-05-05T04:24:15.472Z"
   },
   {
    "duration": 12,
    "start_time": "2025-05-05T04:24:15.580Z"
   },
   {
    "duration": 12,
    "start_time": "2025-05-05T04:24:15.594Z"
   },
   {
    "duration": 4,
    "start_time": "2025-05-05T04:24:15.608Z"
   },
   {
    "duration": 9,
    "start_time": "2025-05-05T04:24:15.613Z"
   },
   {
    "duration": 734,
    "start_time": "2025-05-05T04:26:06.188Z"
   },
   {
    "duration": 26,
    "start_time": "2025-05-05T04:26:06.924Z"
   },
   {
    "duration": 16,
    "start_time": "2025-05-05T04:26:06.952Z"
   },
   {
    "duration": 17,
    "start_time": "2025-05-05T04:26:06.970Z"
   },
   {
    "duration": 12,
    "start_time": "2025-05-05T04:26:06.989Z"
   },
   {
    "duration": 19,
    "start_time": "2025-05-05T04:26:07.003Z"
   },
   {
    "duration": 15,
    "start_time": "2025-05-05T04:26:07.024Z"
   },
   {
    "duration": 15,
    "start_time": "2025-05-05T04:26:07.040Z"
   },
   {
    "duration": 4,
    "start_time": "2025-05-05T04:26:07.057Z"
   },
   {
    "duration": 12,
    "start_time": "2025-05-05T04:26:07.064Z"
   },
   {
    "duration": 9,
    "start_time": "2025-05-05T04:26:07.077Z"
   },
   {
    "duration": 173,
    "start_time": "2025-05-05T04:26:07.088Z"
   },
   {
    "duration": 11,
    "start_time": "2025-05-05T04:26:07.263Z"
   },
   {
    "duration": 11,
    "start_time": "2025-05-05T04:26:07.275Z"
   },
   {
    "duration": 12,
    "start_time": "2025-05-05T04:26:07.288Z"
   },
   {
    "duration": 237,
    "start_time": "2025-05-05T04:26:07.301Z"
   },
   {
    "duration": 142,
    "start_time": "2025-05-05T04:26:07.540Z"
   },
   {
    "duration": 10,
    "start_time": "2025-05-05T04:26:07.683Z"
   },
   {
    "duration": 9,
    "start_time": "2025-05-05T04:26:07.705Z"
   },
   {
    "duration": 197,
    "start_time": "2025-05-05T04:26:07.716Z"
   },
   {
    "duration": 9,
    "start_time": "2025-05-05T04:26:07.915Z"
   },
   {
    "duration": 17,
    "start_time": "2025-05-05T04:26:07.926Z"
   },
   {
    "duration": 9,
    "start_time": "2025-05-05T04:26:07.945Z"
   },
   {
    "duration": 8,
    "start_time": "2025-05-05T04:26:07.956Z"
   },
   {
    "duration": 41,
    "start_time": "2025-05-05T04:26:07.966Z"
   },
   {
    "duration": 582,
    "start_time": "2025-05-05T04:26:08.009Z"
   },
   {
    "duration": 21,
    "start_time": "2025-05-05T04:26:08.593Z"
   },
   {
    "duration": 1835,
    "start_time": "2025-05-05T04:26:08.619Z"
   },
   {
    "duration": 10,
    "start_time": "2025-05-05T04:26:10.456Z"
   },
   {
    "duration": 20,
    "start_time": "2025-05-05T04:26:10.468Z"
   },
   {
    "duration": 40,
    "start_time": "2025-05-05T04:26:10.489Z"
   },
   {
    "duration": 12,
    "start_time": "2025-05-05T04:26:10.531Z"
   },
   {
    "duration": 12,
    "start_time": "2025-05-05T04:26:10.544Z"
   },
   {
    "duration": 8,
    "start_time": "2025-05-05T04:26:10.557Z"
   },
   {
    "duration": 39,
    "start_time": "2025-05-05T04:26:10.567Z"
   },
   {
    "duration": 18,
    "start_time": "2025-05-05T04:26:10.608Z"
   },
   {
    "duration": 3,
    "start_time": "2025-05-05T04:26:10.628Z"
   },
   {
    "duration": 23,
    "start_time": "2025-05-05T04:26:10.633Z"
   },
   {
    "duration": 11,
    "start_time": "2025-05-05T04:26:10.658Z"
   },
   {
    "duration": 7,
    "start_time": "2025-05-05T04:26:10.671Z"
   },
   {
    "duration": 169,
    "start_time": "2025-05-05T04:26:10.680Z"
   },
   {
    "duration": 155,
    "start_time": "2025-05-05T04:26:10.850Z"
   },
   {
    "duration": 155,
    "start_time": "2025-05-05T04:26:11.007Z"
   },
   {
    "duration": 12,
    "start_time": "2025-05-05T04:26:11.164Z"
   },
   {
    "duration": 183,
    "start_time": "2025-05-05T04:26:11.178Z"
   },
   {
    "duration": 912,
    "start_time": "2025-05-05T04:26:11.363Z"
   },
   {
    "duration": 9,
    "start_time": "2025-05-05T04:26:12.276Z"
   },
   {
    "duration": 423,
    "start_time": "2025-05-05T04:26:12.287Z"
   },
   {
    "duration": 52,
    "start_time": "2025-05-05T04:26:12.711Z"
   },
   {
    "duration": 248,
    "start_time": "2025-05-05T04:26:12.765Z"
   },
   {
    "duration": 29,
    "start_time": "2025-05-05T04:26:13.015Z"
   },
   {
    "duration": 34,
    "start_time": "2025-05-05T04:26:13.046Z"
   },
   {
    "duration": 42,
    "start_time": "2025-05-05T04:26:13.081Z"
   },
   {
    "duration": 142,
    "start_time": "2025-05-05T04:26:13.125Z"
   },
   {
    "duration": 42,
    "start_time": "2025-05-05T04:26:13.269Z"
   },
   {
    "duration": 19,
    "start_time": "2025-05-05T04:26:13.312Z"
   },
   {
    "duration": 45,
    "start_time": "2025-05-05T04:26:13.333Z"
   },
   {
    "duration": 26,
    "start_time": "2025-05-05T04:26:13.380Z"
   },
   {
    "duration": 3,
    "start_time": "2025-05-05T04:26:13.408Z"
   },
   {
    "duration": 6,
    "start_time": "2025-05-05T04:26:13.412Z"
   },
   {
    "duration": 29,
    "start_time": "2025-05-05T04:26:13.419Z"
   },
   {
    "duration": 6,
    "start_time": "2025-05-05T04:26:13.450Z"
   },
   {
    "duration": 10,
    "start_time": "2025-05-05T04:26:13.457Z"
   },
   {
    "duration": 6,
    "start_time": "2025-05-05T05:32:32.630Z"
   },
   {
    "duration": 7,
    "start_time": "2025-05-05T05:32:49.831Z"
   },
   {
    "duration": 9,
    "start_time": "2025-05-05T07:20:08.845Z"
   },
   {
    "duration": 9,
    "start_time": "2025-05-05T07:20:31.696Z"
   },
   {
    "duration": 10,
    "start_time": "2025-05-05T07:20:48.343Z"
   },
   {
    "duration": 13,
    "start_time": "2025-05-05T07:21:38.124Z"
   },
   {
    "duration": 149,
    "start_time": "2025-05-05T07:23:04.852Z"
   },
   {
    "duration": 10,
    "start_time": "2025-05-05T07:23:30.952Z"
   },
   {
    "duration": 6,
    "start_time": "2025-05-05T07:23:55.859Z"
   },
   {
    "duration": 66,
    "start_time": "2025-05-05T07:39:49.528Z"
   },
   {
    "duration": 0,
    "start_time": "2025-05-05T07:41:39.062Z"
   },
   {
    "duration": 14566,
    "start_time": "2025-05-05T07:41:53.537Z"
   },
   {
    "duration": 0,
    "start_time": "2025-05-05T07:42:08.107Z"
   },
   {
    "duration": 6,
    "start_time": "2025-05-05T07:42:20.278Z"
   },
   {
    "duration": 9,
    "start_time": "2025-05-05T07:42:24.445Z"
   },
   {
    "duration": 33587,
    "start_time": "2025-05-05T07:42:28.247Z"
   },
   {
    "duration": 43945,
    "start_time": "2025-05-05T07:43:13.112Z"
   },
   {
    "duration": 73770,
    "start_time": "2025-05-05T07:44:49.524Z"
   },
   {
    "duration": 339,
    "start_time": "2025-05-05T07:47:13.113Z"
   },
   {
    "duration": 319,
    "start_time": "2025-05-05T07:48:45.214Z"
   },
   {
    "duration": 347,
    "start_time": "2025-05-05T07:50:48.338Z"
   },
   {
    "duration": 3,
    "start_time": "2025-05-05T08:07:18.050Z"
   },
   {
    "duration": 5,
    "start_time": "2025-05-05T08:07:25.267Z"
   },
   {
    "duration": 63,
    "start_time": "2025-05-05T08:10:18.598Z"
   },
   {
    "duration": 68,
    "start_time": "2025-05-05T08:10:41.284Z"
   },
   {
    "duration": 64,
    "start_time": "2025-05-05T08:10:55.468Z"
   },
   {
    "duration": 1175,
    "start_time": "2025-05-05T08:48:12.738Z"
   },
   {
    "duration": 29,
    "start_time": "2025-05-05T08:48:13.915Z"
   },
   {
    "duration": 17,
    "start_time": "2025-05-05T08:48:13.947Z"
   },
   {
    "duration": 12,
    "start_time": "2025-05-05T08:48:13.966Z"
   },
   {
    "duration": 4,
    "start_time": "2025-05-05T08:48:13.980Z"
   },
   {
    "duration": 7,
    "start_time": "2025-05-05T08:48:14.006Z"
   },
   {
    "duration": 100,
    "start_time": "2025-05-05T08:48:14.014Z"
   },
   {
    "duration": 13,
    "start_time": "2025-05-05T08:48:14.116Z"
   },
   {
    "duration": 4,
    "start_time": "2025-05-05T08:48:14.131Z"
   },
   {
    "duration": 9,
    "start_time": "2025-05-05T08:48:14.137Z"
   },
   {
    "duration": 6,
    "start_time": "2025-05-05T08:48:14.148Z"
   },
   {
    "duration": 123,
    "start_time": "2025-05-05T08:48:14.155Z"
   },
   {
    "duration": 17,
    "start_time": "2025-05-05T08:48:14.280Z"
   },
   {
    "duration": 13,
    "start_time": "2025-05-05T08:48:14.298Z"
   },
   {
    "duration": 21,
    "start_time": "2025-05-05T08:48:14.312Z"
   },
   {
    "duration": 239,
    "start_time": "2025-05-05T08:48:14.335Z"
   },
   {
    "duration": 138,
    "start_time": "2025-05-05T08:48:14.576Z"
   },
   {
    "duration": 8,
    "start_time": "2025-05-05T08:48:14.716Z"
   },
   {
    "duration": 12,
    "start_time": "2025-05-05T08:48:14.725Z"
   },
   {
    "duration": 226,
    "start_time": "2025-05-05T08:48:14.739Z"
   },
   {
    "duration": 13,
    "start_time": "2025-05-05T08:48:14.967Z"
   },
   {
    "duration": 27,
    "start_time": "2025-05-05T08:48:14.982Z"
   },
   {
    "duration": 28,
    "start_time": "2025-05-05T08:48:15.010Z"
   },
   {
    "duration": 120,
    "start_time": "2025-05-05T08:48:15.040Z"
   },
   {
    "duration": 22,
    "start_time": "2025-05-05T08:48:15.162Z"
   },
   {
    "duration": 168,
    "start_time": "2025-05-05T08:48:15.186Z"
   },
   {
    "duration": 56,
    "start_time": "2025-05-05T08:48:15.356Z"
   },
   {
    "duration": 31,
    "start_time": "2025-05-05T08:48:15.416Z"
   },
   {
    "duration": 345,
    "start_time": "2025-05-05T08:48:15.449Z"
   },
   {
    "duration": 354,
    "start_time": "2025-05-05T08:48:15.795Z"
   },
   {
    "duration": 1611,
    "start_time": "2025-05-05T08:48:16.151Z"
   },
   {
    "duration": 11,
    "start_time": "2025-05-05T08:48:17.763Z"
   },
   {
    "duration": 31,
    "start_time": "2025-05-05T08:48:17.776Z"
   },
   {
    "duration": 46,
    "start_time": "2025-05-05T08:48:17.808Z"
   },
   {
    "duration": 11,
    "start_time": "2025-05-05T08:48:17.856Z"
   },
   {
    "duration": 9,
    "start_time": "2025-05-05T08:48:17.868Z"
   },
   {
    "duration": 26,
    "start_time": "2025-05-05T08:48:17.879Z"
   },
   {
    "duration": 29,
    "start_time": "2025-05-05T08:48:17.906Z"
   },
   {
    "duration": 17,
    "start_time": "2025-05-05T08:48:17.937Z"
   },
   {
    "duration": 4,
    "start_time": "2025-05-05T08:48:17.955Z"
   },
   {
    "duration": 32,
    "start_time": "2025-05-05T08:48:17.961Z"
   },
   {
    "duration": 12,
    "start_time": "2025-05-05T08:48:17.995Z"
   },
   {
    "duration": 94,
    "start_time": "2025-05-05T08:48:18.008Z"
   },
   {
    "duration": 151,
    "start_time": "2025-05-05T08:48:18.103Z"
   },
   {
    "duration": 234,
    "start_time": "2025-05-05T08:48:18.256Z"
   },
   {
    "duration": 157,
    "start_time": "2025-05-05T08:48:18.492Z"
   },
   {
    "duration": 14,
    "start_time": "2025-05-05T08:48:18.650Z"
   },
   {
    "duration": 136,
    "start_time": "2025-05-05T08:48:18.665Z"
   },
   {
    "duration": 950,
    "start_time": "2025-05-05T08:48:18.805Z"
   },
   {
    "duration": 9,
    "start_time": "2025-05-05T08:48:19.756Z"
   },
   {
    "duration": 418,
    "start_time": "2025-05-05T08:48:19.767Z"
   },
   {
    "duration": 52,
    "start_time": "2025-05-05T08:48:20.186Z"
   },
   {
    "duration": 299,
    "start_time": "2025-05-05T08:48:20.239Z"
   },
   {
    "duration": 29,
    "start_time": "2025-05-05T08:48:20.540Z"
   },
   {
    "duration": 43,
    "start_time": "2025-05-05T08:48:20.571Z"
   },
   {
    "duration": 30,
    "start_time": "2025-05-05T08:48:20.615Z"
   },
   {
    "duration": 24,
    "start_time": "2025-05-05T08:48:20.647Z"
   },
   {
    "duration": 54,
    "start_time": "2025-05-05T08:48:20.672Z"
   },
   {
    "duration": 19,
    "start_time": "2025-05-05T08:48:20.727Z"
   },
   {
    "duration": 60,
    "start_time": "2025-05-05T08:48:20.747Z"
   },
   {
    "duration": 8,
    "start_time": "2025-05-05T08:48:20.809Z"
   },
   {
    "duration": 38,
    "start_time": "2025-05-05T08:48:20.819Z"
   },
   {
    "duration": 17,
    "start_time": "2025-05-05T08:48:20.859Z"
   },
   {
    "duration": 13,
    "start_time": "2025-05-05T08:48:20.878Z"
   },
   {
    "duration": 13,
    "start_time": "2025-05-05T08:48:20.893Z"
   },
   {
    "duration": 29,
    "start_time": "2025-05-05T08:48:20.907Z"
   },
   {
    "duration": 1148,
    "start_time": "2025-05-05T14:23:33.270Z"
   },
   {
    "duration": 26,
    "start_time": "2025-05-05T14:23:34.420Z"
   },
   {
    "duration": 15,
    "start_time": "2025-05-05T14:23:34.447Z"
   },
   {
    "duration": 16,
    "start_time": "2025-05-05T14:23:34.464Z"
   },
   {
    "duration": 42,
    "start_time": "2025-05-05T14:23:34.482Z"
   },
   {
    "duration": 23,
    "start_time": "2025-05-05T14:23:34.526Z"
   },
   {
    "duration": 13,
    "start_time": "2025-05-05T14:23:34.551Z"
   },
   {
    "duration": 12,
    "start_time": "2025-05-05T14:23:34.565Z"
   },
   {
    "duration": 12,
    "start_time": "2025-05-05T14:23:34.579Z"
   },
   {
    "duration": 32,
    "start_time": "2025-05-05T14:23:34.593Z"
   },
   {
    "duration": 10,
    "start_time": "2025-05-05T14:23:34.627Z"
   },
   {
    "duration": 46,
    "start_time": "2025-05-05T14:23:34.639Z"
   },
   {
    "duration": 16,
    "start_time": "2025-05-05T14:23:34.687Z"
   },
   {
    "duration": 31,
    "start_time": "2025-05-05T14:23:34.707Z"
   },
   {
    "duration": 23,
    "start_time": "2025-05-05T14:23:34.740Z"
   },
   {
    "duration": 236,
    "start_time": "2025-05-05T14:23:34.765Z"
   },
   {
    "duration": 131,
    "start_time": "2025-05-05T14:23:35.003Z"
   },
   {
    "duration": 10,
    "start_time": "2025-05-05T14:23:35.136Z"
   },
   {
    "duration": 8,
    "start_time": "2025-05-05T14:23:35.147Z"
   },
   {
    "duration": 191,
    "start_time": "2025-05-05T14:23:35.156Z"
   },
   {
    "duration": 9,
    "start_time": "2025-05-05T14:23:35.349Z"
   },
   {
    "duration": 61,
    "start_time": "2025-05-05T14:23:35.359Z"
   },
   {
    "duration": 14,
    "start_time": "2025-05-05T14:23:35.421Z"
   },
   {
    "duration": 31,
    "start_time": "2025-05-05T14:23:35.437Z"
   },
   {
    "duration": 31,
    "start_time": "2025-05-05T14:23:35.469Z"
   },
   {
    "duration": 21,
    "start_time": "2025-05-05T14:23:35.502Z"
   },
   {
    "duration": 90,
    "start_time": "2025-05-05T14:23:35.525Z"
   },
   {
    "duration": 74,
    "start_time": "2025-05-05T14:23:35.617Z"
   },
   {
    "duration": 351,
    "start_time": "2025-05-05T14:23:35.692Z"
   },
   {
    "duration": 311,
    "start_time": "2025-05-05T14:23:36.044Z"
   },
   {
    "duration": 1466,
    "start_time": "2025-05-05T14:23:36.357Z"
   },
   {
    "duration": 16,
    "start_time": "2025-05-05T14:23:37.824Z"
   },
   {
    "duration": 24,
    "start_time": "2025-05-05T14:23:37.842Z"
   },
   {
    "duration": 30,
    "start_time": "2025-05-05T14:23:37.868Z"
   },
   {
    "duration": 12,
    "start_time": "2025-05-05T14:23:37.900Z"
   },
   {
    "duration": 34,
    "start_time": "2025-05-05T14:23:37.913Z"
   },
   {
    "duration": 11,
    "start_time": "2025-05-05T14:23:37.949Z"
   },
   {
    "duration": 16,
    "start_time": "2025-05-05T14:23:37.962Z"
   },
   {
    "duration": 18,
    "start_time": "2025-05-05T14:23:37.981Z"
   },
   {
    "duration": 38,
    "start_time": "2025-05-05T14:23:38.002Z"
   },
   {
    "duration": 14,
    "start_time": "2025-05-05T14:23:38.045Z"
   },
   {
    "duration": 13,
    "start_time": "2025-05-05T14:23:38.060Z"
   },
   {
    "duration": 4,
    "start_time": "2025-05-05T14:23:38.075Z"
   },
   {
    "duration": 173,
    "start_time": "2025-05-05T14:23:38.081Z"
   },
   {
    "duration": 224,
    "start_time": "2025-05-05T14:23:38.255Z"
   },
   {
    "duration": 146,
    "start_time": "2025-05-05T14:23:38.481Z"
   },
   {
    "duration": 21,
    "start_time": "2025-05-05T14:23:38.629Z"
   },
   {
    "duration": 124,
    "start_time": "2025-05-05T14:23:38.651Z"
   },
   {
    "duration": 884,
    "start_time": "2025-05-05T14:23:38.776Z"
   },
   {
    "duration": 8,
    "start_time": "2025-05-05T14:23:39.662Z"
   },
   {
    "duration": 388,
    "start_time": "2025-05-05T14:23:39.671Z"
   },
   {
    "duration": 52,
    "start_time": "2025-05-05T14:23:40.061Z"
   },
   {
    "duration": 251,
    "start_time": "2025-05-05T14:23:40.115Z"
   },
   {
    "duration": 29,
    "start_time": "2025-05-05T14:23:40.368Z"
   },
   {
    "duration": 24,
    "start_time": "2025-05-05T14:23:40.398Z"
   },
   {
    "duration": 26,
    "start_time": "2025-05-05T14:23:40.439Z"
   },
   {
    "duration": 23,
    "start_time": "2025-05-05T14:23:40.467Z"
   },
   {
    "duration": 62,
    "start_time": "2025-05-05T14:23:40.491Z"
   },
   {
    "duration": 17,
    "start_time": "2025-05-05T14:23:40.555Z"
   },
   {
    "duration": 42,
    "start_time": "2025-05-05T14:23:40.574Z"
   },
   {
    "duration": 8,
    "start_time": "2025-05-05T14:23:40.639Z"
   },
   {
    "duration": 10,
    "start_time": "2025-05-05T14:23:40.649Z"
   },
   {
    "duration": 7,
    "start_time": "2025-05-05T14:23:40.660Z"
   },
   {
    "duration": 7,
    "start_time": "2025-05-05T14:23:40.668Z"
   },
   {
    "duration": 20,
    "start_time": "2025-05-05T14:23:40.677Z"
   },
   {
    "duration": 13,
    "start_time": "2025-05-05T14:23:40.698Z"
   },
   {
    "duration": 1660,
    "start_time": "2025-05-05T16:38:02.524Z"
   },
   {
    "duration": 90,
    "start_time": "2025-05-05T16:38:04.187Z"
   },
   {
    "duration": 24,
    "start_time": "2025-05-05T16:38:04.279Z"
   },
   {
    "duration": 23,
    "start_time": "2025-05-05T16:38:04.305Z"
   },
   {
    "duration": 5,
    "start_time": "2025-05-05T16:38:04.331Z"
   },
   {
    "duration": 26,
    "start_time": "2025-05-05T16:38:04.338Z"
   },
   {
    "duration": 11,
    "start_time": "2025-05-05T16:38:04.367Z"
   },
   {
    "duration": 59,
    "start_time": "2025-05-05T16:38:04.380Z"
   },
   {
    "duration": 9,
    "start_time": "2025-05-05T16:38:04.441Z"
   },
   {
    "duration": 23,
    "start_time": "2025-05-05T16:38:04.452Z"
   },
   {
    "duration": 13,
    "start_time": "2025-05-05T16:38:04.477Z"
   },
   {
    "duration": 12,
    "start_time": "2025-05-05T16:38:04.492Z"
   },
   {
    "duration": 53,
    "start_time": "2025-05-05T16:38:04.505Z"
   },
   {
    "duration": 16,
    "start_time": "2025-05-05T16:38:04.564Z"
   },
   {
    "duration": 14,
    "start_time": "2025-05-05T16:38:04.583Z"
   },
   {
    "duration": 285,
    "start_time": "2025-05-05T16:38:04.599Z"
   },
   {
    "duration": 167,
    "start_time": "2025-05-05T16:38:04.886Z"
   },
   {
    "duration": 10,
    "start_time": "2025-05-05T16:38:05.055Z"
   },
   {
    "duration": 33,
    "start_time": "2025-05-05T16:38:05.066Z"
   },
   {
    "duration": 222,
    "start_time": "2025-05-05T16:38:05.101Z"
   },
   {
    "duration": 15,
    "start_time": "2025-05-05T16:38:05.324Z"
   },
   {
    "duration": 98,
    "start_time": "2025-05-05T16:38:05.343Z"
   },
   {
    "duration": 31,
    "start_time": "2025-05-05T16:38:05.443Z"
   },
   {
    "duration": 10,
    "start_time": "2025-05-05T16:38:05.476Z"
   },
   {
    "duration": 17,
    "start_time": "2025-05-05T16:38:05.489Z"
   },
   {
    "duration": 19,
    "start_time": "2025-05-05T16:38:05.508Z"
   },
   {
    "duration": 46,
    "start_time": "2025-05-05T16:38:05.531Z"
   },
   {
    "duration": 104,
    "start_time": "2025-05-05T16:38:05.580Z"
   },
   {
    "duration": 398,
    "start_time": "2025-05-05T16:38:05.686Z"
   },
   {
    "duration": 406,
    "start_time": "2025-05-05T16:38:06.086Z"
   },
   {
    "duration": 1874,
    "start_time": "2025-05-05T16:38:06.494Z"
   },
   {
    "duration": 18,
    "start_time": "2025-05-05T16:38:08.370Z"
   },
   {
    "duration": 46,
    "start_time": "2025-05-05T16:38:08.390Z"
   },
   {
    "duration": 32,
    "start_time": "2025-05-05T16:38:08.444Z"
   },
   {
    "duration": 12,
    "start_time": "2025-05-05T16:38:08.478Z"
   },
   {
    "duration": 33,
    "start_time": "2025-05-05T16:38:08.492Z"
   },
   {
    "duration": 67,
    "start_time": "2025-05-05T16:38:08.534Z"
   },
   {
    "duration": 47,
    "start_time": "2025-05-05T16:38:08.604Z"
   },
   {
    "duration": 24,
    "start_time": "2025-05-05T16:38:08.653Z"
   },
   {
    "duration": 5,
    "start_time": "2025-05-05T16:38:08.679Z"
   },
   {
    "duration": 134,
    "start_time": "2025-05-05T16:38:08.690Z"
   },
   {
    "duration": 27,
    "start_time": "2025-05-05T16:38:08.826Z"
   },
   {
    "duration": 6,
    "start_time": "2025-05-05T16:38:08.854Z"
   },
   {
    "duration": 174,
    "start_time": "2025-05-05T16:38:08.862Z"
   },
   {
    "duration": 257,
    "start_time": "2025-05-05T16:38:09.038Z"
   },
   {
    "duration": 183,
    "start_time": "2025-05-05T16:38:09.297Z"
   },
   {
    "duration": 55,
    "start_time": "2025-05-05T16:38:09.482Z"
   },
   {
    "duration": 148,
    "start_time": "2025-05-05T16:38:09.540Z"
   },
   {
    "duration": 1204,
    "start_time": "2025-05-05T16:38:09.690Z"
   },
   {
    "duration": 17,
    "start_time": "2025-05-05T16:38:10.896Z"
   },
   {
    "duration": 511,
    "start_time": "2025-05-05T16:38:10.915Z"
   },
   {
    "duration": 61,
    "start_time": "2025-05-05T16:38:11.428Z"
   },
   {
    "duration": 295,
    "start_time": "2025-05-05T16:38:11.491Z"
   },
   {
    "duration": 61,
    "start_time": "2025-05-05T16:38:11.788Z"
   },
   {
    "duration": 30,
    "start_time": "2025-05-05T16:38:11.851Z"
   },
   {
    "duration": 54,
    "start_time": "2025-05-05T16:38:11.884Z"
   },
   {
    "duration": 35,
    "start_time": "2025-05-05T16:38:11.940Z"
   },
   {
    "duration": 73,
    "start_time": "2025-05-05T16:38:11.977Z"
   },
   {
    "duration": 20,
    "start_time": "2025-05-05T16:38:12.052Z"
   },
   {
    "duration": 83,
    "start_time": "2025-05-05T16:38:12.074Z"
   },
   {
    "duration": 9,
    "start_time": "2025-05-05T16:38:12.159Z"
   },
   {
    "duration": 5,
    "start_time": "2025-05-05T16:38:12.169Z"
   },
   {
    "duration": 46,
    "start_time": "2025-05-05T16:38:12.175Z"
   },
   {
    "duration": 15,
    "start_time": "2025-05-05T16:38:12.223Z"
   },
   {
    "duration": 8,
    "start_time": "2025-05-05T16:38:12.241Z"
   },
   {
    "duration": 9,
    "start_time": "2025-05-05T16:38:12.251Z"
   }
  ],
  "colab": {
   "provenance": [],
   "toc_visible": true
  },
  "kernelspec": {
   "display_name": "Python 3 (ipykernel)",
   "language": "python",
   "name": "python3"
  },
  "language_info": {
   "codemirror_mode": {
    "name": "ipython",
    "version": 3
   },
   "file_extension": ".py",
   "mimetype": "text/x-python",
   "name": "python",
   "nbconvert_exporter": "python",
   "pygments_lexer": "ipython3",
   "version": "3.12.7"
  },
  "toc": {
   "base_numbering": 1,
   "nav_menu": {},
   "number_sections": true,
   "sideBar": true,
   "skip_h1_title": true,
   "title_cell": "Table of Contents",
   "title_sidebar": "Contents",
   "toc_cell": false,
   "toc_position": {},
   "toc_section_display": true,
   "toc_window_display": true
  }
 },
 "nbformat": 4,
 "nbformat_minor": 5
}
